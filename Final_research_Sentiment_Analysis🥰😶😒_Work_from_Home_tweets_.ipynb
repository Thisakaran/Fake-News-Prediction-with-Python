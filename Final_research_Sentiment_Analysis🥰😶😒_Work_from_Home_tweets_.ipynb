{
  "nbformat": 4,
  "nbformat_minor": 0,
  "metadata": {
    "colab": {
      "provenance": [],
      "toc_visible": true,
      "authorship_tag": "ABX9TyNnqiRd5BtG52jfxDa+n1m6",
      "include_colab_link": true
    },
    "kernelspec": {
      "name": "python3",
      "display_name": "Python 3"
    },
    "language_info": {
      "name": "python"
    }
  },
  "cells": [
    {
      "cell_type": "markdown",
      "metadata": {
        "id": "view-in-github",
        "colab_type": "text"
      },
      "source": [
        "<a href=\"https://colab.research.google.com/github/Thisakaran/Fake-News-Prediction-with-Python/blob/main/Final_research_Sentiment_Analysis%F0%9F%A5%B0%F0%9F%98%B6%F0%9F%98%92_Work_from_Home_tweets_.ipynb\" target=\"_parent\"><img src=\"https://colab.research.google.com/assets/colab-badge.svg\" alt=\"Open In Colab\"/></a>"
      ]
    },
    {
      "cell_type": "markdown",
      "source": [
        "# **Effectiveness of Work from Home after the Covid pandemic**"
      ],
      "metadata": {
        "id": "Z3nOEVQc9_JE"
      }
    },
    {
      "cell_type": "markdown",
      "source": [
        "**Student Name:Thisakaran Rasalingam**\n",
        "\n",
        "**Student No :CT/2017/066**\n",
        "\n",
        "**Supervisor Name:Mudita rangani Tissera**"
      ],
      "metadata": {
        "id": "rhQZ3sKg-EHj"
      }
    },
    {
      "cell_type": "markdown",
      "source": [
        "*Thisakaran Rasalingam | Department of software engineering | FCT | University of Kelaniya*"
      ],
      "metadata": {
        "id": "YIwD6p9DfG34"
      }
    },
    {
      "cell_type": "markdown",
      "source": [
        "**Define the problem**"
      ],
      "metadata": {
        "id": "dKMvWSoNHVqo"
      }
    },
    {
      "cell_type": "markdown",
      "source": [
        "***Topic:-*** \"Effectiveness of work from home after the Covid-19 pandemic by using NLP/ML techniques \""
      ],
      "metadata": {
        "id": "_JKdQb4yTX-k"
      }
    },
    {
      "cell_type": "markdown",
      "source": [
        "*My steps for achieve this sentiment anlaysis:*\n",
        "\n",
        "1.Get data from twitter API.\n",
        "\n",
        "2.After getting data then some EAD analysis.\n",
        "\n",
        "3.Preprossing techniques.\n",
        "\n",
        "4.Use NLP sentiment polarity method and create labeling.\n",
        "\n",
        "5.Split the Data into three parts such as Traning, developing and testing.\n",
        "\n",
        "6.Feature Extraction and feature engineering.\n",
        "\n",
        "7.Develop a Sentiment Analysis Model.\n",
        "\n",
        "8.Algorithm Selection.\n",
        "\n",
        "9.Fine-tune and Validate the Model.\n",
        "\n",
        "10.four-fold pattern method.\n",
        "\n",
        "11.Fine-tune and Validate the Model.\n",
        "\n",
        "12.Evaluate Model Performance.\n",
        "\n",
        "13.Analyze and Interpret the Results.\n",
        "\n",
        "14.Visualization.\n",
        "\n",
        "15.Modal deployment."
      ],
      "metadata": {
        "id": "Wt3SIkAmTrkb"
      }
    },
    {
      "cell_type": "markdown",
      "source": [
        "# **Get data from Twitter ✈ :**"
      ],
      "metadata": {
        "id": "9AJnu0AOHd3v"
      }
    },
    {
      "cell_type": "markdown",
      "source": [
        "**IMPORT NECESSARY LIBRARIES**"
      ],
      "metadata": {
        "id": "sB1IgE6vX49C"
      }
    },
    {
      "cell_type": "code",
      "source": [
        "import tweepy\n",
        "import pandas as pd\n",
        "import numpy as np\n",
        "import re\n",
        "import nltk\n",
        "from nltk.corpus import stopwords\n",
        "from nltk.tokenize import word_tokenize\n",
        "from nltk.stem import WordNetLemmatizer\n",
        "from gensim import corpora\n",
        "from gensim.models import LdaModel\n",
        "from sklearn.feature_extraction.text import TfidfVectorizer\n",
        "from sklearn.model_selection import train_test_split\n",
        "from sklearn.metrics import accuracy_score\n",
        "from sklearn.naive_bayes import MultinomialNB\n",
        "from sklearn.svm import SVC\n",
        "from sklearn.linear_model import LogisticRegression\n",
        "import matplotlib.pyplot as plt\n",
        "\n",
        "from nltk.sentiment import SentimentIntensityAnalyzer\n",
        "import matplotlib.pyplot as plt\n",
        "import seaborn as sns\n",
        "import folium\n",
        "from geopy.geocoders import Nominatim\n",
        "import csv\n",
        "# Download nltk resources\n",
        "nltk.download('vader_lexicon')\n"
      ],
      "metadata": {
        "colab": {
          "base_uri": "https://localhost:8080/"
        },
        "id": "tORV8xhzX8my",
        "outputId": "3c5c0886-51fd-4c55-8cea-fec8a7fb25a8"
      },
      "execution_count": null,
      "outputs": [
        {
          "output_type": "stream",
          "name": "stderr",
          "text": [
            "[nltk_data] Downloading package vader_lexicon to /root/nltk_data...\n",
            "[nltk_data]   Package vader_lexicon is already up-to-date!\n"
          ]
        },
        {
          "output_type": "execute_result",
          "data": {
            "text/plain": [
              "True"
            ]
          },
          "metadata": {},
          "execution_count": 3
        }
      ]
    },
    {
      "cell_type": "code",
      "source": [
        "#Get the real tweets\n",
        "import tweepy\n",
        "# Enter your Twitter API credentials\n",
        "consumer_key = \"nyRAYIhYId0TD7VP3dSvMppwp\"\n",
        "consumer_secret = \"LP7G4ssjeTXFyEFLdhjCtXcbb6DVbT4f3qtk0qhsOzHAeFZLds\"\n",
        "access_token = \"902730858746060805-xD2vMKeh7TRScmAdo5JKAkeTTs3Se0v\"\n",
        "access_token_secret = \"gOCTuFXH01nRkDjlasvIiyyibUDq4KkyU9tMSrT99MhrT\"\n",
        "\n",
        "# Authenticate with Twitter API\n",
        "auth = tweepy.OAuthHandler(consumer_key, consumer_secret)\n",
        "auth.set_access_token(access_token, access_token_secret)\n",
        "\n",
        "# Create the API object\n",
        "api = tweepy.API(auth, wait_on_rate_limit=True)\n",
        "\n",
        "# Set the hashtags, date range, and number of tweets to collect\n",
        "hashtags = [\"WFH\", \"WorkFromHome\", \"RemoteWork\",\"Covid-19\"]\n",
        "num_tweets = 15000\n",
        "# start_date = \"2022-01-07\"\n",
        "end_date = \"2023-07-09\"\n",
        "\n",
        "tweet_list = []\n",
        "for hashtag in hashtags:\n",
        "    tweets = api.search_tweets(q=f\"#{hashtag}\", lang='en', count=num_tweets,tweet_mode='extended',until=end_date)\n",
        "    for tweet in tweets:\n",
        "        tweet_data = {\n",
        "            'tweet_id': tweet.id,\n",
        "            'tweet_text': tweet.full_text,\n",
        "            'location': tweet.user.location,''\n",
        "            'created_date': tweet.created_at\n",
        "        }\n",
        "        tweet_list.append(tweet_data)\n",
        "\n",
        "df = pd.DataFrame(tweet_list)"
      ],
      "metadata": {
        "id": "k8q7arjodbn0"
      },
      "execution_count": null,
      "outputs": []
    },
    {
      "cell_type": "code",
      "source": [
        "from google.colab import files\n",
        "uploaded = files.upload()"
      ],
      "metadata": {
        "colab": {
          "base_uri": "https://localhost:8080/",
          "height": 73
        },
        "id": "FmNQSJMXdbY2",
        "outputId": "6ad4e35c-5759-446e-ac2f-197cac386958"
      },
      "execution_count": null,
      "outputs": [
        {
          "output_type": "display_data",
          "data": {
            "text/plain": [
              "<IPython.core.display.HTML object>"
            ],
            "text/html": [
              "\n",
              "     <input type=\"file\" id=\"files-25f1077c-2240-47e2-93f1-d3db0bf6269c\" name=\"files[]\" multiple disabled\n",
              "        style=\"border:none\" />\n",
              "     <output id=\"result-25f1077c-2240-47e2-93f1-d3db0bf6269c\">\n",
              "      Upload widget is only available when the cell has been executed in the\n",
              "      current browser session. Please rerun this cell to enable.\n",
              "      </output>\n",
              "      <script>// Copyright 2017 Google LLC\n",
              "//\n",
              "// Licensed under the Apache License, Version 2.0 (the \"License\");\n",
              "// you may not use this file except in compliance with the License.\n",
              "// You may obtain a copy of the License at\n",
              "//\n",
              "//      http://www.apache.org/licenses/LICENSE-2.0\n",
              "//\n",
              "// Unless required by applicable law or agreed to in writing, software\n",
              "// distributed under the License is distributed on an \"AS IS\" BASIS,\n",
              "// WITHOUT WARRANTIES OR CONDITIONS OF ANY KIND, either express or implied.\n",
              "// See the License for the specific language governing permissions and\n",
              "// limitations under the License.\n",
              "\n",
              "/**\n",
              " * @fileoverview Helpers for google.colab Python module.\n",
              " */\n",
              "(function(scope) {\n",
              "function span(text, styleAttributes = {}) {\n",
              "  const element = document.createElement('span');\n",
              "  element.textContent = text;\n",
              "  for (const key of Object.keys(styleAttributes)) {\n",
              "    element.style[key] = styleAttributes[key];\n",
              "  }\n",
              "  return element;\n",
              "}\n",
              "\n",
              "// Max number of bytes which will be uploaded at a time.\n",
              "const MAX_PAYLOAD_SIZE = 100 * 1024;\n",
              "\n",
              "function _uploadFiles(inputId, outputId) {\n",
              "  const steps = uploadFilesStep(inputId, outputId);\n",
              "  const outputElement = document.getElementById(outputId);\n",
              "  // Cache steps on the outputElement to make it available for the next call\n",
              "  // to uploadFilesContinue from Python.\n",
              "  outputElement.steps = steps;\n",
              "\n",
              "  return _uploadFilesContinue(outputId);\n",
              "}\n",
              "\n",
              "// This is roughly an async generator (not supported in the browser yet),\n",
              "// where there are multiple asynchronous steps and the Python side is going\n",
              "// to poll for completion of each step.\n",
              "// This uses a Promise to block the python side on completion of each step,\n",
              "// then passes the result of the previous step as the input to the next step.\n",
              "function _uploadFilesContinue(outputId) {\n",
              "  const outputElement = document.getElementById(outputId);\n",
              "  const steps = outputElement.steps;\n",
              "\n",
              "  const next = steps.next(outputElement.lastPromiseValue);\n",
              "  return Promise.resolve(next.value.promise).then((value) => {\n",
              "    // Cache the last promise value to make it available to the next\n",
              "    // step of the generator.\n",
              "    outputElement.lastPromiseValue = value;\n",
              "    return next.value.response;\n",
              "  });\n",
              "}\n",
              "\n",
              "/**\n",
              " * Generator function which is called between each async step of the upload\n",
              " * process.\n",
              " * @param {string} inputId Element ID of the input file picker element.\n",
              " * @param {string} outputId Element ID of the output display.\n",
              " * @return {!Iterable<!Object>} Iterable of next steps.\n",
              " */\n",
              "function* uploadFilesStep(inputId, outputId) {\n",
              "  const inputElement = document.getElementById(inputId);\n",
              "  inputElement.disabled = false;\n",
              "\n",
              "  const outputElement = document.getElementById(outputId);\n",
              "  outputElement.innerHTML = '';\n",
              "\n",
              "  const pickedPromise = new Promise((resolve) => {\n",
              "    inputElement.addEventListener('change', (e) => {\n",
              "      resolve(e.target.files);\n",
              "    });\n",
              "  });\n",
              "\n",
              "  const cancel = document.createElement('button');\n",
              "  inputElement.parentElement.appendChild(cancel);\n",
              "  cancel.textContent = 'Cancel upload';\n",
              "  const cancelPromise = new Promise((resolve) => {\n",
              "    cancel.onclick = () => {\n",
              "      resolve(null);\n",
              "    };\n",
              "  });\n",
              "\n",
              "  // Wait for the user to pick the files.\n",
              "  const files = yield {\n",
              "    promise: Promise.race([pickedPromise, cancelPromise]),\n",
              "    response: {\n",
              "      action: 'starting',\n",
              "    }\n",
              "  };\n",
              "\n",
              "  cancel.remove();\n",
              "\n",
              "  // Disable the input element since further picks are not allowed.\n",
              "  inputElement.disabled = true;\n",
              "\n",
              "  if (!files) {\n",
              "    return {\n",
              "      response: {\n",
              "        action: 'complete',\n",
              "      }\n",
              "    };\n",
              "  }\n",
              "\n",
              "  for (const file of files) {\n",
              "    const li = document.createElement('li');\n",
              "    li.append(span(file.name, {fontWeight: 'bold'}));\n",
              "    li.append(span(\n",
              "        `(${file.type || 'n/a'}) - ${file.size} bytes, ` +\n",
              "        `last modified: ${\n",
              "            file.lastModifiedDate ? file.lastModifiedDate.toLocaleDateString() :\n",
              "                                    'n/a'} - `));\n",
              "    const percent = span('0% done');\n",
              "    li.appendChild(percent);\n",
              "\n",
              "    outputElement.appendChild(li);\n",
              "\n",
              "    const fileDataPromise = new Promise((resolve) => {\n",
              "      const reader = new FileReader();\n",
              "      reader.onload = (e) => {\n",
              "        resolve(e.target.result);\n",
              "      };\n",
              "      reader.readAsArrayBuffer(file);\n",
              "    });\n",
              "    // Wait for the data to be ready.\n",
              "    let fileData = yield {\n",
              "      promise: fileDataPromise,\n",
              "      response: {\n",
              "        action: 'continue',\n",
              "      }\n",
              "    };\n",
              "\n",
              "    // Use a chunked sending to avoid message size limits. See b/62115660.\n",
              "    let position = 0;\n",
              "    do {\n",
              "      const length = Math.min(fileData.byteLength - position, MAX_PAYLOAD_SIZE);\n",
              "      const chunk = new Uint8Array(fileData, position, length);\n",
              "      position += length;\n",
              "\n",
              "      const base64 = btoa(String.fromCharCode.apply(null, chunk));\n",
              "      yield {\n",
              "        response: {\n",
              "          action: 'append',\n",
              "          file: file.name,\n",
              "          data: base64,\n",
              "        },\n",
              "      };\n",
              "\n",
              "      let percentDone = fileData.byteLength === 0 ?\n",
              "          100 :\n",
              "          Math.round((position / fileData.byteLength) * 100);\n",
              "      percent.textContent = `${percentDone}% done`;\n",
              "\n",
              "    } while (position < fileData.byteLength);\n",
              "  }\n",
              "\n",
              "  // All done.\n",
              "  yield {\n",
              "    response: {\n",
              "      action: 'complete',\n",
              "    }\n",
              "  };\n",
              "}\n",
              "\n",
              "scope.google = scope.google || {};\n",
              "scope.google.colab = scope.google.colab || {};\n",
              "scope.google.colab._files = {\n",
              "  _uploadFiles,\n",
              "  _uploadFilesContinue,\n",
              "};\n",
              "})(self);\n",
              "</script> "
            ]
          },
          "metadata": {}
        },
        {
          "output_type": "stream",
          "name": "stdout",
          "text": [
            "Saving Real tweets About WFH by Thisakaran  R.csv to Real tweets About WFH by Thisakaran  R.csv\n"
          ]
        }
      ]
    },
    {
      "cell_type": "code",
      "source": [
        "# Load the CSV data\n",
        "Work_from_data = pd.read_csv('/content/Real tweets About WFH by Thisakaran  R.csv')"
      ],
      "metadata": {
        "id": "rgNaefm4ezUB"
      },
      "execution_count": null,
      "outputs": []
    },
    {
      "cell_type": "code",
      "source": [],
      "metadata": {
        "id": "yFwnUtmmfiiQ"
      },
      "execution_count": null,
      "outputs": []
    },
    {
      "cell_type": "markdown",
      "source": [
        "# **EDA analysis ✈ :**"
      ],
      "metadata": {
        "id": "h_VCTVKKPGQl"
      }
    },
    {
      "cell_type": "markdown",
      "source": [
        "Exploratory Data Analysis (EDA) is a crucial step in the data analysis process, including sentiment analysis. EDA helps you understand the characteristics, patterns, and relationships present in your dataset."
      ],
      "metadata": {
        "id": "sKX6sa4uaqW5"
      }
    },
    {
      "cell_type": "code",
      "source": [
        "Work_from_data.info()"
      ],
      "metadata": {
        "colab": {
          "base_uri": "https://localhost:8080/"
        },
        "id": "6tyqkzsbflzs",
        "outputId": "09f702e7-7cb5-4bd2-e0c1-ecb5d108a3dd"
      },
      "execution_count": null,
      "outputs": [
        {
          "output_type": "stream",
          "name": "stdout",
          "text": [
            "<class 'pandas.core.frame.DataFrame'>\n",
            "RangeIndex: 5470 entries, 0 to 5469\n",
            "Data columns (total 4 columns):\n",
            " #   Column        Non-Null Count  Dtype  \n",
            "---  ------        --------------  -----  \n",
            " 0   tweet_id      5470 non-null   float64\n",
            " 1   tweet_text    5470 non-null   object \n",
            " 2   location      3624 non-null   object \n",
            " 3   created_date  5470 non-null   object \n",
            "dtypes: float64(1), object(3)\n",
            "memory usage: 171.1+ KB\n"
          ]
        }
      ]
    },
    {
      "cell_type": "code",
      "source": [
        "display(Work_from_data)"
      ],
      "metadata": {
        "colab": {
          "base_uri": "https://localhost:8080/",
          "height": 424
        },
        "id": "JUvcush3gNxA",
        "outputId": "088732ea-b082-4abb-ac3b-8b37bf213332"
      },
      "execution_count": null,
      "outputs": [
        {
          "output_type": "display_data",
          "data": {
            "text/plain": [
              "          tweet_id                                         tweet_text  \\\n",
              "0     1.660000e+18  New Remote Job! Proxify AB: Senior React Nativ...   \n",
              "1     1.660000e+18  RT @b2bgifts: Crisp chrome metal signatures ad...   \n",
              "2     1.660000e+18  RT @AzioCorp: Our Tera 75 @Kickstarter Campaig...   \n",
              "3     1.660000e+18  New Remote Job! SportyBet: Frontend Developer ...   \n",
              "4     1.660000e+18  Today: https://t.co/v4QvUx2eWv How #WFH is imp...   \n",
              "...            ...                                                ...   \n",
              "5465  1.668870e+18  RT @K24Tv: Since he was diagnosed with COVID-1...   \n",
              "5466  1.668870e+18  RT @griptmedia: Mark Zuckerberg has admitted i...   \n",
              "5467  1.668870e+18  RT @realtech_23: Hp Elitebook 820 G4 is a mast...   \n",
              "5468  1.668870e+18  The Department of Education has locked in for ...   \n",
              "5469  1.668870e+18  RT @MakisMD: UK - Laura Barnes died of blood c...   \n",
              "\n",
              "              location     created_date  \n",
              "0                  NaN   5/31/2023 5:01  \n",
              "1                  NaN   5/31/2023 5:00  \n",
              "2        United States   5/31/2023 4:45  \n",
              "3                  NaN   5/31/2023 4:39  \n",
              "4     Des Moines, Iowa   5/31/2023 4:20  \n",
              "...                ...              ...  \n",
              "5465    Nairobi, Kenya  6/14/2023 12:16  \n",
              "5466               NaN  6/14/2023 12:16  \n",
              "5467               NaN  6/14/2023 12:16  \n",
              "5468    Washington, DC  6/14/2023 12:16  \n",
              "5469     United States  6/14/2023 12:16  \n",
              "\n",
              "[5470 rows x 4 columns]"
            ],
            "text/html": [
              "\n",
              "\n",
              "  <div id=\"df-3bc3c857-a56d-4b05-a9ed-3e2d19bcf850\">\n",
              "    <div class=\"colab-df-container\">\n",
              "      <div>\n",
              "<style scoped>\n",
              "    .dataframe tbody tr th:only-of-type {\n",
              "        vertical-align: middle;\n",
              "    }\n",
              "\n",
              "    .dataframe tbody tr th {\n",
              "        vertical-align: top;\n",
              "    }\n",
              "\n",
              "    .dataframe thead th {\n",
              "        text-align: right;\n",
              "    }\n",
              "</style>\n",
              "<table border=\"1\" class=\"dataframe\">\n",
              "  <thead>\n",
              "    <tr style=\"text-align: right;\">\n",
              "      <th></th>\n",
              "      <th>tweet_id</th>\n",
              "      <th>tweet_text</th>\n",
              "      <th>location</th>\n",
              "      <th>created_date</th>\n",
              "    </tr>\n",
              "  </thead>\n",
              "  <tbody>\n",
              "    <tr>\n",
              "      <th>0</th>\n",
              "      <td>1.660000e+18</td>\n",
              "      <td>New Remote Job! Proxify AB: Senior React Nativ...</td>\n",
              "      <td>NaN</td>\n",
              "      <td>5/31/2023 5:01</td>\n",
              "    </tr>\n",
              "    <tr>\n",
              "      <th>1</th>\n",
              "      <td>1.660000e+18</td>\n",
              "      <td>RT @b2bgifts: Crisp chrome metal signatures ad...</td>\n",
              "      <td>NaN</td>\n",
              "      <td>5/31/2023 5:00</td>\n",
              "    </tr>\n",
              "    <tr>\n",
              "      <th>2</th>\n",
              "      <td>1.660000e+18</td>\n",
              "      <td>RT @AzioCorp: Our Tera 75 @Kickstarter Campaig...</td>\n",
              "      <td>United States</td>\n",
              "      <td>5/31/2023 4:45</td>\n",
              "    </tr>\n",
              "    <tr>\n",
              "      <th>3</th>\n",
              "      <td>1.660000e+18</td>\n",
              "      <td>New Remote Job! SportyBet: Frontend Developer ...</td>\n",
              "      <td>NaN</td>\n",
              "      <td>5/31/2023 4:39</td>\n",
              "    </tr>\n",
              "    <tr>\n",
              "      <th>4</th>\n",
              "      <td>1.660000e+18</td>\n",
              "      <td>Today: https://t.co/v4QvUx2eWv How #WFH is imp...</td>\n",
              "      <td>Des Moines, Iowa</td>\n",
              "      <td>5/31/2023 4:20</td>\n",
              "    </tr>\n",
              "    <tr>\n",
              "      <th>...</th>\n",
              "      <td>...</td>\n",
              "      <td>...</td>\n",
              "      <td>...</td>\n",
              "      <td>...</td>\n",
              "    </tr>\n",
              "    <tr>\n",
              "      <th>5465</th>\n",
              "      <td>1.668870e+18</td>\n",
              "      <td>RT @K24Tv: Since he was diagnosed with COVID-1...</td>\n",
              "      <td>Nairobi, Kenya</td>\n",
              "      <td>6/14/2023 12:16</td>\n",
              "    </tr>\n",
              "    <tr>\n",
              "      <th>5466</th>\n",
              "      <td>1.668870e+18</td>\n",
              "      <td>RT @griptmedia: Mark Zuckerberg has admitted i...</td>\n",
              "      <td>NaN</td>\n",
              "      <td>6/14/2023 12:16</td>\n",
              "    </tr>\n",
              "    <tr>\n",
              "      <th>5467</th>\n",
              "      <td>1.668870e+18</td>\n",
              "      <td>RT @realtech_23: Hp Elitebook 820 G4 is a mast...</td>\n",
              "      <td>NaN</td>\n",
              "      <td>6/14/2023 12:16</td>\n",
              "    </tr>\n",
              "    <tr>\n",
              "      <th>5468</th>\n",
              "      <td>1.668870e+18</td>\n",
              "      <td>The Department of Education has locked in for ...</td>\n",
              "      <td>Washington, DC</td>\n",
              "      <td>6/14/2023 12:16</td>\n",
              "    </tr>\n",
              "    <tr>\n",
              "      <th>5469</th>\n",
              "      <td>1.668870e+18</td>\n",
              "      <td>RT @MakisMD: UK - Laura Barnes died of blood c...</td>\n",
              "      <td>United States</td>\n",
              "      <td>6/14/2023 12:16</td>\n",
              "    </tr>\n",
              "  </tbody>\n",
              "</table>\n",
              "<p>5470 rows × 4 columns</p>\n",
              "</div>\n",
              "      <button class=\"colab-df-convert\" onclick=\"convertToInteractive('df-3bc3c857-a56d-4b05-a9ed-3e2d19bcf850')\"\n",
              "              title=\"Convert this dataframe to an interactive table.\"\n",
              "              style=\"display:none;\">\n",
              "\n",
              "  <svg xmlns=\"http://www.w3.org/2000/svg\" height=\"24px\"viewBox=\"0 0 24 24\"\n",
              "       width=\"24px\">\n",
              "    <path d=\"M0 0h24v24H0V0z\" fill=\"none\"/>\n",
              "    <path d=\"M18.56 5.44l.94 2.06.94-2.06 2.06-.94-2.06-.94-.94-2.06-.94 2.06-2.06.94zm-11 1L8.5 8.5l.94-2.06 2.06-.94-2.06-.94L8.5 2.5l-.94 2.06-2.06.94zm10 10l.94 2.06.94-2.06 2.06-.94-2.06-.94-.94-2.06-.94 2.06-2.06.94z\"/><path d=\"M17.41 7.96l-1.37-1.37c-.4-.4-.92-.59-1.43-.59-.52 0-1.04.2-1.43.59L10.3 9.45l-7.72 7.72c-.78.78-.78 2.05 0 2.83L4 21.41c.39.39.9.59 1.41.59.51 0 1.02-.2 1.41-.59l7.78-7.78 2.81-2.81c.8-.78.8-2.07 0-2.86zM5.41 20L4 18.59l7.72-7.72 1.47 1.35L5.41 20z\"/>\n",
              "  </svg>\n",
              "      </button>\n",
              "\n",
              "\n",
              "\n",
              "    <div id=\"df-14e23743-55f8-44ce-ba3e-55a5e8ac77f6\">\n",
              "      <button class=\"colab-df-quickchart\" onclick=\"quickchart('df-14e23743-55f8-44ce-ba3e-55a5e8ac77f6')\"\n",
              "              title=\"Suggest charts.\"\n",
              "              style=\"display:none;\">\n",
              "\n",
              "<svg xmlns=\"http://www.w3.org/2000/svg\" height=\"24px\"viewBox=\"0 0 24 24\"\n",
              "     width=\"24px\">\n",
              "    <g>\n",
              "        <path d=\"M19 3H5c-1.1 0-2 .9-2 2v14c0 1.1.9 2 2 2h14c1.1 0 2-.9 2-2V5c0-1.1-.9-2-2-2zM9 17H7v-7h2v7zm4 0h-2V7h2v10zm4 0h-2v-4h2v4z\"/>\n",
              "    </g>\n",
              "</svg>\n",
              "      </button>\n",
              "    </div>\n",
              "\n",
              "<style>\n",
              "  .colab-df-quickchart {\n",
              "    background-color: #E8F0FE;\n",
              "    border: none;\n",
              "    border-radius: 50%;\n",
              "    cursor: pointer;\n",
              "    display: none;\n",
              "    fill: #1967D2;\n",
              "    height: 32px;\n",
              "    padding: 0 0 0 0;\n",
              "    width: 32px;\n",
              "  }\n",
              "\n",
              "  .colab-df-quickchart:hover {\n",
              "    background-color: #E2EBFA;\n",
              "    box-shadow: 0px 1px 2px rgba(60, 64, 67, 0.3), 0px 1px 3px 1px rgba(60, 64, 67, 0.15);\n",
              "    fill: #174EA6;\n",
              "  }\n",
              "\n",
              "  [theme=dark] .colab-df-quickchart {\n",
              "    background-color: #3B4455;\n",
              "    fill: #D2E3FC;\n",
              "  }\n",
              "\n",
              "  [theme=dark] .colab-df-quickchart:hover {\n",
              "    background-color: #434B5C;\n",
              "    box-shadow: 0px 1px 3px 1px rgba(0, 0, 0, 0.15);\n",
              "    filter: drop-shadow(0px 1px 2px rgba(0, 0, 0, 0.3));\n",
              "    fill: #FFFFFF;\n",
              "  }\n",
              "</style>\n",
              "\n",
              "    <script>\n",
              "      async function quickchart(key) {\n",
              "        const containerElement = document.querySelector('#' + key);\n",
              "        const charts = await google.colab.kernel.invokeFunction(\n",
              "            'suggestCharts', [key], {});\n",
              "      }\n",
              "    </script>\n",
              "\n",
              "      <script>\n",
              "\n",
              "function displayQuickchartButton(domScope) {\n",
              "  let quickchartButtonEl =\n",
              "    domScope.querySelector('#df-14e23743-55f8-44ce-ba3e-55a5e8ac77f6 button.colab-df-quickchart');\n",
              "  quickchartButtonEl.style.display =\n",
              "    google.colab.kernel.accessAllowed ? 'block' : 'none';\n",
              "}\n",
              "\n",
              "        displayQuickchartButton(document);\n",
              "      </script>\n",
              "      <style>\n",
              "    .colab-df-container {\n",
              "      display:flex;\n",
              "      flex-wrap:wrap;\n",
              "      gap: 12px;\n",
              "    }\n",
              "\n",
              "    .colab-df-convert {\n",
              "      background-color: #E8F0FE;\n",
              "      border: none;\n",
              "      border-radius: 50%;\n",
              "      cursor: pointer;\n",
              "      display: none;\n",
              "      fill: #1967D2;\n",
              "      height: 32px;\n",
              "      padding: 0 0 0 0;\n",
              "      width: 32px;\n",
              "    }\n",
              "\n",
              "    .colab-df-convert:hover {\n",
              "      background-color: #E2EBFA;\n",
              "      box-shadow: 0px 1px 2px rgba(60, 64, 67, 0.3), 0px 1px 3px 1px rgba(60, 64, 67, 0.15);\n",
              "      fill: #174EA6;\n",
              "    }\n",
              "\n",
              "    [theme=dark] .colab-df-convert {\n",
              "      background-color: #3B4455;\n",
              "      fill: #D2E3FC;\n",
              "    }\n",
              "\n",
              "    [theme=dark] .colab-df-convert:hover {\n",
              "      background-color: #434B5C;\n",
              "      box-shadow: 0px 1px 3px 1px rgba(0, 0, 0, 0.15);\n",
              "      filter: drop-shadow(0px 1px 2px rgba(0, 0, 0, 0.3));\n",
              "      fill: #FFFFFF;\n",
              "    }\n",
              "  </style>\n",
              "\n",
              "      <script>\n",
              "        const buttonEl =\n",
              "          document.querySelector('#df-3bc3c857-a56d-4b05-a9ed-3e2d19bcf850 button.colab-df-convert');\n",
              "        buttonEl.style.display =\n",
              "          google.colab.kernel.accessAllowed ? 'block' : 'none';\n",
              "\n",
              "        async function convertToInteractive(key) {\n",
              "          const element = document.querySelector('#df-3bc3c857-a56d-4b05-a9ed-3e2d19bcf850');\n",
              "          const dataTable =\n",
              "            await google.colab.kernel.invokeFunction('convertToInteractive',\n",
              "                                                     [key], {});\n",
              "          if (!dataTable) return;\n",
              "\n",
              "          const docLinkHtml = 'Like what you see? Visit the ' +\n",
              "            '<a target=\"_blank\" href=https://colab.research.google.com/notebooks/data_table.ipynb>data table notebook</a>'\n",
              "            + ' to learn more about interactive tables.';\n",
              "          element.innerHTML = '';\n",
              "          dataTable['output_type'] = 'display_data';\n",
              "          await google.colab.output.renderOutput(dataTable, element);\n",
              "          const docLink = document.createElement('div');\n",
              "          docLink.innerHTML = docLinkHtml;\n",
              "          element.appendChild(docLink);\n",
              "        }\n",
              "      </script>\n",
              "    </div>\n",
              "  </div>\n"
            ]
          },
          "metadata": {}
        }
      ]
    },
    {
      "cell_type": "code",
      "source": [
        "# Check the dimensions of the DataFrame\n",
        "print(f\"Number of rows: {Work_from_data.shape[0]}\")\n",
        "print(f\"Number of columns: {Work_from_data.shape[1]}\")"
      ],
      "metadata": {
        "colab": {
          "base_uri": "https://localhost:8080/"
        },
        "id": "eVdRa_66gy4x",
        "outputId": "a0a6987d-b81e-4e0f-826a-b7257912adcd"
      },
      "execution_count": null,
      "outputs": [
        {
          "output_type": "stream",
          "name": "stdout",
          "text": [
            "Number of rows: 5470\n",
            "Number of columns: 4\n"
          ]
        }
      ]
    },
    {
      "cell_type": "code",
      "source": [
        "# Check the data types of each column\n",
        "print(Work_from_data.dtypes)\n",
        "\n",
        "# Summary statistics of the dataset\n",
        "print(Work_from_data.describe())"
      ],
      "metadata": {
        "colab": {
          "base_uri": "https://localhost:8080/"
        },
        "id": "27K6VcY0g3wh",
        "outputId": "11a454e5-a880-4f11-8be7-e137e602ccc7"
      },
      "execution_count": null,
      "outputs": [
        {
          "output_type": "stream",
          "name": "stdout",
          "text": [
            "tweet_id        float64\n",
            "tweet_text       object\n",
            "location         object\n",
            "created_date     object\n",
            "dtype: object\n",
            "           tweet_id\n",
            "count  5.470000e+03\n",
            "mean   1.666611e+18\n",
            "std    1.870872e+15\n",
            "min    1.660000e+18\n",
            "25%    1.665510e+18\n",
            "50%    1.666920e+18\n",
            "75%    1.667920e+18\n",
            "max    1.668870e+18\n"
          ]
        }
      ]
    },
    {
      "cell_type": "code",
      "source": [
        "# Explore the location column\n",
        "location_counts = Work_from_data['location'].value_counts()\n",
        "print(location_counts.head(10))"
      ],
      "metadata": {
        "colab": {
          "base_uri": "https://localhost:8080/"
        },
        "id": "v9AxFspohPQx",
        "outputId": "c74e8d60-dcc5-492d-c85c-ff713df38c1c"
      },
      "execution_count": null,
      "outputs": [
        {
          "output_type": "stream",
          "name": "stdout",
          "text": [
            "Remote            192\n",
            "Worldwide         177\n",
            "USA               174\n",
            "United States      85\n",
            "Surrey UK          50\n",
            "Global             47\n",
            "St. Louis, Mo.     35\n",
            "Australia          35\n",
            "Vancouver BC       34\n",
            "Online             34\n",
            "Name: location, dtype: int64\n"
          ]
        }
      ]
    },
    {
      "cell_type": "code",
      "source": [
        "# Visualize the top 10 locations\n",
        "plt.figure(figsize=(12, 6))\n",
        "location_counts.head(10).plot(kind='bar')\n",
        "plt.xlabel('Location')\n",
        "plt.ylabel('Count')\n",
        "plt.title('Top 10 Locations')\n",
        "plt.xticks(rotation=45)\n",
        "plt.show()"
      ],
      "metadata": {
        "colab": {
          "base_uri": "https://localhost:8080/",
          "height": 628
        },
        "id": "Vi0wt-hMhTET",
        "outputId": "13233adb-2c49-46d4-c18c-e7cc4efba352"
      },
      "execution_count": null,
      "outputs": [
        {
          "output_type": "display_data",
          "data": {
            "text/plain": [
              "<Figure size 1200x600 with 1 Axes>"
            ],
            "image/png": "[encoded data removed]"
          },
          "metadata": {}
        }
      ]
    },
    {
      "cell_type": "code",
      "source": [
        "# Explore the time distribution of tweets\n",
        "Work_from_data['created_date'] = pd.to_datetime(Work_from_data['created_date'])\n",
        "Work_from_data['date'] = Work_from_data['created_date'].dt.date\n",
        "date_counts = Work_from_data['date'].value_counts().sort_index()"
      ],
      "metadata": {
        "id": "eWT5nYEohdui"
      },
      "execution_count": null,
      "outputs": []
    },
    {
      "cell_type": "code",
      "source": [
        "# Visualize the time distribution of tweets\n",
        "plt.figure(figsize=(12, 6))\n",
        "date_counts.plot()\n",
        "plt.xlabel('Date')\n",
        "plt.ylabel('Count')\n",
        "plt.title('Time Distribution of Tweets')\n",
        "plt.xticks(rotation=45)\n",
        "plt.show()"
      ],
      "metadata": {
        "colab": {
          "base_uri": "https://localhost:8080/",
          "height": 617
        },
        "id": "FKs7DbOwhoEf",
        "outputId": "2b43013f-cc70-4992-d480-41d6828e54a1"
      },
      "execution_count": null,
      "outputs": [
        {
          "output_type": "display_data",
          "data": {
            "text/plain": [
              "<Figure size 1200x600 with 1 Axes>"
            ],
            "image/png": "[encoded data removed]"
          },
          "metadata": {}
        }
      ]
    },
    {
      "cell_type": "markdown",
      "source": [
        "# **Preprocess the Data ✈ :**"
      ],
      "metadata": {
        "id": "P8lD1GmnPGq1"
      }
    },
    {
      "cell_type": "markdown",
      "source": [
        "Clean and preprocess the dataset by removing noise, such as URLs or special characters. Perform tokenization, lowercasing, and remove stopwords to prepare the text for analysis."
      ],
      "metadata": {
        "id": "nqbWuBZEeMfg"
      }
    },
    {
      "cell_type": "code",
      "source": [
        "Work_from_data.head()"
      ],
      "metadata": {
        "colab": {
          "base_uri": "https://localhost:8080/",
          "height": 206
        },
        "id": "1IJtc5LqiJdP",
        "outputId": "2bb2b44b-a590-407e-a8c7-9dcec741b130"
      },
      "execution_count": null,
      "outputs": [
        {
          "output_type": "execute_result",
          "data": {
            "text/plain": [
              "       tweet_id                                         tweet_text  \\\n",
              "0  1.660000e+18  New Remote Job! Proxify AB: Senior React Nativ...   \n",
              "1  1.660000e+18  RT @b2bgifts: Crisp chrome metal signatures ad...   \n",
              "2  1.660000e+18  RT @AzioCorp: Our Tera 75 @Kickstarter Campaig...   \n",
              "3  1.660000e+18  New Remote Job! SportyBet: Frontend Developer ...   \n",
              "4  1.660000e+18  Today: https://t.co/v4QvUx2eWv How #WFH is imp...   \n",
              "\n",
              "           location    created_date  \n",
              "0               NaN  5/31/2023 5:01  \n",
              "1               NaN  5/31/2023 5:00  \n",
              "2     United States  5/31/2023 4:45  \n",
              "3               NaN  5/31/2023 4:39  \n",
              "4  Des Moines, Iowa  5/31/2023 4:20  "
            ],
            "text/html": [
              "\n",
              "\n",
              "  <div id=\"df-f59df5ec-b7c4-492c-93f6-6d9baf1ca3c7\">\n",
              "    <div class=\"colab-df-container\">\n",
              "      <div>\n",
              "<style scoped>\n",
              "    .dataframe tbody tr th:only-of-type {\n",
              "        vertical-align: middle;\n",
              "    }\n",
              "\n",
              "    .dataframe tbody tr th {\n",
              "        vertical-align: top;\n",
              "    }\n",
              "\n",
              "    .dataframe thead th {\n",
              "        text-align: right;\n",
              "    }\n",
              "</style>\n",
              "<table border=\"1\" class=\"dataframe\">\n",
              "  <thead>\n",
              "    <tr style=\"text-align: right;\">\n",
              "      <th></th>\n",
              "      <th>tweet_id</th>\n",
              "      <th>tweet_text</th>\n",
              "      <th>location</th>\n",
              "      <th>created_date</th>\n",
              "    </tr>\n",
              "  </thead>\n",
              "  <tbody>\n",
              "    <tr>\n",
              "      <th>0</th>\n",
              "      <td>1.660000e+18</td>\n",
              "      <td>New Remote Job! Proxify AB: Senior React Nativ...</td>\n",
              "      <td>NaN</td>\n",
              "      <td>5/31/2023 5:01</td>\n",
              "    </tr>\n",
              "    <tr>\n",
              "      <th>1</th>\n",
              "      <td>1.660000e+18</td>\n",
              "      <td>RT @b2bgifts: Crisp chrome metal signatures ad...</td>\n",
              "      <td>NaN</td>\n",
              "      <td>5/31/2023 5:00</td>\n",
              "    </tr>\n",
              "    <tr>\n",
              "      <th>2</th>\n",
              "      <td>1.660000e+18</td>\n",
              "      <td>RT @AzioCorp: Our Tera 75 @Kickstarter Campaig...</td>\n",
              "      <td>United States</td>\n",
              "      <td>5/31/2023 4:45</td>\n",
              "    </tr>\n",
              "    <tr>\n",
              "      <th>3</th>\n",
              "      <td>1.660000e+18</td>\n",
              "      <td>New Remote Job! SportyBet: Frontend Developer ...</td>\n",
              "      <td>NaN</td>\n",
              "      <td>5/31/2023 4:39</td>\n",
              "    </tr>\n",
              "    <tr>\n",
              "      <th>4</th>\n",
              "      <td>1.660000e+18</td>\n",
              "      <td>Today: https://t.co/v4QvUx2eWv How #WFH is imp...</td>\n",
              "      <td>Des Moines, Iowa</td>\n",
              "      <td>5/31/2023 4:20</td>\n",
              "    </tr>\n",
              "  </tbody>\n",
              "</table>\n",
              "</div>\n",
              "      <button class=\"colab-df-convert\" onclick=\"convertToInteractive('df-f59df5ec-b7c4-492c-93f6-6d9baf1ca3c7')\"\n",
              "              title=\"Convert this dataframe to an interactive table.\"\n",
              "              style=\"display:none;\">\n",
              "\n",
              "  <svg xmlns=\"http://www.w3.org/2000/svg\" height=\"24px\"viewBox=\"0 0 24 24\"\n",
              "       width=\"24px\">\n",
              "    <path d=\"M0 0h24v24H0V0z\" fill=\"none\"/>\n",
              "    <path d=\"M18.56 5.44l.94 2.06.94-2.06 2.06-.94-2.06-.94-.94-2.06-.94 2.06-2.06.94zm-11 1L8.5 8.5l.94-2.06 2.06-.94-2.06-.94L8.5 2.5l-.94 2.06-2.06.94zm10 10l.94 2.06.94-2.06 2.06-.94-2.06-.94-.94-2.06-.94 2.06-2.06.94z\"/><path d=\"M17.41 7.96l-1.37-1.37c-.4-.4-.92-.59-1.43-.59-.52 0-1.04.2-1.43.59L10.3 9.45l-7.72 7.72c-.78.78-.78 2.05 0 2.83L4 21.41c.39.39.9.59 1.41.59.51 0 1.02-.2 1.41-.59l7.78-7.78 2.81-2.81c.8-.78.8-2.07 0-2.86zM5.41 20L4 18.59l7.72-7.72 1.47 1.35L5.41 20z\"/>\n",
              "  </svg>\n",
              "      </button>\n",
              "\n",
              "\n",
              "\n",
              "    <div id=\"df-8e15cffe-8677-47c3-9ecc-147002abcfd6\">\n",
              "      <button class=\"colab-df-quickchart\" onclick=\"quickchart('df-8e15cffe-8677-47c3-9ecc-147002abcfd6')\"\n",
              "              title=\"Suggest charts.\"\n",
              "              style=\"display:none;\">\n",
              "\n",
              "<svg xmlns=\"http://www.w3.org/2000/svg\" height=\"24px\"viewBox=\"0 0 24 24\"\n",
              "     width=\"24px\">\n",
              "    <g>\n",
              "        <path d=\"M19 3H5c-1.1 0-2 .9-2 2v14c0 1.1.9 2 2 2h14c1.1 0 2-.9 2-2V5c0-1.1-.9-2-2-2zM9 17H7v-7h2v7zm4 0h-2V7h2v10zm4 0h-2v-4h2v4z\"/>\n",
              "    </g>\n",
              "</svg>\n",
              "      </button>\n",
              "    </div>\n",
              "\n",
              "<style>\n",
              "  .colab-df-quickchart {\n",
              "    background-color: #E8F0FE;\n",
              "    border: none;\n",
              "    border-radius: 50%;\n",
              "    cursor: pointer;\n",
              "    display: none;\n",
              "    fill: #1967D2;\n",
              "    height: 32px;\n",
              "    padding: 0 0 0 0;\n",
              "    width: 32px;\n",
              "  }\n",
              "\n",
              "  .colab-df-quickchart:hover {\n",
              "    background-color: #E2EBFA;\n",
              "    box-shadow: 0px 1px 2px rgba(60, 64, 67, 0.3), 0px 1px 3px 1px rgba(60, 64, 67, 0.15);\n",
              "    fill: #174EA6;\n",
              "  }\n",
              "\n",
              "  [theme=dark] .colab-df-quickchart {\n",
              "    background-color: #3B4455;\n",
              "    fill: #D2E3FC;\n",
              "  }\n",
              "\n",
              "  [theme=dark] .colab-df-quickchart:hover {\n",
              "    background-color: #434B5C;\n",
              "    box-shadow: 0px 1px 3px 1px rgba(0, 0, 0, 0.15);\n",
              "    filter: drop-shadow(0px 1px 2px rgba(0, 0, 0, 0.3));\n",
              "    fill: #FFFFFF;\n",
              "  }\n",
              "</style>\n",
              "\n",
              "    <script>\n",
              "      async function quickchart(key) {\n",
              "        const containerElement = document.querySelector('#' + key);\n",
              "        const charts = await google.colab.kernel.invokeFunction(\n",
              "            'suggestCharts', [key], {});\n",
              "      }\n",
              "    </script>\n",
              "\n",
              "      <script>\n",
              "\n",
              "function displayQuickchartButton(domScope) {\n",
              "  let quickchartButtonEl =\n",
              "    domScope.querySelector('#df-8e15cffe-8677-47c3-9ecc-147002abcfd6 button.colab-df-quickchart');\n",
              "  quickchartButtonEl.style.display =\n",
              "    google.colab.kernel.accessAllowed ? 'block' : 'none';\n",
              "}\n",
              "\n",
              "        displayQuickchartButton(document);\n",
              "      </script>\n",
              "      <style>\n",
              "    .colab-df-container {\n",
              "      display:flex;\n",
              "      flex-wrap:wrap;\n",
              "      gap: 12px;\n",
              "    }\n",
              "\n",
              "    .colab-df-convert {\n",
              "      background-color: #E8F0FE;\n",
              "      border: none;\n",
              "      border-radius: 50%;\n",
              "      cursor: pointer;\n",
              "      display: none;\n",
              "      fill: #1967D2;\n",
              "      height: 32px;\n",
              "      padding: 0 0 0 0;\n",
              "      width: 32px;\n",
              "    }\n",
              "\n",
              "    .colab-df-convert:hover {\n",
              "      background-color: #E2EBFA;\n",
              "      box-shadow: 0px 1px 2px rgba(60, 64, 67, 0.3), 0px 1px 3px 1px rgba(60, 64, 67, 0.15);\n",
              "      fill: #174EA6;\n",
              "    }\n",
              "\n",
              "    [theme=dark] .colab-df-convert {\n",
              "      background-color: #3B4455;\n",
              "      fill: #D2E3FC;\n",
              "    }\n",
              "\n",
              "    [theme=dark] .colab-df-convert:hover {\n",
              "      background-color: #434B5C;\n",
              "      box-shadow: 0px 1px 3px 1px rgba(0, 0, 0, 0.15);\n",
              "      filter: drop-shadow(0px 1px 2px rgba(0, 0, 0, 0.3));\n",
              "      fill: #FFFFFF;\n",
              "    }\n",
              "  </style>\n",
              "\n",
              "      <script>\n",
              "        const buttonEl =\n",
              "          document.querySelector('#df-f59df5ec-b7c4-492c-93f6-6d9baf1ca3c7 button.colab-df-convert');\n",
              "        buttonEl.style.display =\n",
              "          google.colab.kernel.accessAllowed ? 'block' : 'none';\n",
              "\n",
              "        async function convertToInteractive(key) {\n",
              "          const element = document.querySelector('#df-f59df5ec-b7c4-492c-93f6-6d9baf1ca3c7');\n",
              "          const dataTable =\n",
              "            await google.colab.kernel.invokeFunction('convertToInteractive',\n",
              "                                                     [key], {});\n",
              "          if (!dataTable) return;\n",
              "\n",
              "          const docLinkHtml = 'Like what you see? Visit the ' +\n",
              "            '<a target=\"_blank\" href=https://colab.research.google.com/notebooks/data_table.ipynb>data table notebook</a>'\n",
              "            + ' to learn more about interactive tables.';\n",
              "          element.innerHTML = '';\n",
              "          dataTable['output_type'] = 'display_data';\n",
              "          await google.colab.output.renderOutput(dataTable, element);\n",
              "          const docLink = document.createElement('div');\n",
              "          docLink.innerHTML = docLinkHtml;\n",
              "          element.appendChild(docLink);\n",
              "        }\n",
              "      </script>\n",
              "    </div>\n",
              "  </div>\n"
            ]
          },
          "metadata": {},
          "execution_count": 6
        }
      ]
    },
    {
      "cell_type": "code",
      "source": [
        "nltk.download('stopwords')"
      ],
      "metadata": {
        "colab": {
          "base_uri": "https://localhost:8080/"
        },
        "id": "Pi3SjIIPiJaX",
        "outputId": "dac46967-0a7b-4b13-9a6b-273361a8e926"
      },
      "execution_count": null,
      "outputs": [
        {
          "output_type": "stream",
          "name": "stderr",
          "text": [
            "[nltk_data] Downloading package stopwords to /root/nltk_data...\n",
            "[nltk_data]   Unzipping corpora/stopwords.zip.\n"
          ]
        },
        {
          "output_type": "execute_result",
          "data": {
            "text/plain": [
              "True"
            ]
          },
          "metadata": {},
          "execution_count": 7
        }
      ]
    },
    {
      "cell_type": "code",
      "source": [
        "import pandas as pd\n",
        "import re\n",
        "from nltk.corpus import stopwords\n",
        "from nltk.stem import PorterStemmer\n",
        "from nltk.tokenize import word_tokenize\n",
        "\n",
        "\n",
        "# Clean the text data\n",
        "def clean_text(text):\n",
        "    # Remove special characters, URLs, and mentions\n",
        "    text = re.sub(r'http\\S+|www\\S+|@[^\\s]+', '', text)\n",
        "    text = re.sub(r'[^\\w\\s]', '', text)\n",
        "    return text\n",
        "\n",
        "# Convert text to lowercase\n",
        "def lowercase_text(text):\n",
        "    return text.lower()\n",
        "\n",
        "# Remove links\n",
        "def remove_links(text):\n",
        "    text = re.sub(r'http\\S+|www\\S+', '', text)\n",
        "    return text\n",
        "\n",
        "# Remove stop words\n",
        "def remove_stopwords(text):\n",
        "    stop_words = set(stopwords.words('english'))\n",
        "    words = text.split()\n",
        "    filtered_words = [word for word in words if word not in stop_words]\n",
        "    return ' '.join(filtered_words)\n",
        "\n",
        "# Perform stemming\n",
        "def perform_stemming(text):\n",
        "    stemmer = PorterStemmer()\n",
        "    words = text.split()\n",
        "    stemmed_words = [stemmer.stem(word) for word in words]\n",
        "    return ' '.join(stemmed_words)\n",
        "\n",
        "# Apply data preprocessing steps\n",
        "Work_from_data['clean_text'] = Work_from_data['tweet_text'].apply(clean_text)\n",
        "Work_from_data['clean_text'] = Work_from_data['clean_text'].apply(lowercase_text)\n",
        "Work_from_data['clean_text'] = Work_from_data['clean_text'].apply(remove_links)\n",
        "Work_from_data['clean_text'] = Work_from_data['clean_text'].apply(remove_stopwords)\n",
        "Work_from_data['clean_text'] = Work_from_data['clean_text'].apply(perform_stemming)\n",
        "\n",
        "# Display the preprocessed data\n",
        "Work_from_data['clean_text'] = Work_from_data['tweet_text'].apply(clean_text)"
      ],
      "metadata": {
        "id": "N1vJ79_YiJPB"
      },
      "execution_count": null,
      "outputs": []
    },
    {
      "cell_type": "code",
      "source": [
        "print(Work_from_data[['tweet_text', 'clean_text']].head())"
      ],
      "metadata": {
        "colab": {
          "base_uri": "https://localhost:8080/"
        },
        "id": "GdpEeqghikq5",
        "outputId": "9e39da83-1579-4ef4-9e42-bf5ae89097aa"
      },
      "execution_count": null,
      "outputs": [
        {
          "output_type": "stream",
          "name": "stdout",
          "text": [
            "                                          tweet_text  \\\n",
            "0  New Remote Job! Proxify AB: Senior React Nativ...   \n",
            "1  RT @b2bgifts: Crisp chrome metal signatures ad...   \n",
            "2  RT @AzioCorp: Our Tera 75 @Kickstarter Campaig...   \n",
            "3  New Remote Job! SportyBet: Frontend Developer ...   \n",
            "4  Today: https://t.co/v4QvUx2eWv How #WFH is imp...   \n",
            "\n",
            "                                          clean_text  \n",
            "0  New Remote Job Proxify AB Senior React Native ...  \n",
            "1  RT  Crisp chrome metal signatures add the perf...  \n",
            "2  RT  Our Tera 75  Campaign Is Now Live Check ou...  \n",
            "3  New Remote Job SportyBet Frontend Developer \\n...  \n",
            "4  Today  How WFH is impacting the suburbs and th...  \n"
          ]
        }
      ]
    },
    {
      "cell_type": "code",
      "source": [
        "Work_from_data.info()"
      ],
      "metadata": {
        "colab": {
          "base_uri": "https://localhost:8080/"
        },
        "id": "4Rm5RwZNimao",
        "outputId": "88af6850-1fb8-4d97-ad04-f587b700744f"
      },
      "execution_count": null,
      "outputs": [
        {
          "output_type": "stream",
          "name": "stdout",
          "text": [
            "<class 'pandas.core.frame.DataFrame'>\n",
            "RangeIndex: 5470 entries, 0 to 5469\n",
            "Data columns (total 5 columns):\n",
            " #   Column        Non-Null Count  Dtype  \n",
            "---  ------        --------------  -----  \n",
            " 0   tweet_id      5470 non-null   float64\n",
            " 1   tweet_text    5470 non-null   object \n",
            " 2   location      3624 non-null   object \n",
            " 3   created_date  5470 non-null   object \n",
            " 4   clean_text    5470 non-null   object \n",
            "dtypes: float64(1), object(4)\n",
            "memory usage: 213.8+ KB\n"
          ]
        }
      ]
    },
    {
      "cell_type": "code",
      "source": [
        "\n",
        "# Assuming your DataFrame is named df\n",
        "columns_to_check = ['tweet_id', 'tweet_text', 'location', 'created_date', 'clean_text']\n",
        "\n",
        "# Check for null values\n",
        "null_count = Work_from_data[columns_to_check].isnull().sum()\n",
        "print(\"Null Values:\")\n",
        "print(null_count)\n",
        "\n",
        "\n",
        "# Check for NaN values\n",
        "nan_count = Work_from_data[columns_to_check].isna().sum()\n",
        "print(\"\\n\\nNaN Values:\")\n",
        "print(nan_count)\n",
        "\n",
        "# Check if the DataFrame is empty\n",
        "is_empty = Work_from_data.empty\n",
        "print(\"Is DataFrame Empty?\", is_empty)\n"
      ],
      "metadata": {
        "colab": {
          "base_uri": "https://localhost:8080/"
        },
        "id": "qDhI2K4-pSr5",
        "outputId": "901365dd-65f0-4d68-dc1b-131cf440b4d3"
      },
      "execution_count": null,
      "outputs": [
        {
          "output_type": "stream",
          "name": "stdout",
          "text": [
            "Null Values:\n",
            "tweet_id           0\n",
            "tweet_text         0\n",
            "location        1846\n",
            "created_date       0\n",
            "clean_text         0\n",
            "dtype: int64\n",
            "\n",
            "\n",
            "NaN Values:\n",
            "tweet_id           0\n",
            "tweet_text         0\n",
            "location        1846\n",
            "created_date       0\n",
            "clean_text         0\n",
            "dtype: int64\n",
            "Is DataFrame Empty? False\n"
          ]
        }
      ]
    },
    {
      "cell_type": "code",
      "source": [
        "Work_from_data.head()"
      ],
      "metadata": {
        "colab": {
          "base_uri": "https://localhost:8080/",
          "height": 206
        },
        "id": "9pJX0rkEirpx",
        "outputId": "dccacbe2-ce0a-4d86-c89c-a4e5ce01d3a1"
      },
      "execution_count": null,
      "outputs": [
        {
          "output_type": "execute_result",
          "data": {
            "text/plain": [
              "       tweet_id                                         tweet_text  \\\n",
              "0  1.660000e+18  New Remote Job! Proxify AB: Senior React Nativ...   \n",
              "1  1.660000e+18  RT @b2bgifts: Crisp chrome metal signatures ad...   \n",
              "2  1.660000e+18  RT @AzioCorp: Our Tera 75 @Kickstarter Campaig...   \n",
              "3  1.660000e+18  New Remote Job! SportyBet: Frontend Developer ...   \n",
              "4  1.660000e+18  Today: https://t.co/v4QvUx2eWv How #WFH is imp...   \n",
              "\n",
              "           location    created_date  \\\n",
              "0               NaN  5/31/2023 5:01   \n",
              "1               NaN  5/31/2023 5:00   \n",
              "2     United States  5/31/2023 4:45   \n",
              "3               NaN  5/31/2023 4:39   \n",
              "4  Des Moines, Iowa  5/31/2023 4:20   \n",
              "\n",
              "                                          clean_text  \n",
              "0  New Remote Job Proxify AB Senior React Native ...  \n",
              "1  RT  Crisp chrome metal signatures add the perf...  \n",
              "2  RT  Our Tera 75  Campaign Is Now Live Check ou...  \n",
              "3  New Remote Job SportyBet Frontend Developer \\n...  \n",
              "4  Today  How WFH is impacting the suburbs and th...  "
            ],
            "text/html": [
              "\n",
              "\n",
              "  <div id=\"df-770c59d0-0475-414f-b413-daa3b061cd06\">\n",
              "    <div class=\"colab-df-container\">\n",
              "      <div>\n",
              "<style scoped>\n",
              "    .dataframe tbody tr th:only-of-type {\n",
              "        vertical-align: middle;\n",
              "    }\n",
              "\n",
              "    .dataframe tbody tr th {\n",
              "        vertical-align: top;\n",
              "    }\n",
              "\n",
              "    .dataframe thead th {\n",
              "        text-align: right;\n",
              "    }\n",
              "</style>\n",
              "<table border=\"1\" class=\"dataframe\">\n",
              "  <thead>\n",
              "    <tr style=\"text-align: right;\">\n",
              "      <th></th>\n",
              "      <th>tweet_id</th>\n",
              "      <th>tweet_text</th>\n",
              "      <th>location</th>\n",
              "      <th>created_date</th>\n",
              "      <th>clean_text</th>\n",
              "    </tr>\n",
              "  </thead>\n",
              "  <tbody>\n",
              "    <tr>\n",
              "      <th>0</th>\n",
              "      <td>1.660000e+18</td>\n",
              "      <td>New Remote Job! Proxify AB: Senior React Nativ...</td>\n",
              "      <td>NaN</td>\n",
              "      <td>5/31/2023 5:01</td>\n",
              "      <td>New Remote Job Proxify AB Senior React Native ...</td>\n",
              "    </tr>\n",
              "    <tr>\n",
              "      <th>1</th>\n",
              "      <td>1.660000e+18</td>\n",
              "      <td>RT @b2bgifts: Crisp chrome metal signatures ad...</td>\n",
              "      <td>NaN</td>\n",
              "      <td>5/31/2023 5:00</td>\n",
              "      <td>RT  Crisp chrome metal signatures add the perf...</td>\n",
              "    </tr>\n",
              "    <tr>\n",
              "      <th>2</th>\n",
              "      <td>1.660000e+18</td>\n",
              "      <td>RT @AzioCorp: Our Tera 75 @Kickstarter Campaig...</td>\n",
              "      <td>United States</td>\n",
              "      <td>5/31/2023 4:45</td>\n",
              "      <td>RT  Our Tera 75  Campaign Is Now Live Check ou...</td>\n",
              "    </tr>\n",
              "    <tr>\n",
              "      <th>3</th>\n",
              "      <td>1.660000e+18</td>\n",
              "      <td>New Remote Job! SportyBet: Frontend Developer ...</td>\n",
              "      <td>NaN</td>\n",
              "      <td>5/31/2023 4:39</td>\n",
              "      <td>New Remote Job SportyBet Frontend Developer \\n...</td>\n",
              "    </tr>\n",
              "    <tr>\n",
              "      <th>4</th>\n",
              "      <td>1.660000e+18</td>\n",
              "      <td>Today: https://t.co/v4QvUx2eWv How #WFH is imp...</td>\n",
              "      <td>Des Moines, Iowa</td>\n",
              "      <td>5/31/2023 4:20</td>\n",
              "      <td>Today  How WFH is impacting the suburbs and th...</td>\n",
              "    </tr>\n",
              "  </tbody>\n",
              "</table>\n",
              "</div>\n",
              "      <button class=\"colab-df-convert\" onclick=\"convertToInteractive('df-770c59d0-0475-414f-b413-daa3b061cd06')\"\n",
              "              title=\"Convert this dataframe to an interactive table.\"\n",
              "              style=\"display:none;\">\n",
              "\n",
              "  <svg xmlns=\"http://www.w3.org/2000/svg\" height=\"24px\"viewBox=\"0 0 24 24\"\n",
              "       width=\"24px\">\n",
              "    <path d=\"M0 0h24v24H0V0z\" fill=\"none\"/>\n",
              "    <path d=\"M18.56 5.44l.94 2.06.94-2.06 2.06-.94-2.06-.94-.94-2.06-.94 2.06-2.06.94zm-11 1L8.5 8.5l.94-2.06 2.06-.94-2.06-.94L8.5 2.5l-.94 2.06-2.06.94zm10 10l.94 2.06.94-2.06 2.06-.94-2.06-.94-.94-2.06-.94 2.06-2.06.94z\"/><path d=\"M17.41 7.96l-1.37-1.37c-.4-.4-.92-.59-1.43-.59-.52 0-1.04.2-1.43.59L10.3 9.45l-7.72 7.72c-.78.78-.78 2.05 0 2.83L4 21.41c.39.39.9.59 1.41.59.51 0 1.02-.2 1.41-.59l7.78-7.78 2.81-2.81c.8-.78.8-2.07 0-2.86zM5.41 20L4 18.59l7.72-7.72 1.47 1.35L5.41 20z\"/>\n",
              "  </svg>\n",
              "      </button>\n",
              "\n",
              "\n",
              "\n",
              "    <div id=\"df-683e44aa-e75a-4bb3-aa32-13050d5d7b2e\">\n",
              "      <button class=\"colab-df-quickchart\" onclick=\"quickchart('df-683e44aa-e75a-4bb3-aa32-13050d5d7b2e')\"\n",
              "              title=\"Suggest charts.\"\n",
              "              style=\"display:none;\">\n",
              "\n",
              "<svg xmlns=\"http://www.w3.org/2000/svg\" height=\"24px\"viewBox=\"0 0 24 24\"\n",
              "     width=\"24px\">\n",
              "    <g>\n",
              "        <path d=\"M19 3H5c-1.1 0-2 .9-2 2v14c0 1.1.9 2 2 2h14c1.1 0 2-.9 2-2V5c0-1.1-.9-2-2-2zM9 17H7v-7h2v7zm4 0h-2V7h2v10zm4 0h-2v-4h2v4z\"/>\n",
              "    </g>\n",
              "</svg>\n",
              "      </button>\n",
              "    </div>\n",
              "\n",
              "<style>\n",
              "  .colab-df-quickchart {\n",
              "    background-color: #E8F0FE;\n",
              "    border: none;\n",
              "    border-radius: 50%;\n",
              "    cursor: pointer;\n",
              "    display: none;\n",
              "    fill: #1967D2;\n",
              "    height: 32px;\n",
              "    padding: 0 0 0 0;\n",
              "    width: 32px;\n",
              "  }\n",
              "\n",
              "  .colab-df-quickchart:hover {\n",
              "    background-color: #E2EBFA;\n",
              "    box-shadow: 0px 1px 2px rgba(60, 64, 67, 0.3), 0px 1px 3px 1px rgba(60, 64, 67, 0.15);\n",
              "    fill: #174EA6;\n",
              "  }\n",
              "\n",
              "  [theme=dark] .colab-df-quickchart {\n",
              "    background-color: #3B4455;\n",
              "    fill: #D2E3FC;\n",
              "  }\n",
              "\n",
              "  [theme=dark] .colab-df-quickchart:hover {\n",
              "    background-color: #434B5C;\n",
              "    box-shadow: 0px 1px 3px 1px rgba(0, 0, 0, 0.15);\n",
              "    filter: drop-shadow(0px 1px 2px rgba(0, 0, 0, 0.3));\n",
              "    fill: #FFFFFF;\n",
              "  }\n",
              "</style>\n",
              "\n",
              "    <script>\n",
              "      async function quickchart(key) {\n",
              "        const containerElement = document.querySelector('#' + key);\n",
              "        const charts = await google.colab.kernel.invokeFunction(\n",
              "            'suggestCharts', [key], {});\n",
              "      }\n",
              "    </script>\n",
              "\n",
              "      <script>\n",
              "\n",
              "function displayQuickchartButton(domScope) {\n",
              "  let quickchartButtonEl =\n",
              "    domScope.querySelector('#df-683e44aa-e75a-4bb3-aa32-13050d5d7b2e button.colab-df-quickchart');\n",
              "  quickchartButtonEl.style.display =\n",
              "    google.colab.kernel.accessAllowed ? 'block' : 'none';\n",
              "}\n",
              "\n",
              "        displayQuickchartButton(document);\n",
              "      </script>\n",
              "      <style>\n",
              "    .colab-df-container {\n",
              "      display:flex;\n",
              "      flex-wrap:wrap;\n",
              "      gap: 12px;\n",
              "    }\n",
              "\n",
              "    .colab-df-convert {\n",
              "      background-color: #E8F0FE;\n",
              "      border: none;\n",
              "      border-radius: 50%;\n",
              "      cursor: pointer;\n",
              "      display: none;\n",
              "      fill: #1967D2;\n",
              "      height: 32px;\n",
              "      padding: 0 0 0 0;\n",
              "      width: 32px;\n",
              "    }\n",
              "\n",
              "    .colab-df-convert:hover {\n",
              "      background-color: #E2EBFA;\n",
              "      box-shadow: 0px 1px 2px rgba(60, 64, 67, 0.3), 0px 1px 3px 1px rgba(60, 64, 67, 0.15);\n",
              "      fill: #174EA6;\n",
              "    }\n",
              "\n",
              "    [theme=dark] .colab-df-convert {\n",
              "      background-color: #3B4455;\n",
              "      fill: #D2E3FC;\n",
              "    }\n",
              "\n",
              "    [theme=dark] .colab-df-convert:hover {\n",
              "      background-color: #434B5C;\n",
              "      box-shadow: 0px 1px 3px 1px rgba(0, 0, 0, 0.15);\n",
              "      filter: drop-shadow(0px 1px 2px rgba(0, 0, 0, 0.3));\n",
              "      fill: #FFFFFF;\n",
              "    }\n",
              "  </style>\n",
              "\n",
              "      <script>\n",
              "        const buttonEl =\n",
              "          document.querySelector('#df-770c59d0-0475-414f-b413-daa3b061cd06 button.colab-df-convert');\n",
              "        buttonEl.style.display =\n",
              "          google.colab.kernel.accessAllowed ? 'block' : 'none';\n",
              "\n",
              "        async function convertToInteractive(key) {\n",
              "          const element = document.querySelector('#df-770c59d0-0475-414f-b413-daa3b061cd06');\n",
              "          const dataTable =\n",
              "            await google.colab.kernel.invokeFunction('convertToInteractive',\n",
              "                                                     [key], {});\n",
              "          if (!dataTable) return;\n",
              "\n",
              "          const docLinkHtml = 'Like what you see? Visit the ' +\n",
              "            '<a target=\"_blank\" href=https://colab.research.google.com/notebooks/data_table.ipynb>data table notebook</a>'\n",
              "            + ' to learn more about interactive tables.';\n",
              "          element.innerHTML = '';\n",
              "          dataTable['output_type'] = 'display_data';\n",
              "          await google.colab.output.renderOutput(dataTable, element);\n",
              "          const docLink = document.createElement('div');\n",
              "          docLink.innerHTML = docLinkHtml;\n",
              "          element.appendChild(docLink);\n",
              "        }\n",
              "      </script>\n",
              "    </div>\n",
              "  </div>\n"
            ]
          },
          "metadata": {},
          "execution_count": 40
        }
      ]
    },
    {
      "cell_type": "code",
      "source": [
        "from google.colab import files\n",
        "\n",
        "# Assuming you have preprocessed your data and stored it in a DataFrame called 'preprocessed_data'\n",
        "\n",
        "# Save the preprocessed DataFrame as a CSV file\n",
        "Work_from_data.to_csv('After_Preprossed_WFH_data.csv', index=False)\n",
        "\n",
        "# Download the file to your local machine\n",
        "files.download('After_Preprossed_WFH_data.csv')"
      ],
      "metadata": {
        "id": "Vgl5oyIahD4H"
      },
      "execution_count": null,
      "outputs": []
    },
    {
      "cell_type": "code",
      "source": [
        "from google.colab import files\n",
        "uploaded = files.upload()"
      ],
      "metadata": {
        "colab": {
          "base_uri": "https://localhost:8080/",
          "height": 73
        },
        "id": "0vPo2_IxhF4P",
        "outputId": "f334b1c2-bec6-4e10-99c7-62600f2fca26"
      },
      "execution_count": null,
      "outputs": [
        {
          "output_type": "display_data",
          "data": {
            "text/plain": [
              "<IPython.core.display.HTML object>"
            ],
            "text/html": [
              "\n",
              "     <input type=\"file\" id=\"files-e4f840ce-d0f4-4612-9c47-a4fe7a5e56f8\" name=\"files[]\" multiple disabled\n",
              "        style=\"border:none\" />\n",
              "     <output id=\"result-e4f840ce-d0f4-4612-9c47-a4fe7a5e56f8\">\n",
              "      Upload widget is only available when the cell has been executed in the\n",
              "      current browser session. Please rerun this cell to enable.\n",
              "      </output>\n",
              "      <script>// Copyright 2017 Google LLC\n",
              "//\n",
              "// Licensed under the Apache License, Version 2.0 (the \"License\");\n",
              "// you may not use this file except in compliance with the License.\n",
              "// You may obtain a copy of the License at\n",
              "//\n",
              "//      http://www.apache.org/licenses/LICENSE-2.0\n",
              "//\n",
              "// Unless required by applicable law or agreed to in writing, software\n",
              "// distributed under the License is distributed on an \"AS IS\" BASIS,\n",
              "// WITHOUT WARRANTIES OR CONDITIONS OF ANY KIND, either express or implied.\n",
              "// See the License for the specific language governing permissions and\n",
              "// limitations under the License.\n",
              "\n",
              "/**\n",
              " * @fileoverview Helpers for google.colab Python module.\n",
              " */\n",
              "(function(scope) {\n",
              "function span(text, styleAttributes = {}) {\n",
              "  const element = document.createElement('span');\n",
              "  element.textContent = text;\n",
              "  for (const key of Object.keys(styleAttributes)) {\n",
              "    element.style[key] = styleAttributes[key];\n",
              "  }\n",
              "  return element;\n",
              "}\n",
              "\n",
              "// Max number of bytes which will be uploaded at a time.\n",
              "const MAX_PAYLOAD_SIZE = 100 * 1024;\n",
              "\n",
              "function _uploadFiles(inputId, outputId) {\n",
              "  const steps = uploadFilesStep(inputId, outputId);\n",
              "  const outputElement = document.getElementById(outputId);\n",
              "  // Cache steps on the outputElement to make it available for the next call\n",
              "  // to uploadFilesContinue from Python.\n",
              "  outputElement.steps = steps;\n",
              "\n",
              "  return _uploadFilesContinue(outputId);\n",
              "}\n",
              "\n",
              "// This is roughly an async generator (not supported in the browser yet),\n",
              "// where there are multiple asynchronous steps and the Python side is going\n",
              "// to poll for completion of each step.\n",
              "// This uses a Promise to block the python side on completion of each step,\n",
              "// then passes the result of the previous step as the input to the next step.\n",
              "function _uploadFilesContinue(outputId) {\n",
              "  const outputElement = document.getElementById(outputId);\n",
              "  const steps = outputElement.steps;\n",
              "\n",
              "  const next = steps.next(outputElement.lastPromiseValue);\n",
              "  return Promise.resolve(next.value.promise).then((value) => {\n",
              "    // Cache the last promise value to make it available to the next\n",
              "    // step of the generator.\n",
              "    outputElement.lastPromiseValue = value;\n",
              "    return next.value.response;\n",
              "  });\n",
              "}\n",
              "\n",
              "/**\n",
              " * Generator function which is called between each async step of the upload\n",
              " * process.\n",
              " * @param {string} inputId Element ID of the input file picker element.\n",
              " * @param {string} outputId Element ID of the output display.\n",
              " * @return {!Iterable<!Object>} Iterable of next steps.\n",
              " */\n",
              "function* uploadFilesStep(inputId, outputId) {\n",
              "  const inputElement = document.getElementById(inputId);\n",
              "  inputElement.disabled = false;\n",
              "\n",
              "  const outputElement = document.getElementById(outputId);\n",
              "  outputElement.innerHTML = '';\n",
              "\n",
              "  const pickedPromise = new Promise((resolve) => {\n",
              "    inputElement.addEventListener('change', (e) => {\n",
              "      resolve(e.target.files);\n",
              "    });\n",
              "  });\n",
              "\n",
              "  const cancel = document.createElement('button');\n",
              "  inputElement.parentElement.appendChild(cancel);\n",
              "  cancel.textContent = 'Cancel upload';\n",
              "  const cancelPromise = new Promise((resolve) => {\n",
              "    cancel.onclick = () => {\n",
              "      resolve(null);\n",
              "    };\n",
              "  });\n",
              "\n",
              "  // Wait for the user to pick the files.\n",
              "  const files = yield {\n",
              "    promise: Promise.race([pickedPromise, cancelPromise]),\n",
              "    response: {\n",
              "      action: 'starting',\n",
              "    }\n",
              "  };\n",
              "\n",
              "  cancel.remove();\n",
              "\n",
              "  // Disable the input element since further picks are not allowed.\n",
              "  inputElement.disabled = true;\n",
              "\n",
              "  if (!files) {\n",
              "    return {\n",
              "      response: {\n",
              "        action: 'complete',\n",
              "      }\n",
              "    };\n",
              "  }\n",
              "\n",
              "  for (const file of files) {\n",
              "    const li = document.createElement('li');\n",
              "    li.append(span(file.name, {fontWeight: 'bold'}));\n",
              "    li.append(span(\n",
              "        `(${file.type || 'n/a'}) - ${file.size} bytes, ` +\n",
              "        `last modified: ${\n",
              "            file.lastModifiedDate ? file.lastModifiedDate.toLocaleDateString() :\n",
              "                                    'n/a'} - `));\n",
              "    const percent = span('0% done');\n",
              "    li.appendChild(percent);\n",
              "\n",
              "    outputElement.appendChild(li);\n",
              "\n",
              "    const fileDataPromise = new Promise((resolve) => {\n",
              "      const reader = new FileReader();\n",
              "      reader.onload = (e) => {\n",
              "        resolve(e.target.result);\n",
              "      };\n",
              "      reader.readAsArrayBuffer(file);\n",
              "    });\n",
              "    // Wait for the data to be ready.\n",
              "    let fileData = yield {\n",
              "      promise: fileDataPromise,\n",
              "      response: {\n",
              "        action: 'continue',\n",
              "      }\n",
              "    };\n",
              "\n",
              "    // Use a chunked sending to avoid message size limits. See b/62115660.\n",
              "    let position = 0;\n",
              "    do {\n",
              "      const length = Math.min(fileData.byteLength - position, MAX_PAYLOAD_SIZE);\n",
              "      const chunk = new Uint8Array(fileData, position, length);\n",
              "      position += length;\n",
              "\n",
              "      const base64 = btoa(String.fromCharCode.apply(null, chunk));\n",
              "      yield {\n",
              "        response: {\n",
              "          action: 'append',\n",
              "          file: file.name,\n",
              "          data: base64,\n",
              "        },\n",
              "      };\n",
              "\n",
              "      let percentDone = fileData.byteLength === 0 ?\n",
              "          100 :\n",
              "          Math.round((position / fileData.byteLength) * 100);\n",
              "      percent.textContent = `${percentDone}% done`;\n",
              "\n",
              "    } while (position < fileData.byteLength);\n",
              "  }\n",
              "\n",
              "  // All done.\n",
              "  yield {\n",
              "    response: {\n",
              "      action: 'complete',\n",
              "    }\n",
              "  };\n",
              "}\n",
              "\n",
              "scope.google = scope.google || {};\n",
              "scope.google.colab = scope.google.colab || {};\n",
              "scope.google.colab._files = {\n",
              "  _uploadFiles,\n",
              "  _uploadFilesContinue,\n",
              "};\n",
              "})(self);\n",
              "</script> "
            ]
          },
          "metadata": {}
        },
        {
          "output_type": "stream",
          "name": "stdout",
          "text": [
            "Saving After_Preprossed_WFH_data.csv to After_Preprossed_WFH_data.csv\n"
          ]
        }
      ]
    },
    {
      "cell_type": "code",
      "source": [
        "# Load the CSV data\n",
        "Work_from_data = pd.read_csv('/content/After_Preprossed_WFH_data.csv')"
      ],
      "metadata": {
        "id": "v1NHB3UYhP8m"
      },
      "execution_count": null,
      "outputs": []
    },
    {
      "cell_type": "code",
      "source": [
        "Work_from_data.head()"
      ],
      "metadata": {
        "colab": {
          "base_uri": "https://localhost:8080/",
          "height": 206
        },
        "id": "297gWA3AhMVK",
        "outputId": "dd7300cd-c842-4108-91a0-b725b17a7923"
      },
      "execution_count": null,
      "outputs": [
        {
          "output_type": "execute_result",
          "data": {
            "text/plain": [
              "       tweet_id                                         tweet_text  \\\n",
              "0  1.660000e+18  New Remote Job! Proxify AB: Senior React Nativ...   \n",
              "1  1.660000e+18  RT @b2bgifts: Crisp chrome metal signatures ad...   \n",
              "2  1.660000e+18  RT @AzioCorp: Our Tera 75 @Kickstarter Campaig...   \n",
              "3  1.660000e+18  New Remote Job! SportyBet: Frontend Developer ...   \n",
              "4  1.660000e+18  Today: https://t.co/v4QvUx2eWv How #WFH is imp...   \n",
              "\n",
              "           location    created_date  \\\n",
              "0               NaN  5/31/2023 5:01   \n",
              "1               NaN  5/31/2023 5:00   \n",
              "2     United States  5/31/2023 4:45   \n",
              "3               NaN  5/31/2023 4:39   \n",
              "4  Des Moines, Iowa  5/31/2023 4:20   \n",
              "\n",
              "                                          clean_text  \n",
              "0  New Remote Job Proxify AB Senior React Native ...  \n",
              "1  RT  Crisp chrome metal signatures add the perf...  \n",
              "2  RT  Our Tera 75  Campaign Is Now Live Check ou...  \n",
              "3  New Remote Job SportyBet Frontend Developer \\n...  \n",
              "4  Today  How WFH is impacting the suburbs and th...  "
            ],
            "text/html": [
              "\n",
              "\n",
              "  <div id=\"df-1cd14f9b-0bd0-4067-bfeb-c1a44f829bf2\">\n",
              "    <div class=\"colab-df-container\">\n",
              "      <div>\n",
              "<style scoped>\n",
              "    .dataframe tbody tr th:only-of-type {\n",
              "        vertical-align: middle;\n",
              "    }\n",
              "\n",
              "    .dataframe tbody tr th {\n",
              "        vertical-align: top;\n",
              "    }\n",
              "\n",
              "    .dataframe thead th {\n",
              "        text-align: right;\n",
              "    }\n",
              "</style>\n",
              "<table border=\"1\" class=\"dataframe\">\n",
              "  <thead>\n",
              "    <tr style=\"text-align: right;\">\n",
              "      <th></th>\n",
              "      <th>tweet_id</th>\n",
              "      <th>tweet_text</th>\n",
              "      <th>location</th>\n",
              "      <th>created_date</th>\n",
              "      <th>clean_text</th>\n",
              "    </tr>\n",
              "  </thead>\n",
              "  <tbody>\n",
              "    <tr>\n",
              "      <th>0</th>\n",
              "      <td>1.660000e+18</td>\n",
              "      <td>New Remote Job! Proxify AB: Senior React Nativ...</td>\n",
              "      <td>NaN</td>\n",
              "      <td>5/31/2023 5:01</td>\n",
              "      <td>New Remote Job Proxify AB Senior React Native ...</td>\n",
              "    </tr>\n",
              "    <tr>\n",
              "      <th>1</th>\n",
              "      <td>1.660000e+18</td>\n",
              "      <td>RT @b2bgifts: Crisp chrome metal signatures ad...</td>\n",
              "      <td>NaN</td>\n",
              "      <td>5/31/2023 5:00</td>\n",
              "      <td>RT  Crisp chrome metal signatures add the perf...</td>\n",
              "    </tr>\n",
              "    <tr>\n",
              "      <th>2</th>\n",
              "      <td>1.660000e+18</td>\n",
              "      <td>RT @AzioCorp: Our Tera 75 @Kickstarter Campaig...</td>\n",
              "      <td>United States</td>\n",
              "      <td>5/31/2023 4:45</td>\n",
              "      <td>RT  Our Tera 75  Campaign Is Now Live Check ou...</td>\n",
              "    </tr>\n",
              "    <tr>\n",
              "      <th>3</th>\n",
              "      <td>1.660000e+18</td>\n",
              "      <td>New Remote Job! SportyBet: Frontend Developer ...</td>\n",
              "      <td>NaN</td>\n",
              "      <td>5/31/2023 4:39</td>\n",
              "      <td>New Remote Job SportyBet Frontend Developer \\n...</td>\n",
              "    </tr>\n",
              "    <tr>\n",
              "      <th>4</th>\n",
              "      <td>1.660000e+18</td>\n",
              "      <td>Today: https://t.co/v4QvUx2eWv How #WFH is imp...</td>\n",
              "      <td>Des Moines, Iowa</td>\n",
              "      <td>5/31/2023 4:20</td>\n",
              "      <td>Today  How WFH is impacting the suburbs and th...</td>\n",
              "    </tr>\n",
              "  </tbody>\n",
              "</table>\n",
              "</div>\n",
              "      <button class=\"colab-df-convert\" onclick=\"convertToInteractive('df-1cd14f9b-0bd0-4067-bfeb-c1a44f829bf2')\"\n",
              "              title=\"Convert this dataframe to an interactive table.\"\n",
              "              style=\"display:none;\">\n",
              "\n",
              "  <svg xmlns=\"http://www.w3.org/2000/svg\" height=\"24px\"viewBox=\"0 0 24 24\"\n",
              "       width=\"24px\">\n",
              "    <path d=\"M0 0h24v24H0V0z\" fill=\"none\"/>\n",
              "    <path d=\"M18.56 5.44l.94 2.06.94-2.06 2.06-.94-2.06-.94-.94-2.06-.94 2.06-2.06.94zm-11 1L8.5 8.5l.94-2.06 2.06-.94-2.06-.94L8.5 2.5l-.94 2.06-2.06.94zm10 10l.94 2.06.94-2.06 2.06-.94-2.06-.94-.94-2.06-.94 2.06-2.06.94z\"/><path d=\"M17.41 7.96l-1.37-1.37c-.4-.4-.92-.59-1.43-.59-.52 0-1.04.2-1.43.59L10.3 9.45l-7.72 7.72c-.78.78-.78 2.05 0 2.83L4 21.41c.39.39.9.59 1.41.59.51 0 1.02-.2 1.41-.59l7.78-7.78 2.81-2.81c.8-.78.8-2.07 0-2.86zM5.41 20L4 18.59l7.72-7.72 1.47 1.35L5.41 20z\"/>\n",
              "  </svg>\n",
              "      </button>\n",
              "\n",
              "\n",
              "\n",
              "    <div id=\"df-51828125-3236-4bdb-aac9-d621e5d18819\">\n",
              "      <button class=\"colab-df-quickchart\" onclick=\"quickchart('df-51828125-3236-4bdb-aac9-d621e5d18819')\"\n",
              "              title=\"Suggest charts.\"\n",
              "              style=\"display:none;\">\n",
              "\n",
              "<svg xmlns=\"http://www.w3.org/2000/svg\" height=\"24px\"viewBox=\"0 0 24 24\"\n",
              "     width=\"24px\">\n",
              "    <g>\n",
              "        <path d=\"M19 3H5c-1.1 0-2 .9-2 2v14c0 1.1.9 2 2 2h14c1.1 0 2-.9 2-2V5c0-1.1-.9-2-2-2zM9 17H7v-7h2v7zm4 0h-2V7h2v10zm4 0h-2v-4h2v4z\"/>\n",
              "    </g>\n",
              "</svg>\n",
              "      </button>\n",
              "    </div>\n",
              "\n",
              "<style>\n",
              "  .colab-df-quickchart {\n",
              "    background-color: #E8F0FE;\n",
              "    border: none;\n",
              "    border-radius: 50%;\n",
              "    cursor: pointer;\n",
              "    display: none;\n",
              "    fill: #1967D2;\n",
              "    height: 32px;\n",
              "    padding: 0 0 0 0;\n",
              "    width: 32px;\n",
              "  }\n",
              "\n",
              "  .colab-df-quickchart:hover {\n",
              "    background-color: #E2EBFA;\n",
              "    box-shadow: 0px 1px 2px rgba(60, 64, 67, 0.3), 0px 1px 3px 1px rgba(60, 64, 67, 0.15);\n",
              "    fill: #174EA6;\n",
              "  }\n",
              "\n",
              "  [theme=dark] .colab-df-quickchart {\n",
              "    background-color: #3B4455;\n",
              "    fill: #D2E3FC;\n",
              "  }\n",
              "\n",
              "  [theme=dark] .colab-df-quickchart:hover {\n",
              "    background-color: #434B5C;\n",
              "    box-shadow: 0px 1px 3px 1px rgba(0, 0, 0, 0.15);\n",
              "    filter: drop-shadow(0px 1px 2px rgba(0, 0, 0, 0.3));\n",
              "    fill: #FFFFFF;\n",
              "  }\n",
              "</style>\n",
              "\n",
              "    <script>\n",
              "      async function quickchart(key) {\n",
              "        const containerElement = document.querySelector('#' + key);\n",
              "        const charts = await google.colab.kernel.invokeFunction(\n",
              "            'suggestCharts', [key], {});\n",
              "      }\n",
              "    </script>\n",
              "\n",
              "      <script>\n",
              "\n",
              "function displayQuickchartButton(domScope) {\n",
              "  let quickchartButtonEl =\n",
              "    domScope.querySelector('#df-51828125-3236-4bdb-aac9-d621e5d18819 button.colab-df-quickchart');\n",
              "  quickchartButtonEl.style.display =\n",
              "    google.colab.kernel.accessAllowed ? 'block' : 'none';\n",
              "}\n",
              "\n",
              "        displayQuickchartButton(document);\n",
              "      </script>\n",
              "      <style>\n",
              "    .colab-df-container {\n",
              "      display:flex;\n",
              "      flex-wrap:wrap;\n",
              "      gap: 12px;\n",
              "    }\n",
              "\n",
              "    .colab-df-convert {\n",
              "      background-color: #E8F0FE;\n",
              "      border: none;\n",
              "      border-radius: 50%;\n",
              "      cursor: pointer;\n",
              "      display: none;\n",
              "      fill: #1967D2;\n",
              "      height: 32px;\n",
              "      padding: 0 0 0 0;\n",
              "      width: 32px;\n",
              "    }\n",
              "\n",
              "    .colab-df-convert:hover {\n",
              "      background-color: #E2EBFA;\n",
              "      box-shadow: 0px 1px 2px rgba(60, 64, 67, 0.3), 0px 1px 3px 1px rgba(60, 64, 67, 0.15);\n",
              "      fill: #174EA6;\n",
              "    }\n",
              "\n",
              "    [theme=dark] .colab-df-convert {\n",
              "      background-color: #3B4455;\n",
              "      fill: #D2E3FC;\n",
              "    }\n",
              "\n",
              "    [theme=dark] .colab-df-convert:hover {\n",
              "      background-color: #434B5C;\n",
              "      box-shadow: 0px 1px 3px 1px rgba(0, 0, 0, 0.15);\n",
              "      filter: drop-shadow(0px 1px 2px rgba(0, 0, 0, 0.3));\n",
              "      fill: #FFFFFF;\n",
              "    }\n",
              "  </style>\n",
              "\n",
              "      <script>\n",
              "        const buttonEl =\n",
              "          document.querySelector('#df-1cd14f9b-0bd0-4067-bfeb-c1a44f829bf2 button.colab-df-convert');\n",
              "        buttonEl.style.display =\n",
              "          google.colab.kernel.accessAllowed ? 'block' : 'none';\n",
              "\n",
              "        async function convertToInteractive(key) {\n",
              "          const element = document.querySelector('#df-1cd14f9b-0bd0-4067-bfeb-c1a44f829bf2');\n",
              "          const dataTable =\n",
              "            await google.colab.kernel.invokeFunction('convertToInteractive',\n",
              "                                                     [key], {});\n",
              "          if (!dataTable) return;\n",
              "\n",
              "          const docLinkHtml = 'Like what you see? Visit the ' +\n",
              "            '<a target=\"_blank\" href=https://colab.research.google.com/notebooks/data_table.ipynb>data table notebook</a>'\n",
              "            + ' to learn more about interactive tables.';\n",
              "          element.innerHTML = '';\n",
              "          dataTable['output_type'] = 'display_data';\n",
              "          await google.colab.output.renderOutput(dataTable, element);\n",
              "          const docLink = document.createElement('div');\n",
              "          docLink.innerHTML = docLinkHtml;\n",
              "          element.appendChild(docLink);\n",
              "        }\n",
              "      </script>\n",
              "    </div>\n",
              "  </div>\n"
            ]
          },
          "metadata": {},
          "execution_count": 7
        }
      ]
    },
    {
      "cell_type": "markdown",
      "source": [
        "# **Use NLP techniques in Polarity ✈ :**"
      ],
      "metadata": {
        "id": "3ecrdutEQArl"
      }
    },
    {
      "cell_type": "markdown",
      "source": [
        "**Set NLP Polarity technique**"
      ],
      "metadata": {
        "id": "l_s9r-qToXSA"
      }
    },
    {
      "cell_type": "code",
      "source": [
        "import pandas as pd\n",
        "from nltk.sentiment import SentimentIntensityAnalyzer\n",
        "\n",
        "\n",
        "# Clean the 'clean_text' column by replacing NaN values with an empty string\n",
        "Work_from_data['clean_text'] = Work_from_data['clean_text'].fillna('')\n",
        "\n",
        "# Convert the 'clean_text' column to string type\n",
        "Work_from_data['clean_text'] = Work_from_data['clean_text'].astype(str)\n",
        "\n",
        "# Initialize SentimentIntensityAnalyzer\n",
        "sia = SentimentIntensityAnalyzer()\n",
        "\n",
        "# Assign sentiment labels\n",
        "def assign_sentiment_label(score):\n",
        "    if score > 0:\n",
        "        return 'Positive'\n",
        "    elif score < 0:\n",
        "        return 'Negative'\n",
        "    else:\n",
        "        return 'Neutral'\n",
        "\n",
        "# Calculate sentiment scores and labels\n",
        "Work_from_data['sentiment_scores'] = Work_from_data['clean_text'].apply(lambda x: sia.polarity_scores(x))\n",
        "Work_from_data['compound_score'] = Work_from_data['sentiment_scores'].apply(lambda x: x['compound'])\n",
        "Work_from_data['sentiment_label'] = Work_from_data['compound_score'].apply(assign_sentiment_label)\n",
        "\n",
        "# Create separate columns for positive, negative, and neutral labels\n",
        "Work_from_data['positive_sentiment'] = Work_from_data['compound_score'].apply(lambda x: x if x > 0 else 0)\n",
        "Work_from_data['negative_sentiment'] = Work_from_data['compound_score'].apply(lambda x: -x if x < 0 else 0)\n",
        "Work_from_data['neutral_sentiment'] = Work_from_data['compound_score'].apply(lambda x: 1 - abs(x) if abs(x) < 1 else 0)\n",
        "\n",
        "# Display the labeled data\n",
        "print(Work_from_data[['clean_text','positive_sentiment', 'negative_sentiment', 'neutral_sentiment', 'sentiment_label']].head())\n",
        "\n",
        "\n",
        "\n"
      ],
      "metadata": {
        "colab": {
          "base_uri": "https://localhost:8080/"
        },
        "id": "ixbUeNndobpK",
        "outputId": "b185bd03-fb55-4874-9375-f2b224dcc776"
      },
      "execution_count": null,
      "outputs": [
        {
          "output_type": "stream",
          "name": "stdout",
          "text": [
            "                                          clean_text  positive_sentiment  \\\n",
            "0  New Remote Job Proxify AB Senior React Native ...              0.0000   \n",
            "1  RT  Crisp chrome metal signatures add the perf...              0.5719   \n",
            "2  RT  Our Tera 75  Campaign Is Now Live Check ou...              0.4019   \n",
            "3  New Remote Job SportyBet Frontend Developer \\n...              0.0000   \n",
            "4  Today  How WFH is impacting the suburbs and th...              0.0000   \n",
            "\n",
            "   negative_sentiment  neutral_sentiment sentiment_label  \n",
            "0                 0.0             1.0000         Neutral  \n",
            "1                 0.0             0.4281        Positive  \n",
            "2                 0.0             0.5981        Positive  \n",
            "3                 0.0             1.0000         Neutral  \n",
            "4                 0.0             1.0000         Neutral  \n"
          ]
        }
      ]
    },
    {
      "cell_type": "code",
      "source": [
        "display(Work_from_data)"
      ],
      "metadata": {
        "colab": {
          "base_uri": "https://localhost:8080/",
          "height": 919
        },
        "id": "i6oGx10jp2JI",
        "outputId": "83291d1f-d0fa-429e-e97a-7f4a624becb0"
      },
      "execution_count": null,
      "outputs": [
        {
          "output_type": "display_data",
          "data": {
            "text/plain": [
              "          tweet_id                                         tweet_text  \\\n",
              "0     1.660000e+18  New Remote Job! Proxify AB: Senior React Nativ...   \n",
              "1     1.660000e+18  RT @b2bgifts: Crisp chrome metal signatures ad...   \n",
              "2     1.660000e+18  RT @AzioCorp: Our Tera 75 @Kickstarter Campaig...   \n",
              "3     1.660000e+18  New Remote Job! SportyBet: Frontend Developer ...   \n",
              "4     1.660000e+18  Today: https://t.co/v4QvUx2eWv How #WFH is imp...   \n",
              "...            ...                                                ...   \n",
              "5465  1.668870e+18  RT @K24Tv: Since he was diagnosed with COVID-1...   \n",
              "5466  1.668870e+18  RT @griptmedia: Mark Zuckerberg has admitted i...   \n",
              "5467  1.668870e+18  RT @realtech_23: Hp Elitebook 820 G4 is a mast...   \n",
              "5468  1.668870e+18  The Department of Education has locked in for ...   \n",
              "5469  1.668870e+18  RT @MakisMD: UK - Laura Barnes died of blood c...   \n",
              "\n",
              "              location     created_date  \\\n",
              "0                  NaN   5/31/2023 5:01   \n",
              "1                  NaN   5/31/2023 5:00   \n",
              "2        United States   5/31/2023 4:45   \n",
              "3                  NaN   5/31/2023 4:39   \n",
              "4     Des Moines, Iowa   5/31/2023 4:20   \n",
              "...                ...              ...   \n",
              "5465    Nairobi, Kenya  6/14/2023 12:16   \n",
              "5466               NaN  6/14/2023 12:16   \n",
              "5467               NaN  6/14/2023 12:16   \n",
              "5468    Washington, DC  6/14/2023 12:16   \n",
              "5469     United States  6/14/2023 12:16   \n",
              "\n",
              "                                             clean_text  \\\n",
              "0     New Remote Job Proxify AB Senior React Native ...   \n",
              "1     RT  Crisp chrome metal signatures add the perf...   \n",
              "2     RT  Our Tera 75  Campaign Is Now Live Check ou...   \n",
              "3     New Remote Job SportyBet Frontend Developer \\n...   \n",
              "4     Today  How WFH is impacting the suburbs and th...   \n",
              "...                                                 ...   \n",
              "5465  RT  Since he was diagnosed with COVID19 last w...   \n",
              "5466  RT  Mark Zuckerberg has admitted in a bombshel...   \n",
              "5467  RT  Hp Elitebook 820 G4 is a masterpiece7th Ge...   \n",
              "5468  The Department of Education has locked in for ...   \n",
              "5469  RT  UK  Laura Barnes died of blood clots at 32...   \n",
              "\n",
              "                                       sentiment_scores  compound_score  \\\n",
              "0     {'neg': 0.0, 'neu': 1.0, 'pos': 0.0, 'compound...          0.0000   \n",
              "1     {'neg': 0.0, 'neu': 0.856, 'pos': 0.144, 'comp...          0.5719   \n",
              "2     {'neg': 0.0, 'neu': 0.881, 'pos': 0.119, 'comp...          0.4019   \n",
              "3     {'neg': 0.0, 'neu': 1.0, 'pos': 0.0, 'compound...          0.0000   \n",
              "4     {'neg': 0.0, 'neu': 1.0, 'pos': 0.0, 'compound...          0.0000   \n",
              "...                                                 ...             ...   \n",
              "5465  {'neg': 0.0, 'neu': 0.873, 'pos': 0.127, 'comp...          0.4939   \n",
              "5466  {'neg': 0.084, 'neu': 0.842, 'pos': 0.074, 'co...         -0.0516   \n",
              "5467  {'neg': 0.0, 'neu': 1.0, 'pos': 0.0, 'compound...          0.0000   \n",
              "5468  {'neg': 0.0, 'neu': 1.0, 'pos': 0.0, 'compound...          0.0000   \n",
              "5469  {'neg': 0.246, 'neu': 0.754, 'pos': 0.0, 'comp...         -0.7351   \n",
              "\n",
              "     sentiment_label  positive_sentiment  negative_sentiment  \\\n",
              "0            Neutral              0.0000              0.0000   \n",
              "1           Positive              0.5719              0.0000   \n",
              "2           Positive              0.4019              0.0000   \n",
              "3            Neutral              0.0000              0.0000   \n",
              "4            Neutral              0.0000              0.0000   \n",
              "...              ...                 ...                 ...   \n",
              "5465        Positive              0.4939              0.0000   \n",
              "5466        Negative              0.0000              0.0516   \n",
              "5467         Neutral              0.0000              0.0000   \n",
              "5468         Neutral              0.0000              0.0000   \n",
              "5469        Negative              0.0000              0.7351   \n",
              "\n",
              "      neutral_sentiment  \n",
              "0                1.0000  \n",
              "1                0.4281  \n",
              "2                0.5981  \n",
              "3                1.0000  \n",
              "4                1.0000  \n",
              "...                 ...  \n",
              "5465             0.5061  \n",
              "5466             0.9484  \n",
              "5467             1.0000  \n",
              "5468             1.0000  \n",
              "5469             0.2649  \n",
              "\n",
              "[5470 rows x 11 columns]"
            ],
            "text/html": [
              "\n",
              "\n",
              "  <div id=\"df-caa96463-e6b9-4258-b7cd-695b0874e2bb\">\n",
              "    <div class=\"colab-df-container\">\n",
              "      <div>\n",
              "<style scoped>\n",
              "    .dataframe tbody tr th:only-of-type {\n",
              "        vertical-align: middle;\n",
              "    }\n",
              "\n",
              "    .dataframe tbody tr th {\n",
              "        vertical-align: top;\n",
              "    }\n",
              "\n",
              "    .dataframe thead th {\n",
              "        text-align: right;\n",
              "    }\n",
              "</style>\n",
              "<table border=\"1\" class=\"dataframe\">\n",
              "  <thead>\n",
              "    <tr style=\"text-align: right;\">\n",
              "      <th></th>\n",
              "      <th>tweet_id</th>\n",
              "      <th>tweet_text</th>\n",
              "      <th>location</th>\n",
              "      <th>created_date</th>\n",
              "      <th>clean_text</th>\n",
              "      <th>sentiment_scores</th>\n",
              "      <th>compound_score</th>\n",
              "      <th>sentiment_label</th>\n",
              "      <th>positive_sentiment</th>\n",
              "      <th>negative_sentiment</th>\n",
              "      <th>neutral_sentiment</th>\n",
              "    </tr>\n",
              "  </thead>\n",
              "  <tbody>\n",
              "    <tr>\n",
              "      <th>0</th>\n",
              "      <td>1.660000e+18</td>\n",
              "      <td>New Remote Job! Proxify AB: Senior React Nativ...</td>\n",
              "      <td>NaN</td>\n",
              "      <td>5/31/2023 5:01</td>\n",
              "      <td>New Remote Job Proxify AB Senior React Native ...</td>\n",
              "      <td>{'neg': 0.0, 'neu': 1.0, 'pos': 0.0, 'compound...</td>\n",
              "      <td>0.0000</td>\n",
              "      <td>Neutral</td>\n",
              "      <td>0.0000</td>\n",
              "      <td>0.0000</td>\n",
              "      <td>1.0000</td>\n",
              "    </tr>\n",
              "    <tr>\n",
              "      <th>1</th>\n",
              "      <td>1.660000e+18</td>\n",
              "      <td>RT @b2bgifts: Crisp chrome metal signatures ad...</td>\n",
              "      <td>NaN</td>\n",
              "      <td>5/31/2023 5:00</td>\n",
              "      <td>RT  Crisp chrome metal signatures add the perf...</td>\n",
              "      <td>{'neg': 0.0, 'neu': 0.856, 'pos': 0.144, 'comp...</td>\n",
              "      <td>0.5719</td>\n",
              "      <td>Positive</td>\n",
              "      <td>0.5719</td>\n",
              "      <td>0.0000</td>\n",
              "      <td>0.4281</td>\n",
              "    </tr>\n",
              "    <tr>\n",
              "      <th>2</th>\n",
              "      <td>1.660000e+18</td>\n",
              "      <td>RT @AzioCorp: Our Tera 75 @Kickstarter Campaig...</td>\n",
              "      <td>United States</td>\n",
              "      <td>5/31/2023 4:45</td>\n",
              "      <td>RT  Our Tera 75  Campaign Is Now Live Check ou...</td>\n",
              "      <td>{'neg': 0.0, 'neu': 0.881, 'pos': 0.119, 'comp...</td>\n",
              "      <td>0.4019</td>\n",
              "      <td>Positive</td>\n",
              "      <td>0.4019</td>\n",
              "      <td>0.0000</td>\n",
              "      <td>0.5981</td>\n",
              "    </tr>\n",
              "    <tr>\n",
              "      <th>3</th>\n",
              "      <td>1.660000e+18</td>\n",
              "      <td>New Remote Job! SportyBet: Frontend Developer ...</td>\n",
              "      <td>NaN</td>\n",
              "      <td>5/31/2023 4:39</td>\n",
              "      <td>New Remote Job SportyBet Frontend Developer \\n...</td>\n",
              "      <td>{'neg': 0.0, 'neu': 1.0, 'pos': 0.0, 'compound...</td>\n",
              "      <td>0.0000</td>\n",
              "      <td>Neutral</td>\n",
              "      <td>0.0000</td>\n",
              "      <td>0.0000</td>\n",
              "      <td>1.0000</td>\n",
              "    </tr>\n",
              "    <tr>\n",
              "      <th>4</th>\n",
              "      <td>1.660000e+18</td>\n",
              "      <td>Today: https://t.co/v4QvUx2eWv How #WFH is imp...</td>\n",
              "      <td>Des Moines, Iowa</td>\n",
              "      <td>5/31/2023 4:20</td>\n",
              "      <td>Today  How WFH is impacting the suburbs and th...</td>\n",
              "      <td>{'neg': 0.0, 'neu': 1.0, 'pos': 0.0, 'compound...</td>\n",
              "      <td>0.0000</td>\n",
              "      <td>Neutral</td>\n",
              "      <td>0.0000</td>\n",
              "      <td>0.0000</td>\n",
              "      <td>1.0000</td>\n",
              "    </tr>\n",
              "    <tr>\n",
              "      <th>...</th>\n",
              "      <td>...</td>\n",
              "      <td>...</td>\n",
              "      <td>...</td>\n",
              "      <td>...</td>\n",
              "      <td>...</td>\n",
              "      <td>...</td>\n",
              "      <td>...</td>\n",
              "      <td>...</td>\n",
              "      <td>...</td>\n",
              "      <td>...</td>\n",
              "      <td>...</td>\n",
              "    </tr>\n",
              "    <tr>\n",
              "      <th>5465</th>\n",
              "      <td>1.668870e+18</td>\n",
              "      <td>RT @K24Tv: Since he was diagnosed with COVID-1...</td>\n",
              "      <td>Nairobi, Kenya</td>\n",
              "      <td>6/14/2023 12:16</td>\n",
              "      <td>RT  Since he was diagnosed with COVID19 last w...</td>\n",
              "      <td>{'neg': 0.0, 'neu': 0.873, 'pos': 0.127, 'comp...</td>\n",
              "      <td>0.4939</td>\n",
              "      <td>Positive</td>\n",
              "      <td>0.4939</td>\n",
              "      <td>0.0000</td>\n",
              "      <td>0.5061</td>\n",
              "    </tr>\n",
              "    <tr>\n",
              "      <th>5466</th>\n",
              "      <td>1.668870e+18</td>\n",
              "      <td>RT @griptmedia: Mark Zuckerberg has admitted i...</td>\n",
              "      <td>NaN</td>\n",
              "      <td>6/14/2023 12:16</td>\n",
              "      <td>RT  Mark Zuckerberg has admitted in a bombshel...</td>\n",
              "      <td>{'neg': 0.084, 'neu': 0.842, 'pos': 0.074, 'co...</td>\n",
              "      <td>-0.0516</td>\n",
              "      <td>Negative</td>\n",
              "      <td>0.0000</td>\n",
              "      <td>0.0516</td>\n",
              "      <td>0.9484</td>\n",
              "    </tr>\n",
              "    <tr>\n",
              "      <th>5467</th>\n",
              "      <td>1.668870e+18</td>\n",
              "      <td>RT @realtech_23: Hp Elitebook 820 G4 is a mast...</td>\n",
              "      <td>NaN</td>\n",
              "      <td>6/14/2023 12:16</td>\n",
              "      <td>RT  Hp Elitebook 820 G4 is a masterpiece7th Ge...</td>\n",
              "      <td>{'neg': 0.0, 'neu': 1.0, 'pos': 0.0, 'compound...</td>\n",
              "      <td>0.0000</td>\n",
              "      <td>Neutral</td>\n",
              "      <td>0.0000</td>\n",
              "      <td>0.0000</td>\n",
              "      <td>1.0000</td>\n",
              "    </tr>\n",
              "    <tr>\n",
              "      <th>5468</th>\n",
              "      <td>1.668870e+18</td>\n",
              "      <td>The Department of Education has locked in for ...</td>\n",
              "      <td>Washington, DC</td>\n",
              "      <td>6/14/2023 12:16</td>\n",
              "      <td>The Department of Education has locked in for ...</td>\n",
              "      <td>{'neg': 0.0, 'neu': 1.0, 'pos': 0.0, 'compound...</td>\n",
              "      <td>0.0000</td>\n",
              "      <td>Neutral</td>\n",
              "      <td>0.0000</td>\n",
              "      <td>0.0000</td>\n",
              "      <td>1.0000</td>\n",
              "    </tr>\n",
              "    <tr>\n",
              "      <th>5469</th>\n",
              "      <td>1.668870e+18</td>\n",
              "      <td>RT @MakisMD: UK - Laura Barnes died of blood c...</td>\n",
              "      <td>United States</td>\n",
              "      <td>6/14/2023 12:16</td>\n",
              "      <td>RT  UK  Laura Barnes died of blood clots at 32...</td>\n",
              "      <td>{'neg': 0.246, 'neu': 0.754, 'pos': 0.0, 'comp...</td>\n",
              "      <td>-0.7351</td>\n",
              "      <td>Negative</td>\n",
              "      <td>0.0000</td>\n",
              "      <td>0.7351</td>\n",
              "      <td>0.2649</td>\n",
              "    </tr>\n",
              "  </tbody>\n",
              "</table>\n",
              "<p>5470 rows × 11 columns</p>\n",
              "</div>\n",
              "      <button class=\"colab-df-convert\" onclick=\"convertToInteractive('df-caa96463-e6b9-4258-b7cd-695b0874e2bb')\"\n",
              "              title=\"Convert this dataframe to an interactive table.\"\n",
              "              style=\"display:none;\">\n",
              "\n",
              "  <svg xmlns=\"http://www.w3.org/2000/svg\" height=\"24px\"viewBox=\"0 0 24 24\"\n",
              "       width=\"24px\">\n",
              "    <path d=\"M0 0h24v24H0V0z\" fill=\"none\"/>\n",
              "    <path d=\"M18.56 5.44l.94 2.06.94-2.06 2.06-.94-2.06-.94-.94-2.06-.94 2.06-2.06.94zm-11 1L8.5 8.5l.94-2.06 2.06-.94-2.06-.94L8.5 2.5l-.94 2.06-2.06.94zm10 10l.94 2.06.94-2.06 2.06-.94-2.06-.94-.94-2.06-.94 2.06-2.06.94z\"/><path d=\"M17.41 7.96l-1.37-1.37c-.4-.4-.92-.59-1.43-.59-.52 0-1.04.2-1.43.59L10.3 9.45l-7.72 7.72c-.78.78-.78 2.05 0 2.83L4 21.41c.39.39.9.59 1.41.59.51 0 1.02-.2 1.41-.59l7.78-7.78 2.81-2.81c.8-.78.8-2.07 0-2.86zM5.41 20L4 18.59l7.72-7.72 1.47 1.35L5.41 20z\"/>\n",
              "  </svg>\n",
              "      </button>\n",
              "\n",
              "\n",
              "\n",
              "    <div id=\"df-1eb0ad18-26fe-4694-9545-9017b094c1fa\">\n",
              "      <button class=\"colab-df-quickchart\" onclick=\"quickchart('df-1eb0ad18-26fe-4694-9545-9017b094c1fa')\"\n",
              "              title=\"Suggest charts.\"\n",
              "              style=\"display:none;\">\n",
              "\n",
              "<svg xmlns=\"http://www.w3.org/2000/svg\" height=\"24px\"viewBox=\"0 0 24 24\"\n",
              "     width=\"24px\">\n",
              "    <g>\n",
              "        <path d=\"M19 3H5c-1.1 0-2 .9-2 2v14c0 1.1.9 2 2 2h14c1.1 0 2-.9 2-2V5c0-1.1-.9-2-2-2zM9 17H7v-7h2v7zm4 0h-2V7h2v10zm4 0h-2v-4h2v4z\"/>\n",
              "    </g>\n",
              "</svg>\n",
              "      </button>\n",
              "    </div>\n",
              "\n",
              "<style>\n",
              "  .colab-df-quickchart {\n",
              "    background-color: #E8F0FE;\n",
              "    border: none;\n",
              "    border-radius: 50%;\n",
              "    cursor: pointer;\n",
              "    display: none;\n",
              "    fill: #1967D2;\n",
              "    height: 32px;\n",
              "    padding: 0 0 0 0;\n",
              "    width: 32px;\n",
              "  }\n",
              "\n",
              "  .colab-df-quickchart:hover {\n",
              "    background-color: #E2EBFA;\n",
              "    box-shadow: 0px 1px 2px rgba(60, 64, 67, 0.3), 0px 1px 3px 1px rgba(60, 64, 67, 0.15);\n",
              "    fill: #174EA6;\n",
              "  }\n",
              "\n",
              "  [theme=dark] .colab-df-quickchart {\n",
              "    background-color: #3B4455;\n",
              "    fill: #D2E3FC;\n",
              "  }\n",
              "\n",
              "  [theme=dark] .colab-df-quickchart:hover {\n",
              "    background-color: #434B5C;\n",
              "    box-shadow: 0px 1px 3px 1px rgba(0, 0, 0, 0.15);\n",
              "    filter: drop-shadow(0px 1px 2px rgba(0, 0, 0, 0.3));\n",
              "    fill: #FFFFFF;\n",
              "  }\n",
              "</style>\n",
              "\n",
              "    <script>\n",
              "      async function quickchart(key) {\n",
              "        const containerElement = document.querySelector('#' + key);\n",
              "        const charts = await google.colab.kernel.invokeFunction(\n",
              "            'suggestCharts', [key], {});\n",
              "      }\n",
              "    </script>\n",
              "\n",
              "      <script>\n",
              "\n",
              "function displayQuickchartButton(domScope) {\n",
              "  let quickchartButtonEl =\n",
              "    domScope.querySelector('#df-1eb0ad18-26fe-4694-9545-9017b094c1fa button.colab-df-quickchart');\n",
              "  quickchartButtonEl.style.display =\n",
              "    google.colab.kernel.accessAllowed ? 'block' : 'none';\n",
              "}\n",
              "\n",
              "        displayQuickchartButton(document);\n",
              "      </script>\n",
              "      <style>\n",
              "    .colab-df-container {\n",
              "      display:flex;\n",
              "      flex-wrap:wrap;\n",
              "      gap: 12px;\n",
              "    }\n",
              "\n",
              "    .colab-df-convert {\n",
              "      background-color: #E8F0FE;\n",
              "      border: none;\n",
              "      border-radius: 50%;\n",
              "      cursor: pointer;\n",
              "      display: none;\n",
              "      fill: #1967D2;\n",
              "      height: 32px;\n",
              "      padding: 0 0 0 0;\n",
              "      width: 32px;\n",
              "    }\n",
              "\n",
              "    .colab-df-convert:hover {\n",
              "      background-color: #E2EBFA;\n",
              "      box-shadow: 0px 1px 2px rgba(60, 64, 67, 0.3), 0px 1px 3px 1px rgba(60, 64, 67, 0.15);\n",
              "      fill: #174EA6;\n",
              "    }\n",
              "\n",
              "    [theme=dark] .colab-df-convert {\n",
              "      background-color: #3B4455;\n",
              "      fill: #D2E3FC;\n",
              "    }\n",
              "\n",
              "    [theme=dark] .colab-df-convert:hover {\n",
              "      background-color: #434B5C;\n",
              "      box-shadow: 0px 1px 3px 1px rgba(0, 0, 0, 0.15);\n",
              "      filter: drop-shadow(0px 1px 2px rgba(0, 0, 0, 0.3));\n",
              "      fill: #FFFFFF;\n",
              "    }\n",
              "  </style>\n",
              "\n",
              "      <script>\n",
              "        const buttonEl =\n",
              "          document.querySelector('#df-caa96463-e6b9-4258-b7cd-695b0874e2bb button.colab-df-convert');\n",
              "        buttonEl.style.display =\n",
              "          google.colab.kernel.accessAllowed ? 'block' : 'none';\n",
              "\n",
              "        async function convertToInteractive(key) {\n",
              "          const element = document.querySelector('#df-caa96463-e6b9-4258-b7cd-695b0874e2bb');\n",
              "          const dataTable =\n",
              "            await google.colab.kernel.invokeFunction('convertToInteractive',\n",
              "                                                     [key], {});\n",
              "          if (!dataTable) return;\n",
              "\n",
              "          const docLinkHtml = 'Like what you see? Visit the ' +\n",
              "            '<a target=\"_blank\" href=https://colab.research.google.com/notebooks/data_table.ipynb>data table notebook</a>'\n",
              "            + ' to learn more about interactive tables.';\n",
              "          element.innerHTML = '';\n",
              "          dataTable['output_type'] = 'display_data';\n",
              "          await google.colab.output.renderOutput(dataTable, element);\n",
              "          const docLink = document.createElement('div');\n",
              "          docLink.innerHTML = docLinkHtml;\n",
              "          element.appendChild(docLink);\n",
              "        }\n",
              "      </script>\n",
              "    </div>\n",
              "  </div>\n"
            ]
          },
          "metadata": {}
        }
      ]
    },
    {
      "cell_type": "code",
      "source": [
        "\n",
        "# Count the number of positive, negative, and neutral tweets\n",
        "positive_count = Work_from_data['sentiment_label'].value_counts()['Positive']\n",
        "negative_count = Work_from_data['sentiment_label'].value_counts()['Negative']\n",
        "neutral_count = Work_from_data['sentiment_label'].value_counts()['Neutral']\n",
        "\n",
        "# Calculate the overall sentiment analysis output\n",
        "Overall_sentiment_output = 'Positive' if positive_count > negative_count else 'Negative' if negative_count > positive_count else 'Neutral'\n",
        "\n",
        "# Display the results\n",
        "print(\"Number of positive tweets:\", positive_count)\n",
        "print(\"Number of negative tweets:\", negative_count)\n",
        "print(\"Number of neutral tweets:\", neutral_count)\n"
      ],
      "metadata": {
        "colab": {
          "base_uri": "https://localhost:8080/"
        },
        "id": "ZxrIz4mRqF__",
        "outputId": "3c1faf7f-8f80-49c8-8cb2-6fb0c51f81c1"
      },
      "execution_count": null,
      "outputs": [
        {
          "output_type": "stream",
          "name": "stdout",
          "text": [
            "Number of positive tweets: 2825\n",
            "Number of negative tweets: 1092\n",
            "Number of neutral tweets: 1553\n"
          ]
        }
      ]
    },
    {
      "cell_type": "code",
      "source": [
        "print(\"Overall sentiment analysis:\", Overall_sentiment_output)"
      ],
      "metadata": {
        "colab": {
          "base_uri": "https://localhost:8080/"
        },
        "id": "UI0jxbLHqQiv",
        "outputId": "54ac80e6-86ee-444c-ac82-a444580ad28a"
      },
      "execution_count": null,
      "outputs": [
        {
          "output_type": "stream",
          "name": "stdout",
          "text": [
            "Overall sentiment analysis: Positive\n"
          ]
        }
      ]
    },
    {
      "cell_type": "markdown",
      "source": [
        "# **Split the Data ✈ :**"
      ],
      "metadata": {
        "id": "Mk-byNc_PHGl"
      }
    },
    {
      "cell_type": "markdown",
      "source": [
        "Training set: This set is used to train your sentiment analysis model. It contains labeled data with known sentiments (e.g., positive, negative, neutral). The model learns patterns and relationships from this data to make predictions.\n",
        "\n",
        "Validation set: This set is used to tune and optimize the hyperparameters of your sentiment analysis model. It helps you assess the model's performance on unseen data and make adjustments to improve its accuracy. You can use the validation set to fine-tune parameters, select the best model, or perform early stopping during the training process.\n",
        "\n",
        "Test set: This set is used to evaluate the final performance of your sentiment analysis model. It consists of unseen data that the model has not been exposed to during training or validation. The test set allows you to measure how well your model generalizes to new and unseen data. It provides an unbiased estimate of the model's performance and helps assess its real-world applicability."
      ],
      "metadata": {
        "id": "boa_CLl1aMKb"
      }
    },
    {
      "cell_type": "code",
      "source": [
        "import pandas as pd\n",
        "from sklearn.model_selection import train_test_split\n",
        "\n",
        "# Define the features and target variable\n",
        "features = ['clean_text']\n",
        "target = ['sentiment_label']  # Assuming you have a 'sentiment' column indicating the sentiment of each tweet\n",
        "\n",
        "# Split the data into features and target\n",
        "X = Work_from_data[features]\n",
        "y = Work_from_data[target]\n",
        "\n",
        "# Split the data into training, validation, and test sets\n",
        "X_train, X_test, y_train, y_test = train_test_split(X, y, test_size=0.4, random_state=42)\n",
        "X_valid, X_test, y_valid, y_test = train_test_split(X_test, y_test, test_size=0.5, random_state=42)\n",
        "\n",
        "# Verify the shapes of the splits\n",
        "print(\"Training data shape:\", X_train.shape)\n",
        "print(\"Validation data shape:\", X_valid.shape)\n",
        "print(\"Test data shape:\", X_test.shape)\n"
      ],
      "metadata": {
        "colab": {
          "base_uri": "https://localhost:8080/"
        },
        "id": "QhGmtV9HaO8D",
        "outputId": "747539dd-b7f6-4cd4-cafb-b0dd7aa3f0e7"
      },
      "execution_count": null,
      "outputs": [
        {
          "output_type": "stream",
          "name": "stdout",
          "text": [
            "Training data shape: (3282, 1)\n",
            "Validation data shape: (1094, 1)\n",
            "Test data shape: (1094, 1)\n"
          ]
        }
      ]
    },
    {
      "cell_type": "code",
      "source": [
        "print(\"Training set:\")\n",
        "print(X_train.head())  # Print the first few rows of the training features\n",
        "print(y_train.head())  # Print the corresponding sentiment labels\n",
        "\n",
        "print(\"\\nValidation set:\")\n",
        "print(X_valid.head())  # Print the first few rows of the validation features\n",
        "print(y_valid.head())  # Print the corresponding sentiment labels\n",
        "\n",
        "print(\"\\nTest set:\")\n",
        "print(X_test.head())   # Print the first few rows of the test features\n",
        "print(y_test.head())   # Print the corresponding sentiment labels\n"
      ],
      "metadata": {
        "colab": {
          "base_uri": "https://localhost:8080/"
        },
        "id": "pzA31mCPaOWG",
        "outputId": "bbbf21a4-9068-4a43-bc7a-7a38cbc5d6b5"
      },
      "execution_count": null,
      "outputs": [
        {
          "output_type": "stream",
          "name": "stdout",
          "text": [
            "Training set:\n",
            "                                             clean_text\n",
            "2347  OneClickAccess  To Our 11 Automated Apps\\nThat...\n",
            "761   How to get ClickFunnels For Free\\nHow to build...\n",
            "3039  RT  INCOMING HOT TAKE\\n\\nTldr Sleep Researcher...\n",
            "2481  RT  Repeated COVID19 vaccination weakens the i...\n",
            "3580  Why do you need a guide to globalhiring \\n\\nTh...\n",
            "     sentiment_label\n",
            "2347        Positive\n",
            "761         Positive\n",
            "3039        Positive\n",
            "2481        Negative\n",
            "3580        Positive\n",
            "\n",
            "Validation set:\n",
            "                                             clean_text\n",
            "551   RT  The family of a college student who died f...\n",
            "5062  RT  US data show rise in hospitalizations for ...\n",
            "4733  RT  World Health Organization at start of pand...\n",
            "4905  Suddenly Working From Home  Ive done it since ...\n",
            "5120  RT  COVID19 infections increase risk of longte...\n",
            "     sentiment_label\n",
            "551         Negative\n",
            "5062        Positive\n",
            "4733         Neutral\n",
            "4905        Positive\n",
            "5120        Negative\n",
            "\n",
            "Test set:\n",
            "                                             clean_text\n",
            "4229  New Remote Job Teal Backend Engineer\\nApply he...\n",
            "3929  For remote workers vacations arent a choice bu...\n",
            "5012  on a mission to bring 10B wealth into LATAM by...\n",
            "1630  Everstream Analytics is hiring Remote Strategi...\n",
            "566   RT  According to reports Jamie Foxx is now par...\n",
            "     sentiment_label\n",
            "4229         Neutral\n",
            "3929         Neutral\n",
            "5012        Positive\n",
            "1630         Neutral\n",
            "566         Negative\n"
          ]
        }
      ]
    },
    {
      "cell_type": "markdown",
      "source": [
        "# **Feature Extraction and feature engineering ✈ :**"
      ],
      "metadata": {
        "id": "wDy4PqXcPHsN"
      }
    },
    {
      "cell_type": "markdown",
      "source": [
        "Extract relevant features from the preprocessed data and engineer new features if necessary to enhance the performance of the sentiment analysis model."
      ],
      "metadata": {
        "id": "Qr89NufbwlJ-"
      }
    },
    {
      "cell_type": "code",
      "source": [
        "import pandas as pd\n",
        "from sklearn.feature_extraction.text import TfidfVectorizer\n",
        "from sklearn.model_selection import train_test_split\n",
        "\n",
        "# Load the data into the \"Work_from_data\" dataframe\n",
        "# Assuming you have already loaded the data into the dataframe\n",
        "\n",
        "# Define the features and target variable\n",
        "features = ['clean_text']\n",
        "target = ['sentiment_label']  # Assuming you have a 'sentiment_label' column indicating the sentiment of each tweet\n",
        "\n",
        "# Split the data into training, validation, and test sets\n",
        "train_data, test_data = train_test_split(Work_from_data, test_size=0.2, random_state=42)\n",
        "train_data, valid_data = train_test_split(train_data, test_size=0.25, random_state=42)\n",
        "\n",
        "# Extract the feature and target data for each set\n",
        "X_train = train_data[features]\n",
        "y_train = train_data[target]\n",
        "X_valid = valid_data[features]\n",
        "y_valid = valid_data[target]\n",
        "X_test = test_data[features]\n",
        "y_test = test_data[target]\n",
        "\n",
        "# Create a TfidfVectorizer object\n",
        "vectorizer = TfidfVectorizer()\n",
        "\n",
        "# Fit the vectorizer on the training data and transform the text data\n",
        "X_train_tfidf = vectorizer.fit_transform(X_train['clean_text'])\n",
        "\n",
        "# Transform the text data of the validation set\n",
        "X_valid_tfidf = vectorizer.transform(X_valid['clean_text'])\n",
        "\n",
        "# Print the shape of the TF-IDF matrices\n",
        "print(\"Shape of X_train_tfidf:\", X_train_tfidf.shape)\n",
        "print(\"Shape of X_valid_tfidf:\", X_valid_tfidf.shape)\n",
        "print(\"Shape of X_test:\", X_test.shape)\n",
        "\n",
        "# Print sample data from each set\n",
        "print(\"Sample data from the training set:\")\n",
        "print(X_train.head())\n",
        "\n",
        "print(\"\\nSample data from the validation set:\")\n",
        "print(X_valid.head())\n",
        "\n",
        "print(\"\\nSample data from the test set:\")\n",
        "print(X_test.head())\n"
      ],
      "metadata": {
        "colab": {
          "base_uri": "https://localhost:8080/"
        },
        "id": "_-_fDxdDwkrn",
        "outputId": "14b3c1eb-5970-4212-bd68-147111f6568a"
      },
      "execution_count": null,
      "outputs": [
        {
          "output_type": "stream",
          "name": "stdout",
          "text": [
            "Shape of X_train_tfidf: (3282, 9040)\n",
            "Shape of X_valid_tfidf: (1094, 9040)\n",
            "Shape of X_test: (1094, 1)\n",
            "Sample data from the training set:\n",
            "                                             clean_text\n",
            "2117  RT  They made him think that it was a true vac...\n",
            "4346  RT  Hiring Senior Clojure Developer at Command...\n",
            "618   RT  Experts agree with  calling for market wit...\n",
            "1531  RT  Top 5 Ways To Make Money Online makemoneyo...\n",
            "4661  If your boss is looking at you like thisTake a...\n",
            "\n",
            "Sample data from the validation set:\n",
            "                                             clean_text\n",
            "1275  link in Bio\\nmakemoneyonline workfromhome onli...\n",
            "3744   is hiring a Remote Web Developer Philippines ...\n",
            "2036  RT  Great article thank you for sharing \\n\\n5G...\n",
            "2456  RT  They made him think that it was a true vac...\n",
            "933   RT  The same MSM who pushed Pfizer propaganda ...\n",
            "\n",
            "Sample data from the test set:\n",
            "                                             clean_text\n",
            "4434  RT  Who owns BioNTech the pharmaceutical compa...\n",
            "3809  RT  Google warns employees working from home a...\n",
            "4037  RT  Researchers have uncovered scientific frau...\n",
            "2439  Besides remotework policies how else has your ...\n",
            "5026  RT  NewYorkCity has been losing residents sinc...\n"
          ]
        }
      ]
    },
    {
      "cell_type": "code",
      "source": [
        "import pandas as pd\n",
        "from sklearn.feature_extraction.text import TfidfVectorizer\n",
        "from sklearn.model_selection import train_test_split\n",
        "\n",
        "# Load the data into the \"Work_from_data\" dataframe\n",
        "# Assuming you have already loaded the data into the dataframe\n",
        "\n",
        "# Define the features and target variable\n",
        "features = ['clean_text']\n",
        "target = ['sentiment_label']  # Assuming you have a 'sentiment_label' column indicating the sentiment of each tweet\n",
        "\n",
        "# Split the data into training, validation, and test sets\n",
        "train_data, test_data = train_test_split(Work_from_data, test_size=0.2, random_state=42)\n",
        "train_data, valid_data = train_test_split(train_data, test_size=0.25, random_state=42)\n",
        "\n",
        "# Extract the feature and target data for each set\n",
        "X_train = train_data[features]\n",
        "y_train = train_data[target]\n",
        "X_valid = valid_data[features]\n",
        "y_valid = valid_data[target]\n",
        "X_test = test_data[features]\n",
        "y_test = test_data[target]\n",
        "\n",
        "# Create a TfidfVectorizer object\n",
        "vectorizer = TfidfVectorizer()\n",
        "\n",
        "# Fit the vectorizer on the training data and transform the text data\n",
        "X_train_tfidf = vectorizer.fit_transform(X_train['clean_text'])\n",
        "\n",
        "# Transform the text data of the validation set\n",
        "X_valid_tfidf = vectorizer.transform(X_valid['clean_text'])\n",
        "\n",
        "# Print the shape of the TF-IDF matrices\n",
        "print(\"Shape of X_train_tfidf:\", X_train_tfidf.shape)\n",
        "print(\"Shape of X_valid_tfidf:\", X_valid_tfidf.shape)\n",
        "\n",
        "# Print sample data from each set\n",
        "print(\"Sample data from the training set:\")\n",
        "print(X_train_tfidf[:5])  # Adjust the number of samples to display as needed\n",
        "\n",
        "print(\"\\nSample data from the validation set:\")\n",
        "print(X_valid_tfidf[:5])  # Adjust the number of samples to display as needed\n",
        "\n",
        "print(\"\\nSample data from the test set:\")\n",
        "print(X_test[:5])  # Display the original text data\n",
        "\n"
      ],
      "metadata": {
        "colab": {
          "base_uri": "https://localhost:8080/"
        },
        "id": "JmQC1cXs5Qr9",
        "outputId": "52417598-58dc-471c-aa30-25d39132a2bc"
      },
      "execution_count": null,
      "outputs": [
        {
          "output_type": "stream",
          "name": "stdout",
          "text": [
            "Shape of X_train_tfidf: (3282, 9040)\n",
            "Shape of X_valid_tfidf: (1094, 9040)\n",
            "Sample data from the training set:\n",
            "  (0, 6143)\t0.26359145375940535\n",
            "  (0, 3250)\t0.2774863488606501\n",
            "  (0, 6948)\t0.2328517159200731\n",
            "  (0, 7844)\t0.2553553017413885\n",
            "  (0, 5266)\t0.22436461905859223\n",
            "  (0, 5463)\t0.18690392838781938\n",
            "  (0, 4321)\t0.38101922619707546\n",
            "  (0, 8692)\t0.21195301326235183\n",
            "  (0, 8362)\t0.1911386788302243\n",
            "  (0, 8151)\t0.2755051921816963\n",
            "  (0, 8580)\t0.19145642856725098\n",
            "  (0, 4314)\t0.16604830778382468\n",
            "  (0, 7901)\t0.15307415549518041\n",
            "  (0, 7936)\t0.2566307282566554\n",
            "  (0, 3814)\t0.28172109930305506\n",
            "  (0, 4824)\t0.2579420869664727\n",
            "  (0, 7931)\t0.19758132851254778\n",
            "  (0, 6845)\t0.08847209439168527\n",
            "  (1, 6352)\t0.38803305062629573\n",
            "  (1, 6602)\t0.255835284618804\n",
            "  (1, 6596)\t0.13600154681414675\n",
            "  (1, 6623)\t0.11727608611534807\n",
            "  (1, 8989)\t0.39639815780487353\n",
            "  (1, 1702)\t0.45601521270667333\n",
            "  (1, 764)\t0.19621822971700428\n",
            "  :\t:\n",
            "  (3, 8010)\t0.1309324496248805\n",
            "  (3, 8598)\t0.4001789939398183\n",
            "  (3, 8038)\t0.3441526656648372\n",
            "  (3, 6845)\t0.1256727799692684\n",
            "  (4, 3041)\t0.30787044061062785\n",
            "  (4, 4430)\t0.3193576385096032\n",
            "  (4, 6163)\t0.30787044061062785\n",
            "  (4, 5185)\t0.27548984839455515\n",
            "  (4, 5620)\t0.2525154525966045\n",
            "  (4, 6603)\t0.11555704819992663\n",
            "  (4, 983)\t0.17589904753728747\n",
            "  (4, 4583)\t0.21122469746359812\n",
            "  (4, 4368)\t0.126033301384116\n",
            "  (4, 4764)\t0.23469512676273718\n",
            "  (4, 7944)\t0.3355479346176396\n",
            "  (4, 4671)\t0.19533128140975792\n",
            "  (4, 8959)\t0.12045258139998237\n",
            "  (4, 4766)\t0.1634169351639524\n",
            "  (4, 4300)\t0.09605886973377613\n",
            "  (4, 1143)\t0.2608065305024932\n",
            "  (4, 8964)\t0.11901673471660838\n",
            "  (4, 4025)\t0.17042997583178016\n",
            "  (4, 7905)\t0.07520775195143596\n",
            "  (4, 6623)\t0.08629481512792875\n",
            "  (4, 764)\t0.2887650231011989\n",
            "\n",
            "Sample data from the validation set:\n",
            "  (0, 8814)\t0.09798553699715057\n",
            "  (0, 8790)\t0.2246417683966366\n",
            "  (0, 8471)\t0.24227776335358575\n",
            "  (0, 7183)\t0.2039859308815641\n",
            "  (0, 6623)\t0.09400043793217544\n",
            "  (0, 5824)\t0.19993689633111275\n",
            "  (0, 5605)\t0.24357623934333067\n",
            "  (0, 5599)\t0.31102058313196246\n",
            "  (0, 5207)\t0.325655683784377\n",
            "  (0, 4860)\t0.155673776163217\n",
            "  (0, 4685)\t0.1896549973108202\n",
            "  (0, 4078)\t0.21730493256203753\n",
            "  (0, 3875)\t0.2229686499923012\n",
            "  (0, 3311)\t0.24227776335358575\n",
            "  (0, 3124)\t0.23631010241627495\n",
            "  (0, 2788)\t0.23413486339468606\n",
            "  (0, 2342)\t0.20191431481649014\n",
            "  (0, 1092)\t0.27787075631430586\n",
            "  (0, 1036)\t0.21614667448572428\n",
            "  (0, 423)\t0.19364823234698025\n",
            "  (1, 8668)\t0.18185251410820452\n",
            "  (1, 8608)\t0.5276458231059848\n",
            "  (1, 6623)\t0.17247212735357412\n",
            "  (1, 6603)\t0.2309567487246463\n",
            "  (1, 6596)\t0.20001073432261152\n",
            "  :\t:\n",
            "  (3, 5463)\t0.1869039283878194\n",
            "  (3, 5266)\t0.22436461905859229\n",
            "  (3, 4824)\t0.25794208696647275\n",
            "  (3, 4321)\t0.38101922619707557\n",
            "  (3, 4314)\t0.1660483077838247\n",
            "  (3, 3814)\t0.2817210993030551\n",
            "  (3, 3250)\t0.27748634886065016\n",
            "  (4, 8708)\t0.17267110692541496\n",
            "  (4, 8290)\t0.26650426372414826\n",
            "  (4, 7905)\t0.1554655015372716\n",
            "  (4, 7777)\t0.26956275793848977\n",
            "  (4, 7677)\t0.249770400264846\n",
            "  (4, 7431)\t0.2803907371909685\n",
            "  (4, 6948)\t0.20644341666844468\n",
            "  (4, 6913)\t0.25178400865935774\n",
            "  (4, 6845)\t0.0784382514591474\n",
            "  (4, 6345)\t0.2803907371909685\n",
            "  (4, 6262)\t0.27645721121491423\n",
            "  (4, 5915)\t0.21831628174075315\n",
            "  (4, 5268)\t0.2803907371909685\n",
            "  (4, 4340)\t0.24425945481719688\n",
            "  (4, 3275)\t0.24425945481719688\n",
            "  (4, 1306)\t0.26650426372414826\n",
            "  (4, 969)\t0.21831628174075315\n",
            "  (4, 283)\t0.17267110692541496\n",
            "\n",
            "Sample data from the test set:\n",
            "                                             clean_text\n",
            "4434  RT  Who owns BioNTech the pharmaceutical compa...\n",
            "3809  RT  Google warns employees working from home a...\n",
            "4037  RT  Researchers have uncovered scientific frau...\n",
            "2439  Besides remotework policies how else has your ...\n",
            "5026  RT  NewYorkCity has been losing residents sinc...\n"
          ]
        }
      ]
    },
    {
      "cell_type": "markdown",
      "source": [
        "This feature extraction and engineering steps"
      ],
      "metadata": {
        "id": "kq_IMxrVhh-t"
      }
    },
    {
      "cell_type": "code",
      "source": [
        "\n",
        "import pandas as pd\n",
        "from sklearn.feature_extraction.text import TfidfVectorizer\n",
        "from sklearn.model_selection import train_test_split\n",
        "\n",
        "# Load the data into the \"Work_from_data\" dataframe\n",
        "# Assuming you have already loaded the data into the dataframe\n",
        "\n",
        "# Define the features and target variable\n",
        "features = ['clean_text']\n",
        "target = ['sentiment_label']  # Assuming you have a 'sentiment_label' column indicating the sentiment of each tweet\n",
        "\n",
        "# Split the data into training, validation, and test sets\n",
        "train_data, test_data = train_test_split(Work_from_data, test_size=0.2, random_state=42)\n",
        "train_data, valid_data = train_test_split(train_data, test_size=0.25, random_state=42)\n",
        "\n",
        "# Extract the feature and target data for each set\n",
        "X_train = train_data[features]\n",
        "y_train = train_data[target]\n",
        "X_valid = valid_data[features]\n",
        "y_valid = valid_data[target]\n",
        "X_test = test_data[features]\n",
        "y_test = test_data[target]\n",
        "\n",
        "# Create a TfidfVectorizer object\n",
        "vectorizer = TfidfVectorizer()\n",
        "\n",
        "# Fit the vectorizer on the training data and transform the text data\n",
        "X_train_tfidf = vectorizer.fit_transform(X_train['clean_text'])\n",
        "\n",
        "# Transform the text data of the validation set\n",
        "X_valid_tfidf = vectorizer.transform(X_valid['clean_text'])\n",
        "\n",
        "# Print the shape of the TF-IDF matrices\n",
        "print(\"Shape of X_train_tfidf:\", X_train_tfidf.shape)\n",
        "print(\"Shape of X_valid_tfidf:\", X_valid_tfidf.shape)\n",
        "\n",
        "# Print sample data from each set\n",
        "print(\"Sample data from the training set:\")\n",
        "print(X_train_tfidf[:5].toarray())\n",
        "\n",
        "print(\"\\nSample data from the validation set:\")\n",
        "print(X_valid_tfidf[:5].toarray())\n",
        "\n",
        "print(\"\\nSample data from the test set:\")\n",
        "print(X_test[:5])\n"
      ],
      "metadata": {
        "colab": {
          "base_uri": "https://localhost:8080/"
        },
        "id": "WlMyaapR5QhS",
        "outputId": "c910fe7d-ddc3-4097-9fb3-a18ad4fad78b"
      },
      "execution_count": null,
      "outputs": [
        {
          "output_type": "stream",
          "name": "stdout",
          "text": [
            "Shape of X_train_tfidf: (3282, 9040)\n",
            "Shape of X_valid_tfidf: (1094, 9040)\n",
            "Sample data from the training set:\n",
            "[[0. 0. 0. ... 0. 0. 0.]\n",
            " [0. 0. 0. ... 0. 0. 0.]\n",
            " [0. 0. 0. ... 0. 0. 0.]\n",
            " [0. 0. 0. ... 0. 0. 0.]\n",
            " [0. 0. 0. ... 0. 0. 0.]]\n",
            "\n",
            "Sample data from the validation set:\n",
            "[[0. 0. 0. ... 0. 0. 0.]\n",
            " [0. 0. 0. ... 0. 0. 0.]\n",
            " [0. 0. 0. ... 0. 0. 0.]\n",
            " [0. 0. 0. ... 0. 0. 0.]\n",
            " [0. 0. 0. ... 0. 0. 0.]]\n",
            "\n",
            "Sample data from the test set:\n",
            "                                             clean_text\n",
            "4434  RT  Who owns BioNTech the pharmaceutical compa...\n",
            "3809  RT  Google warns employees working from home a...\n",
            "4037  RT  Researchers have uncovered scientific frau...\n",
            "2439  Besides remotework policies how else has your ...\n",
            "5026  RT  NewYorkCity has been losing residents sinc...\n"
          ]
        }
      ]
    },
    {
      "cell_type": "markdown",
      "source": [
        "# **Develop a Sentiment Analysis Model ✈ :**"
      ],
      "metadata": {
        "id": "OrwgcUd-wfbd"
      }
    },
    {
      "cell_type": "markdown",
      "source": [
        "Naïve Bayes Classifier (MultinomialNB):"
      ],
      "metadata": {
        "id": "UwounUkSw0lD"
      }
    },
    {
      "cell_type": "markdown",
      "source": [],
      "metadata": {
        "id": "jIpNVkJ-BQnu"
      }
    },
    {
      "cell_type": "markdown",
      "source": [
        "Used dataframe lables"
      ],
      "metadata": {
        "id": "qspn9Lvm3leA"
      }
    },
    {
      "cell_type": "markdown",
      "source": [
        "updated one"
      ],
      "metadata": {
        "id": "IgVQhut8BjSI"
      }
    },
    {
      "cell_type": "code",
      "source": [
        "import pandas as pd\n",
        "from sklearn.feature_extraction.text import TfidfVectorizer\n",
        "from sklearn.model_selection import train_test_split\n",
        "from sklearn.naive_bayes import MultinomialNB\n",
        "from sklearn.metrics import accuracy_score, precision_score, recall_score, f1_score\n",
        "\n",
        "# Load the data into the \"Work_from_data\" dataframe\n",
        "# Assuming you have already loaded the data into the dataframe\n",
        "\n",
        "# Define the features and target variable\n",
        "features = ['clean_text']\n",
        "target = ['sentiment_label']  # Assuming you have a 'sentiment_label' column indicating the sentiment of each tweet\n",
        "\n",
        "# Split the data into training, validation, and test sets\n",
        "train_data, test_data = train_test_split(Work_from_data, test_size=0.2, random_state=42)\n",
        "train_data, valid_data = train_test_split(train_data, test_size=0.25, random_state=42)\n",
        "\n",
        "# Extract the feature and target data for each set\n",
        "X_train = train_data[features]\n",
        "y_train = train_data[target].values.ravel()  # Reshape y_train to a 1D array\n",
        "X_valid = valid_data[features]\n",
        "y_valid = valid_data[target]\n",
        "X_test = test_data[features]\n",
        "y_test = test_data[target]\n",
        "\n",
        "# Create a TfidfVectorizer object\n",
        "vectorizer = TfidfVectorizer()\n",
        "\n",
        "# Fit the vectorizer on the training data and transform the text data\n",
        "X_train_tfidf = vectorizer.fit_transform(X_train['clean_text'])\n",
        "\n",
        "# Transform the text data of the validation set\n",
        "X_valid_tfidf = vectorizer.transform(X_valid['clean_text'])\n",
        "\n",
        "# Create a Naïve Bayes classifier\n",
        "classifier = MultinomialNB()\n",
        "\n",
        "# Train the classifier on the training data\n",
        "classifier.fit(X_train_tfidf, y_train)\n",
        "\n",
        "# Predict sentiments on the training set\n",
        "y_train_pred = classifier.predict(X_train_tfidf)\n",
        "\n",
        "# Evaluate the model performance on the training set\n",
        "accuracy_nb = accuracy_score(y_train, y_train_pred)\n",
        "precision_nb = precision_score(y_train, y_train_pred, average='weighted')\n",
        "recall_nb = recall_score(y_train, y_train_pred, average='weighted')\n",
        "f1_nb = f1_score(y_train, y_train_pred, average='weighted')\n",
        "\n",
        "# Print the evaluation metrics\n",
        "print(\"Training Set Metrics:\")\n",
        "print(\"Accuracy:\", accuracy_nb)\n",
        "print(\"Precision:\", precision_nb)\n",
        "print(\"Recall:\", recall_nb)\n",
        "print(\"F1-Score:\", f1_nb)\n"
      ],
      "metadata": {
        "colab": {
          "base_uri": "https://localhost:8080/"
        },
        "id": "1SxXeOMNBqOp",
        "outputId": "2c1ed4f1-1706-49aa-837d-65238ad9ea6e"
      },
      "execution_count": null,
      "outputs": [
        {
          "output_type": "stream",
          "name": "stdout",
          "text": [
            "Training Set Metrics:\n",
            "Accuracy: 0.8409506398537477\n",
            "Precision: 0.8705805859000043\n",
            "Recall: 0.8409506398537477\n",
            "F1-Score: 0.8364662527151637\n"
          ]
        }
      ]
    },
    {
      "cell_type": "markdown",
      "source": [
        "SVM"
      ],
      "metadata": {
        "id": "rdkoKGIc4DkQ"
      }
    },
    {
      "cell_type": "markdown",
      "source": [
        "Updated one"
      ],
      "metadata": {
        "id": "umxK4C3dBvO3"
      }
    },
    {
      "cell_type": "code",
      "source": [
        "import pandas as pd\n",
        "from sklearn.feature_extraction.text import TfidfVectorizer\n",
        "from sklearn.model_selection import train_test_split\n",
        "from sklearn.svm import SVC\n",
        "from sklearn.metrics import accuracy_score, precision_score, recall_score, f1_score\n",
        "\n",
        "# Load the data into the \"Work_from_data\" dataframe\n",
        "# Assuming you have already loaded the data into the dataframe\n",
        "\n",
        "# Define the features and target variable\n",
        "features = ['clean_text']\n",
        "target = ['sentiment_label']  # Assuming you have a 'sentiment_label' column indicating the sentiment of each tweet\n",
        "\n",
        "# Split the data into training, validation, and test sets\n",
        "train_data, test_data = train_test_split(Work_from_data, test_size=0.2, random_state=42)\n",
        "train_data, valid_data = train_test_split(train_data, test_size=0.25, random_state=42)\n",
        "\n",
        "# Extract the feature and target data for each set\n",
        "X_train = train_data[features]\n",
        "y_train = train_data[target].values.ravel()  # Reshape y_train to a 1D array\n",
        "X_valid = valid_data[features]\n",
        "y_valid = valid_data[target]\n",
        "X_test = test_data[features]\n",
        "y_test = test_data[target]\n",
        "\n",
        "# Create a TfidfVectorizer object\n",
        "vectorizer = TfidfVectorizer()\n",
        "\n",
        "# Fit the vectorizer on the training data and transform the text data\n",
        "X_train_tfidf = vectorizer.fit_transform(X_train['clean_text'])\n",
        "\n",
        "# Transform the text data of the validation set\n",
        "X_valid_tfidf = vectorizer.transform(X_valid['clean_text'])\n",
        "\n",
        "# Create an SVM classifier\n",
        "classifier = SVC()\n",
        "\n",
        "# Train the classifier on the training data\n",
        "classifier.fit(X_train_tfidf, y_train)\n",
        "\n",
        "# Predict sentiments on the validation set\n",
        "y_valid_pred = classifier.predict(X_valid_tfidf)\n",
        "\n",
        "\n",
        "# Evaluate the performance of the model on the training set\n",
        "accuracy_svm = accuracy_score(y_train, y_train_pred)\n",
        "precision_svm = precision_score(y_train, y_train_pred, average='weighted')\n",
        "recall_svm = recall_score(y_train, y_train_pred, average='weighted')\n",
        "f1_svm = f1_score(y_train, y_train_pred, average='weighted')\n",
        "\n",
        "# Print the evaluation metrics\n",
        "print(\"Training Set Metrics:\")\n",
        "print(\"Accuracy:\", accuracy_svm)\n",
        "print(\"Precision:\", precision_svm)\n",
        "print(\"Recall:\", recall_svm)\n",
        "print(\"F1-Score:\", f1_svm)\n"
      ],
      "metadata": {
        "colab": {
          "base_uri": "https://localhost:8080/"
        },
        "id": "TbTO5DwlBxUG",
        "outputId": "dcd86d29-62c5-4511-88da-f6e97ec70271"
      },
      "execution_count": null,
      "outputs": [
        {
          "output_type": "stream",
          "name": "stdout",
          "text": [
            "Training Set Metrics:\n",
            "Accuracy: 0.8409506398537477\n",
            "Precision: 0.8705805859000043\n",
            "Recall: 0.8409506398537477\n",
            "F1-Score: 0.8364662527151637\n"
          ]
        }
      ]
    },
    {
      "cell_type": "markdown",
      "source": [
        "Random forest"
      ],
      "metadata": {
        "id": "pUH_YXGD4K2p"
      }
    },
    {
      "cell_type": "markdown",
      "source": [
        "Updated one"
      ],
      "metadata": {
        "id": "rGNBNR0DByQ2"
      }
    },
    {
      "cell_type": "markdown",
      "source": [
        "Extra Trees (Extremely Randomized Trees) is an extension of Random Forest where random thresholds are used for splitting features, making it even more random than the standard Random Forest. This can sometimes result in improved performance or faster training.\n",
        "\n",
        "Balanced Random Forest is a variation of Random Forest that aims to address class imbalance in the dataset. It uses balanced bootstrapping and balanced random feature selection to mitigate the impact of imbalanced classes on the model's performance.\n",
        "\n",
        "Both Extra Trees and Balanced Random Forest can be considered for sentiment analysis tasks, depending on the characteristics of your dataset and the specific requirements of your project. It's recommended to experiment with different algorithms and evaluate their performance to determine the most suitable approach for your task."
      ],
      "metadata": {
        "id": "UmbiRj9VE84m"
      }
    },
    {
      "cell_type": "code",
      "source": [
        "import pandas as pd\n",
        "from sklearn.feature_extraction.text import TfidfVectorizer\n",
        "from sklearn.model_selection import train_test_split\n",
        "from sklearn.ensemble import RandomForestClassifier\n",
        "from sklearn.metrics import accuracy_score, precision_score, recall_score, f1_score\n",
        "\n",
        "# Load the data into the \"Work_from_data\" dataframe\n",
        "# Assuming you have already loaded the data into the dataframe\n",
        "\n",
        "# Define the features and target variable\n",
        "features = ['clean_text']\n",
        "target = ['sentiment_label']  # Assuming you have a 'sentiment_label' column indicating the sentiment of each tweet\n",
        "\n",
        "# Split the data into training, validation, and test sets\n",
        "train_data, test_data = train_test_split(Work_from_data, test_size=0.2, random_state=42)\n",
        "train_data, valid_data = train_test_split(train_data, test_size=0.25, random_state=42)\n",
        "\n",
        "# Extract the feature and target data for each set\n",
        "X_train = train_data[features]\n",
        "y_train = train_data[target]\n",
        "X_valid = valid_data[features]\n",
        "y_valid = valid_data[target]\n",
        "X_test = test_data[features]\n",
        "y_test = test_data[target]\n",
        "\n",
        "# Create a TfidfVectorizer object\n",
        "vectorizer = TfidfVectorizer()\n",
        "\n",
        "# Fit the vectorizer on the training data and transform the text data\n",
        "X_train_tfidf = vectorizer.fit_transform(X_train['clean_text'])\n",
        "\n",
        "# Transform the text data of the validation and test sets\n",
        "X_valid_tfidf = vectorizer.transform(X_valid['clean_text'])\n",
        "X_test_tfidf = vectorizer.transform(X_test['clean_text'])\n",
        "\n",
        "# Reshape the target variable to a 1D array\n",
        "y_train = y_train.values.ravel()\n",
        "\n",
        "# Create a Random Forest classifier\n",
        "classifier = RandomForestClassifier(n_estimators=100, random_state=42)\n",
        "\n",
        "# Train the classifier on the training data\n",
        "classifier.fit(X_train_tfidf, y_train)\n",
        "\n",
        "# Predict sentiments on the validation set\n",
        "y_valid_pred = classifier.predict(X_valid_tfidf)\n",
        "\n",
        "# Evaluate the performance of the model on the training set\n",
        "accuracy_rf = accuracy_score(y_train, y_train_pred)\n",
        "precision_rf = precision_score(y_train, y_train_pred, average='weighted')\n",
        "recall_rf = recall_score(y_train, y_train_pred, average='weighted')\n",
        "f1_rf = f1_score(y_train, y_train_pred, average='weighted')\n",
        "\n",
        "# Print the evaluation metrics\n",
        "print(\"Training Set Metrics:\")\n",
        "print(\"Accuracy:\", accuracy_rf)\n",
        "print(\"Precision:\", precision_rf)\n",
        "print(\"Recall:\", recall_rf)\n",
        "print(\"F1-Score:\", f1_rf)\n",
        "\n"
      ],
      "metadata": {
        "colab": {
          "base_uri": "https://localhost:8080/"
        },
        "id": "JHzDQB4fE-kl",
        "outputId": "1d1d9f6c-ed55-452b-a966-f8fa0a7a9b41"
      },
      "execution_count": null,
      "outputs": [
        {
          "output_type": "stream",
          "name": "stdout",
          "text": [
            "Training Set Metrics:\n",
            "Accuracy: 0.8409506398537477\n",
            "Precision: 0.8705805859000043\n",
            "Recall: 0.8409506398537477\n",
            "F1-Score: 0.8364662527151637\n"
          ]
        }
      ]
    },
    {
      "cell_type": "markdown",
      "source": [
        "Logistic regression:"
      ],
      "metadata": {
        "id": "zC9OJkqO4xGB"
      }
    },
    {
      "cell_type": "markdown",
      "source": [
        "update one"
      ],
      "metadata": {
        "id": "xrJyZgGGB4eB"
      }
    },
    {
      "cell_type": "markdown",
      "source": [
        "One-vs-Rest (OvR) or One-vs-All (OvA): In this approach, a separate logistic regression model is trained for each class against the rest of the classes. During inference, the class with the highest probability is assigned as the predicted class.\n",
        "\n",
        "Multinomial Logistic Regression: In this method, a single logistic regression model is trained to directly predict the probabilities of all classes using the multinomial distribution. This approach treats the problem as a single optimization task and can potentially lead to better performance compared to OvR.\n",
        "\n",
        "Ordinal Logistic Regression: This method is used for ordinal classification problems, where the classes have a natural order. Instead of predicting individual class probabilities, ordinal logistic regression models the cumulative probabilities of the classes based on their order."
      ],
      "metadata": {
        "id": "mu5O0lHGGu4d"
      }
    },
    {
      "cell_type": "markdown",
      "source": [
        "upadted methods"
      ],
      "metadata": {
        "id": "8gLtsOOFHPbk"
      }
    },
    {
      "cell_type": "code",
      "source": [
        "import pandas as pd\n",
        "from sklearn.feature_extraction.text import TfidfVectorizer\n",
        "from sklearn.model_selection import train_test_split\n",
        "from sklearn.linear_model import LogisticRegression\n",
        "from sklearn.metrics import accuracy_score, precision_score, recall_score, f1_score\n",
        "\n",
        "# Load the data into the \"Work_from_data\" dataframe\n",
        "# Assuming you have already loaded the data into the dataframe\n",
        "\n",
        "# Define the features and target variable\n",
        "features = ['clean_text']\n",
        "target = ['sentiment_label']  # Assuming you have a 'sentiment_label' column indicating the sentiment of each tweet\n",
        "\n",
        "# Split the data into training, validation, and test sets\n",
        "train_data, test_data = train_test_split(Work_from_data, test_size=0.2, random_state=42)\n",
        "train_data, valid_data = train_test_split(train_data, test_size=0.25, random_state=42)\n",
        "\n",
        "# Extract the feature and target data for each set\n",
        "X_train = train_data[features]\n",
        "y_train = train_data[target]\n",
        "X_valid = valid_data[features]\n",
        "y_valid = valid_data[target]\n",
        "\n",
        "# Create a TfidfVectorizer object\n",
        "vectorizer = TfidfVectorizer()\n",
        "\n",
        "# Fit the vectorizer on the training data and transform the text data\n",
        "X_train_tfidf = vectorizer.fit_transform(X_train['clean_text'])\n",
        "\n",
        "# Transform the text data of the validation set\n",
        "X_valid_tfidf = vectorizer.transform(X_valid['clean_text'])\n",
        "\n",
        "# Create a LogisticRegression classifier\n",
        "classifier = LogisticRegression()\n",
        "\n",
        "# Train the classifier on the training data\n",
        "classifier.fit(X_train_tfidf, y_train.values.ravel())  # Ravel y to remove the DataConversionWarning\n",
        "\n",
        "# Predict sentiments on the validation set\n",
        "y_valid_pred = classifier.predict(X_valid_tfidf)\n",
        "\n",
        "# Evaluate the model performance on the validation set\n",
        "accuracy_lr = accuracy_score(y_valid, y_valid_pred)\n",
        "precision_lr = precision_score(y_valid, y_valid_pred, average='weighted')\n",
        "recall_lr = recall_score(y_valid, y_valid_pred, average='weighted')\n",
        "f1_lr = f1_score(y_valid, y_valid_pred, average='weighted')\n",
        "\n",
        "# Print the evaluation metrics\n",
        "print(\"Validation Set Metrics:\")\n",
        "print(\"Accuracy:\", accuracy_lr)\n",
        "print(\"Precision:\", precision_lr)\n",
        "print(\"Recall:\", recall_lr)\n",
        "print(\"F1-Score:\", f1_lr)\n"
      ],
      "metadata": {
        "colab": {
          "base_uri": "https://localhost:8080/"
        },
        "id": "ThUe1rjTGwil",
        "outputId": "cef1751c-4358-43b2-e72c-0b40ed821ae2"
      },
      "execution_count": null,
      "outputs": [
        {
          "output_type": "stream",
          "name": "stdout",
          "text": [
            "Validation Set Metrics:\n",
            "Accuracy: 0.8071297989031079\n",
            "Precision: 0.813327692839488\n",
            "Recall: 0.8071297989031079\n",
            "F1-Score: 0.8004881217837384\n"
          ]
        }
      ]
    },
    {
      "cell_type": "markdown",
      "source": [
        "RNN"
      ],
      "metadata": {
        "id": "bQqPzscL8maA"
      }
    },
    {
      "cell_type": "code",
      "source": [
        "import pandas as pd\n",
        "from sklearn.model_selection import train_test_split\n",
        "from tensorflow.keras.models import Sequential\n",
        "from tensorflow.keras.layers import Embedding, LSTM, Dense\n",
        "from tensorflow.keras.preprocessing.text import Tokenizer\n",
        "from tensorflow.keras.preprocessing.sequence import pad_sequences\n",
        "from sklearn.preprocessing import LabelEncoder\n",
        "\n",
        "# Load the data into the \"Work_from_data\" dataframe\n",
        "# Assuming you have already loaded the data into the dataframe\n",
        "\n",
        "# Define the features and target variable\n",
        "features = ['clean_text']\n",
        "target = ['sentiment_label']  # Assuming you have a 'sentiment_label' column indicating the sentiment of each tweet\n",
        "\n",
        "# Split the data into training, validation, and test sets\n",
        "train_data, test_data = train_test_split(Work_from_data, test_size=0.2, random_state=42)\n",
        "train_data, valid_data = train_test_split(train_data, test_size=0.25, random_state=42)\n",
        "\n",
        "# Extract the feature and target data for each set\n",
        "X_train = train_data[features]\n",
        "y_train = train_data[target]\n",
        "X_valid = valid_data[features]\n",
        "y_valid = valid_data[target]\n",
        "\n",
        "# Encode the target variable\n",
        "label_encoder = LabelEncoder()\n",
        "y_train_encoded = label_encoder.fit_transform(y_train)\n",
        "y_valid_encoded = label_encoder.transform(y_valid)\n",
        "\n",
        "# Tokenize the text data\n",
        "tokenizer = Tokenizer()\n",
        "tokenizer.fit_on_texts(X_train['clean_text'])\n",
        "\n",
        "# Convert text data to sequences\n",
        "X_train_seq = tokenizer.texts_to_sequences(X_train['clean_text'])\n",
        "X_valid_seq = tokenizer.texts_to_sequences(X_valid['clean_text'])\n",
        "\n",
        "# Pad sequences to ensure equal length\n",
        "max_sequence_length = 100  # Set the desired sequence length\n",
        "X_train_padded = pad_sequences(X_train_seq, maxlen=max_sequence_length)\n",
        "X_valid_padded = pad_sequences(X_valid_seq, maxlen=max_sequence_length)\n",
        "\n",
        "# Create the RNN model\n",
        "model = Sequential()\n",
        "model.add(Embedding(input_dim=len(tokenizer.word_index) + 1, output_dim=100, input_length=max_sequence_length))\n",
        "model.add(LSTM(100))\n",
        "model.add(Dense(len(label_encoder.classes_), activation='softmax'))\n",
        "\n",
        "# Compile the model\n",
        "model.compile(loss='sparse_categorical_crossentropy', optimizer='adam', metrics=['accuracy'])\n",
        "\n",
        "# Train the model\n",
        "model.fit(X_train_padded, y_train_encoded, validation_data=(X_valid_padded, y_valid_encoded), epochs=10, batch_size=32)\n",
        "\n",
        "# Evaluate the model\n",
        "_, accuracy_rnn = model.evaluate(X_valid_padded, y_valid_encoded)\n",
        "print(\"Validation Set Accuracy:\", accuracy_rnn)\n"
      ],
      "metadata": {
        "colab": {
          "base_uri": "https://localhost:8080/"
        },
        "id": "dmCU-GjLH4B9",
        "outputId": "04a37fc6-9678-4635-cbdb-e75f129b5546"
      },
      "execution_count": null,
      "outputs": [
        {
          "output_type": "stream",
          "name": "stderr",
          "text": [
            "/usr/local/lib/python3.10/dist-packages/sklearn/preprocessing/_label.py:116: DataConversionWarning: A column-vector y was passed when a 1d array was expected. Please change the shape of y to (n_samples, ), for example using ravel().\n",
            "  y = column_or_1d(y, warn=True)\n",
            "/usr/local/lib/python3.10/dist-packages/sklearn/preprocessing/_label.py:134: DataConversionWarning: A column-vector y was passed when a 1d array was expected. Please change the shape of y to (n_samples, ), for example using ravel().\n",
            "  y = column_or_1d(y, dtype=self.classes_.dtype, warn=True)\n"
          ]
        },
        {
          "output_type": "stream",
          "name": "stdout",
          "text": [
            "Epoch 1/10\n",
            "103/103 [==============================] - 21s 138ms/step - loss: 0.7841 - accuracy: 0.6536 - val_loss: 0.5711 - val_accuracy: 0.7770\n",
            "Epoch 2/10\n",
            "103/103 [==============================] - 14s 140ms/step - loss: 0.3023 - accuracy: 0.8912 - val_loss: 0.4489 - val_accuracy: 0.8199\n",
            "Epoch 3/10\n",
            "103/103 [==============================] - 13s 128ms/step - loss: 0.0815 - accuracy: 0.9771 - val_loss: 0.5654 - val_accuracy: 0.8190\n",
            "Epoch 4/10\n",
            "103/103 [==============================] - 14s 134ms/step - loss: 0.0310 - accuracy: 0.9939 - val_loss: 0.6440 - val_accuracy: 0.8336\n",
            "Epoch 5/10\n",
            "103/103 [==============================] - 15s 144ms/step - loss: 0.0103 - accuracy: 0.9982 - val_loss: 0.6588 - val_accuracy: 0.8181\n",
            "Epoch 6/10\n",
            "103/103 [==============================] - 14s 136ms/step - loss: 0.0051 - accuracy: 0.9991 - val_loss: 0.6502 - val_accuracy: 0.8282\n",
            "Epoch 7/10\n",
            "103/103 [==============================] - 14s 136ms/step - loss: 0.0049 - accuracy: 0.9994 - val_loss: 0.7152 - val_accuracy: 0.8336\n",
            "Epoch 8/10\n",
            "103/103 [==============================] - 15s 145ms/step - loss: 6.7803e-04 - accuracy: 1.0000 - val_loss: 0.7947 - val_accuracy: 0.8272\n",
            "Epoch 9/10\n",
            "103/103 [==============================] - 14s 135ms/step - loss: 3.8897e-04 - accuracy: 1.0000 - val_loss: 0.8383 - val_accuracy: 0.8282\n",
            "Epoch 10/10\n",
            "103/103 [==============================] - 14s 136ms/step - loss: 2.7340e-04 - accuracy: 1.0000 - val_loss: 0.8780 - val_accuracy: 0.8254\n",
            "35/35 [==============================] - 1s 30ms/step - loss: 0.8780 - accuracy: 0.8254\n",
            "Validation Set Accuracy: 0.825411319732666\n"
          ]
        }
      ]
    },
    {
      "cell_type": "code",
      "source": [
        "import pandas as pd\n",
        "from sklearn.model_selection import train_test_split\n",
        "from tensorflow.keras.models import Sequential\n",
        "from tensorflow.keras.layers import Embedding, LSTM, Dense\n",
        "from tensorflow.keras.preprocessing.text import Tokenizer\n",
        "from tensorflow.keras.preprocessing.sequence import pad_sequences\n",
        "from sklearn.preprocessing import LabelEncoder\n",
        "from sklearn.metrics import precision_score, recall_score, f1_score\n",
        "import numpy as np\n",
        "\n",
        "# Load the data into the \"Work_from_data\" dataframe\n",
        "# Assuming you have already loaded the data into the dataframe\n",
        "\n",
        "# Define the features and target variable\n",
        "features = ['clean_text']\n",
        "target = ['sentiment_label']  # Assuming you have a 'sentiment_label' column indicating the sentiment of each tweet\n",
        "\n",
        "# Split the data into training, validation, and test sets\n",
        "train_data, test_data = train_test_split(Work_from_data, test_size=0.2, random_state=42)\n",
        "train_data, valid_data = train_test_split(train_data, test_size=0.25, random_state=42)\n",
        "\n",
        "# Extract the feature and target data for each set\n",
        "X_train = train_data[features]\n",
        "y_train = train_data[target]\n",
        "X_valid = valid_data[features]\n",
        "y_valid = valid_data[target]\n",
        "\n",
        "# Encode the target variable\n",
        "label_encoder = LabelEncoder()\n",
        "y_train_encoded = label_encoder.fit_transform(y_train)\n",
        "y_valid_encoded = label_encoder.transform(y_valid)\n",
        "\n",
        "# Tokenize the text data\n",
        "tokenizer = Tokenizer()\n",
        "tokenizer.fit_on_texts(X_train['clean_text'])\n",
        "\n",
        "# Convert text data to sequences\n",
        "X_train_seq = tokenizer.texts_to_sequences(X_train['clean_text'])\n",
        "X_valid_seq = tokenizer.texts_to_sequences(X_valid['clean_text'])\n",
        "\n",
        "# Pad sequences to ensure equal length\n",
        "max_sequence_length = 100  # Set the desired sequence length\n",
        "X_train_padded = pad_sequences(X_train_seq, maxlen=max_sequence_length)\n",
        "X_valid_padded = pad_sequences(X_valid_seq, maxlen=max_sequence_length)\n",
        "\n",
        "# Create the RNN model\n",
        "model = Sequential()\n",
        "model.add(Embedding(input_dim=len(tokenizer.word_index) + 1, output_dim=100, input_length=max_sequence_length))\n",
        "model.add(LSTM(100))\n",
        "model.add(Dense(len(label_encoder.classes_), activation='softmax'))\n",
        "\n",
        "# Compile the model\n",
        "model.compile(loss='sparse_categorical_crossentropy', optimizer='adam', metrics=['accuracy'])\n",
        "\n",
        "# Train the model\n",
        "model.fit(X_train_padded, y_train_encoded, validation_data=(X_valid_padded, y_valid_encoded), epochs=10, batch_size=32)\n",
        "\n",
        "# Evaluate the model\n",
        "_, accuracy_rnn = model.evaluate(X_valid_padded, y_valid_encoded)\n",
        "y_valid_pred_proba = model.predict(X_valid_padded)\n",
        "y_valid_pred = np.argmax(y_valid_pred_proba, axis=1)\n",
        "\n",
        "# Convert the predictions back to original labels\n",
        "y_valid_pred = label_encoder.inverse_transform(y_valid_pred)\n",
        "\n",
        "# Calculate precision, recall, and F1-score\n",
        "precision = precision_score(y_valid, y_valid_pred, average='weighted')\n",
        "recall = recall_score(y_valid, y_valid_pred, average='weighted')\n",
        "f1 = f1_score(y_valid, y_valid_pred, average='weighted')\n",
        "\n",
        "# Print the evaluation metrics\n",
        "print(\"Validation Set Accuracy:\", accuracy_rnn)\n",
        "print(\"Validation Set Precision:\", precision)\n",
        "print(\"Validation Set Recall:\", recall)\n",
        "print(\"Validation Set F1-Score:\", f1)\n"
      ],
      "metadata": {
        "colab": {
          "base_uri": "https://localhost:8080/"
        },
        "id": "Vb1ci98ni2Jm",
        "outputId": "7346029d-e04b-443b-9339-828b84d878e4"
      },
      "execution_count": null,
      "outputs": [
        {
          "output_type": "stream",
          "name": "stderr",
          "text": [
            "/usr/local/lib/python3.10/dist-packages/sklearn/preprocessing/_label.py:116: DataConversionWarning: A column-vector y was passed when a 1d array was expected. Please change the shape of y to (n_samples, ), for example using ravel().\n",
            "  y = column_or_1d(y, warn=True)\n",
            "/usr/local/lib/python3.10/dist-packages/sklearn/preprocessing/_label.py:134: DataConversionWarning: A column-vector y was passed when a 1d array was expected. Please change the shape of y to (n_samples, ), for example using ravel().\n",
            "  y = column_or_1d(y, dtype=self.classes_.dtype, warn=True)\n"
          ]
        },
        {
          "output_type": "stream",
          "name": "stdout",
          "text": [
            "Epoch 1/10\n",
            "103/103 [==============================] - 16s 135ms/step - loss: 0.7844 - accuracy: 0.6496 - val_loss: 0.5579 - val_accuracy: 0.7770\n",
            "Epoch 2/10\n",
            "103/103 [==============================] - 13s 129ms/step - loss: 0.2875 - accuracy: 0.8985 - val_loss: 0.4377 - val_accuracy: 0.8327\n",
            "Epoch 3/10\n",
            "103/103 [==============================] - 13s 131ms/step - loss: 0.0737 - accuracy: 0.9784 - val_loss: 0.5017 - val_accuracy: 0.8391\n",
            "Epoch 4/10\n",
            "103/103 [==============================] - 13s 130ms/step - loss: 0.0262 - accuracy: 0.9927 - val_loss: 0.5788 - val_accuracy: 0.8400\n",
            "Epoch 5/10\n",
            "103/103 [==============================] - 14s 132ms/step - loss: 0.0087 - accuracy: 0.9988 - val_loss: 0.6765 - val_accuracy: 0.8455\n",
            "Epoch 6/10\n",
            "103/103 [==============================] - 13s 129ms/step - loss: 0.0013 - accuracy: 1.0000 - val_loss: 0.7087 - val_accuracy: 0.8419\n",
            "Epoch 7/10\n",
            "103/103 [==============================] - 13s 130ms/step - loss: 6.4620e-04 - accuracy: 1.0000 - val_loss: 0.7722 - val_accuracy: 0.8391\n",
            "Epoch 8/10\n",
            "103/103 [==============================] - 14s 139ms/step - loss: 8.6166e-04 - accuracy: 0.9997 - val_loss: 0.7782 - val_accuracy: 0.8355\n",
            "Epoch 9/10\n",
            "103/103 [==============================] - 13s 131ms/step - loss: 6.6189e-04 - accuracy: 0.9997 - val_loss: 0.8020 - val_accuracy: 0.8391\n",
            "Epoch 10/10\n",
            "103/103 [==============================] - 13s 131ms/step - loss: 8.1179e-04 - accuracy: 1.0000 - val_loss: 0.8073 - val_accuracy: 0.8373\n",
            "35/35 [==============================] - 1s 29ms/step - loss: 0.8073 - accuracy: 0.8373\n",
            "35/35 [==============================] - 1s 28ms/step\n",
            "Validation Set Accuracy: 0.837294340133667\n",
            "Validation Set Precision: 0.8373479723045159\n",
            "Validation Set Recall: 0.8372943327239488\n",
            "Validation Set F1-Score: 0.8369424232906127\n"
          ]
        }
      ]
    },
    {
      "cell_type": "markdown",
      "source": [
        "# **Algorithm Selection ✈ :**"
      ],
      "metadata": {
        "id": "mrgd4hrGQqUN"
      }
    },
    {
      "cell_type": "code",
      "source": [
        "import pandas as pd\n",
        "from sklearn.feature_extraction.text import TfidfVectorizer\n",
        "from sklearn.model_selection import train_test_split\n",
        "from sklearn.naive_bayes import MultinomialNB\n",
        "from sklearn.svm import SVC\n",
        "from sklearn.ensemble import RandomForestClassifier\n",
        "from sklearn.linear_model import LogisticRegression\n",
        "from tensorflow.keras.models import Sequential\n",
        "from tensorflow.keras.layers import Embedding, LSTM, Dense\n",
        "from tensorflow.keras.preprocessing.text import Tokenizer\n",
        "from tensorflow.keras.preprocessing.sequence import pad_sequences\n",
        "from sklearn.preprocessing import LabelEncoder\n",
        "from sklearn.metrics import accuracy_score\n",
        "\n",
        "# Load the data into the \"Work_from_data\" dataframe\n",
        "# Assuming you have already loaded the data into the dataframe\n",
        "\n",
        "# Define the features and target variable\n",
        "features = ['clean_text']\n",
        "target = ['sentiment_label']  # Assuming you have a 'sentiment_label' column indicating the sentiment of each tweet\n",
        "\n",
        "# Split the data into training, validation, and test sets\n",
        "train_data, test_data = train_test_split(Work_from_data, test_size=0.2, random_state=42)\n",
        "train_data, valid_data = train_test_split(train_data, test_size=0.25, random_state=42)\n",
        "\n",
        "# Extract the feature and target data for each set\n",
        "X_train = train_data[features]\n",
        "y_train = train_data[target].values.ravel()\n",
        "X_valid = valid_data[features]\n",
        "y_valid = valid_data[target]\n",
        "\n",
        "# Create a TfidfVectorizer object\n",
        "vectorizer = TfidfVectorizer()\n",
        "\n",
        "# Fit the vectorizer on the training data and transform the text data\n",
        "X_train_tfidf = vectorizer.fit_transform(X_train['clean_text'])\n",
        "\n",
        "# Transform the text data of the validation set\n",
        "X_valid_tfidf = vectorizer.transform(X_valid['clean_text'])\n",
        "\n",
        "# Naive Bayes\n",
        "classifier_nb = MultinomialNB()\n",
        "classifier_nb.fit(X_train_tfidf, y_train)\n",
        "y_valid_pred_nb = classifier_nb.predict(X_valid_tfidf)\n",
        "accuracy_nb = accuracy_score(y_valid, y_valid_pred_nb)\n",
        "\n",
        "# SVM\n",
        "classifier_svm = SVC()\n",
        "classifier_svm.fit(X_train_tfidf, y_train)\n",
        "y_valid_pred_svm = classifier_svm.predict(X_valid_tfidf)\n",
        "accuracy_svm = accuracy_score(y_valid, y_valid_pred_svm)\n",
        "\n",
        "# Random Forest\n",
        "classifier_rf = RandomForestClassifier(n_estimators=100, random_state=42)\n",
        "classifier_rf.fit(X_train_tfidf, y_train)\n",
        "y_valid_pred_rf = classifier_rf.predict(X_valid_tfidf)\n",
        "accuracy_rf = accuracy_score(y_valid, y_valid_pred_rf)\n",
        "\n",
        "# Logistic Regression\n",
        "classifier_lr = LogisticRegression()\n",
        "classifier_lr.fit(X_train_tfidf, y_train)\n",
        "y_valid_pred_lr = classifier_lr.predict(X_valid_tfidf)\n",
        "accuracy_lr = accuracy_score(y_valid, y_valid_pred_lr)\n",
        "\n",
        "# RNN\n",
        "tokenizer = Tokenizer()\n",
        "tokenizer.fit_on_texts(X_train['clean_text'])\n",
        "X_train_seq = tokenizer.texts_to_sequences(X_train['clean_text'])\n",
        "X_valid_seq = tokenizer.texts_to_sequences(X_valid['clean_text'])\n",
        "max_sequence_length = 100\n",
        "X_train_padded = pad_sequences(X_train_seq, maxlen=max_sequence_length)\n",
        "X_valid_padded = pad_sequences(X_valid_seq, maxlen=max_sequence_length)\n",
        "label_encoder = LabelEncoder()\n",
        "y_train_encoded = label_encoder.fit_transform(y_train)\n",
        "y_valid_encoded = label_encoder.transform(y_valid)\n",
        "model_rnn = Sequential()\n",
        "model_rnn.add(Embedding(input_dim=len(tokenizer.word_index) + 1, output_dim=100, input_length=max_sequence_length))\n",
        "model_rnn.add(LSTM(100))\n",
        "model_rnn.add(Dense(len(label_encoder.classes_), activation='softmax'))\n",
        "model_rnn.compile(loss='sparse_categorical_crossentropy', optimizer='adam', metrics=['accuracy'])\n",
        "model_rnn.fit(X_train_padded, y_train_encoded, validation_data=(X_valid_padded, y_valid_encoded), epochs=10, batch_size=32)\n",
        "_, accuracy_rnn = model_rnn.evaluate(X_valid_padded, y_valid_encoded)\n",
        "\n",
        "# Store the accuracies in a dictionary\n",
        "accuracy_dict = {'Naive Bayes': accuracy_nb, 'SVM': accuracy_svm, 'Random Forest': accuracy_rf,\n",
        "                 'Logistic Regression': accuracy_lr, 'RNN': accuracy_rnn}\n",
        "\n",
        "# Find the algorithm with the highest accuracy\n",
        "best_algorithm = max(accuracy_dict, key=accuracy_dict.get)\n",
        "best_accuracy = accuracy_dict[best_algorithm]\n",
        "\n",
        "# Print the results\n",
        "print(\"Accuracy for each algorithm:\")\n",
        "for algorithm, accuracy in accuracy_dict.items():\n",
        "    print(algorithm, \":\", accuracy)\n",
        "print(\"Best algorithm:\", best_algorithm)\n",
        "print(\"Best accuracy:\", best_accuracy)\n"
      ],
      "metadata": {
        "colab": {
          "base_uri": "https://localhost:8080/"
        },
        "id": "af2s2jgPNHYE",
        "outputId": "bafc5e2c-3c10-43bd-f562-6aeda0360aa8"
      },
      "execution_count": null,
      "outputs": [
        {
          "output_type": "stream",
          "name": "stderr",
          "text": [
            "/usr/local/lib/python3.10/dist-packages/sklearn/preprocessing/_label.py:134: DataConversionWarning: A column-vector y was passed when a 1d array was expected. Please change the shape of y to (n_samples, ), for example using ravel().\n",
            "  y = column_or_1d(y, dtype=self.classes_.dtype, warn=True)\n"
          ]
        },
        {
          "output_type": "stream",
          "name": "stdout",
          "text": [
            "Epoch 1/10\n",
            "103/103 [==============================] - 16s 135ms/step - loss: 0.7962 - accuracy: 0.6499 - val_loss: 0.5590 - val_accuracy: 0.7879\n",
            "Epoch 2/10\n",
            "103/103 [==============================] - 13s 128ms/step - loss: 0.2908 - accuracy: 0.8998 - val_loss: 0.4531 - val_accuracy: 0.8291\n",
            "Epoch 3/10\n",
            "103/103 [==============================] - 13s 124ms/step - loss: 0.0693 - accuracy: 0.9808 - val_loss: 0.5326 - val_accuracy: 0.8309\n",
            "Epoch 4/10\n",
            "103/103 [==============================] - 13s 127ms/step - loss: 0.0271 - accuracy: 0.9924 - val_loss: 0.6246 - val_accuracy: 0.8355\n",
            "Epoch 5/10\n",
            "103/103 [==============================] - 14s 139ms/step - loss: 0.0196 - accuracy: 0.9948 - val_loss: 0.6329 - val_accuracy: 0.8400\n",
            "Epoch 6/10\n",
            "103/103 [==============================] - 13s 130ms/step - loss: 0.0120 - accuracy: 0.9973 - val_loss: 0.7000 - val_accuracy: 0.8318\n",
            "Epoch 7/10\n",
            "103/103 [==============================] - 13s 129ms/step - loss: 0.0076 - accuracy: 0.9979 - val_loss: 0.6694 - val_accuracy: 0.8318\n",
            "Epoch 8/10\n",
            "103/103 [==============================] - 14s 132ms/step - loss: 0.0024 - accuracy: 0.9997 - val_loss: 0.7436 - val_accuracy: 0.8400\n",
            "Epoch 9/10\n",
            "103/103 [==============================] - 14s 132ms/step - loss: 0.0024 - accuracy: 0.9997 - val_loss: 0.7355 - val_accuracy: 0.8382\n",
            "Epoch 10/10\n",
            "103/103 [==============================] - 13s 131ms/step - loss: 4.0407e-04 - accuracy: 1.0000 - val_loss: 0.8270 - val_accuracy: 0.8391\n",
            "35/35 [==============================] - 1s 40ms/step - loss: 0.8270 - accuracy: 0.8391\n",
            "Accuracy for each algorithm:\n",
            "Naive Bayes : 0.7559414990859232\n",
            "SVM : 0.823583180987203\n",
            "Random Forest : 0.8281535648994516\n",
            "Logistic Regression : 0.8071297989031079\n",
            "RNN : 0.839122474193573\n",
            "Best algorithm: RNN\n",
            "Best accuracy: 0.839122474193573\n"
          ]
        }
      ]
    },
    {
      "cell_type": "markdown",
      "source": [
        "# **Fine-tune and Validate the Model ✈ :**"
      ],
      "metadata": {
        "id": "RdGIN3F6Qqnl"
      }
    },
    {
      "cell_type": "markdown",
      "source": [
        "Hyperparameter tuning"
      ],
      "metadata": {
        "id": "mv4NmTu_qsHr"
      }
    },
    {
      "cell_type": "markdown",
      "source": [
        "Fine-tune and validate the model: Adjust the model's parameters and hyperparameters through techniques like cross-validation and grid search to optimize its performance. Validate the model using the traning set."
      ],
      "metadata": {
        "id": "MdTq5XK5vyxj"
      }
    },
    {
      "cell_type": "code",
      "source": [
        "import pandas as pd\n",
        "from sklearn.feature_extraction.text import TfidfVectorizer\n",
        "from sklearn.model_selection import train_test_split, GridSearchCV\n",
        "from sklearn.naive_bayes import MultinomialNB\n",
        "from sklearn.svm import SVC\n",
        "from sklearn.ensemble import RandomForestClassifier\n",
        "from sklearn.linear_model import LogisticRegression\n",
        "from tensorflow.keras.models import Sequential\n",
        "from tensorflow.keras.layers import Embedding, LSTM, Dense\n",
        "from tensorflow.keras.preprocessing.text import Tokenizer\n",
        "from tensorflow.keras.preprocessing.sequence import pad_sequences\n",
        "from sklearn.preprocessing import LabelEncoder\n",
        "from sklearn.metrics import accuracy_score\n",
        "\n",
        "# Load the data into the \"Work_from_data\" dataframe\n",
        "# Assuming you have already loaded the data into the dataframe\n",
        "\n",
        "# Define the features and target variable\n",
        "features = ['clean_text']\n",
        "target = ['sentiment_label']  # Assuming you have a 'sentiment_label' column indicating the sentiment of each tweet\n",
        "\n",
        "# Split the data into training and validation sets\n",
        "train_data, valid_data = train_test_split(Work_from_data, test_size=0.2, random_state=42)\n",
        "\n",
        "# Extract the feature and target data for each set\n",
        "X_train = train_data[features]\n",
        "y_train = train_data[target].values.ravel()\n",
        "X_valid = valid_data[features]\n",
        "y_valid = valid_data[target]\n",
        "\n",
        "# Create a TfidfVectorizer object\n",
        "vectorizer = TfidfVectorizer()\n",
        "\n",
        "# Fit the vectorizer on the training data and transform the text data\n",
        "X_train_tfidf = vectorizer.fit_transform(X_train['clean_text'])\n",
        "\n",
        "# Transform the text data of the validation set\n",
        "X_valid_tfidf = vectorizer.transform(X_valid['clean_text'])\n",
        "\n",
        "# Define the hyperparameters and parameter grid for grid search for each algorithm\n",
        "param_grid_nb = {'alpha': [0.1, 0.5, 1.0]}  # Example hyperparameters to tune for Naive Bayes\n",
        "param_grid_svm = {'C': [0.1, 1.0, 10.0]}  # Example hyperparameters to tune for SVM\n",
        "param_grid_rf = {'n_estimators': [100, 200, 300]}  # Example hyperparameters to tune for Random Forest\n",
        "param_grid_lr = {'C': [0.1, 1.0, 10.0]}  # Example hyperparameters to tune for Logistic Regression\n",
        "param_grid_rnn = {'epochs': [10, 20, 30]}  # Example hyperparameters to tune for RNN\n",
        "\n",
        "# Perform grid search using cross-validation for each algorithm\n",
        "grid_search_nb = GridSearchCV(estimator=MultinomialNB(), param_grid=param_grid_nb, cv=5)\n",
        "grid_search_svm = GridSearchCV(estimator=SVC(), param_grid=param_grid_svm, cv=5)\n",
        "grid_search_rf = GridSearchCV(estimator=RandomForestClassifier(), param_grid=param_grid_rf, cv=5)\n",
        "grid_search_lr = GridSearchCV(estimator=LogisticRegression(), param_grid=param_grid_lr, cv=5)\n",
        "\n",
        "# Tokenize the text data for RNN\n",
        "tokenizer = Tokenizer()\n",
        "tokenizer.fit_on_texts(X_train['clean_text'])\n",
        "X_train_seq = tokenizer.texts_to_sequences(X_train['clean_text'])\n",
        "X_valid_seq = tokenizer.texts_to_sequences(X_valid['clean_text'])\n",
        "max_sequence_length = 100\n",
        "X_train_padded = pad_sequences(X_train_seq, maxlen=max_sequence_length)\n",
        "X_valid_padded = pad_sequences(X_valid_seq, maxlen=max_sequence_length)\n",
        "label_encoder = LabelEncoder()\n",
        "y_train_encoded = label_encoder.fit_transform(y_train)\n",
        "y_valid_encoded = label_encoder.transform(y_valid)\n",
        "\n",
        "# Create the RNN model\n",
        "model_rnn = Sequential()\n",
        "model_rnn.add(Embedding(input_dim=len(tokenizer.word_index) + 1, output_dim=100, input_length=max_sequence_length))\n",
        "model_rnn.add(LSTM(100))\n",
        "model_rnn.add(Dense(len(label_encoder.classes_), activation='softmax'))\n",
        "\n",
        "# Compile the RNN model\n",
        "model_rnn.compile(loss='sparse_categorical_crossentropy', optimizer='adam', metrics=['accuracy'])\n",
        "\n",
        "# Perform grid search and fine-tuning for each algorithm\n",
        "grid_search_nb.fit(X_train_tfidf, y_train)\n",
        "grid_search_svm.fit(X_train_tfidf, y_train)\n",
        "grid_search_rf.fit(X_train_tfidf, y_train)\n",
        "grid_search_lr.fit(X_train_tfidf, y_train)\n",
        "model_rnn.fit(X_train_padded, y_train_encoded, epochs=10, batch_size=32)\n",
        "\n",
        "# Get the best estimators from the grid search\n",
        "best_classifier_nb = grid_search_nb.best_estimator_\n",
        "best_classifier_svm = grid_search_svm.best_estimator_\n",
        "best_classifier_rf = grid_search_rf.best_estimator_\n",
        "best_classifier_lr = grid_search_lr.best_estimator_\n",
        "\n",
        "# Predict sentiments on the validation set using the best estimators\n",
        "y_valid_pred_nb = best_classifier_nb.predict(X_valid_tfidf)\n",
        "y_valid_pred_svm = best_classifier_svm.predict(X_valid_tfidf)\n",
        "y_valid_pred_rf = best_classifier_rf.predict(X_valid_tfidf)\n",
        "y_valid_pred_lr = best_classifier_lr.predict(X_valid_tfidf)\n",
        "_, accuracy_rnn = model_rnn.evaluate(X_valid_padded, y_valid_encoded)\n",
        "\n",
        "# Calculate accuracies for each algorithm\n",
        "accuracy_nb = accuracy_score(y_valid, y_valid_pred_nb)\n",
        "accuracy_svm = accuracy_score(y_valid, y_valid_pred_svm)\n",
        "accuracy_rf = accuracy_score(y_valid, y_valid_pred_rf)\n",
        "accuracy_lr = accuracy_score(y_valid, y_valid_pred_lr)\n",
        "\n",
        "# Store the accuracies in a dictionary\n",
        "accuracy_dict = {'Naive Bayes': accuracy_nb, 'SVM': accuracy_svm, 'Random Forest': accuracy_rf,\n",
        "                 'Logistic Regression': accuracy_lr, 'RNN': accuracy_rnn}\n",
        "\n",
        "# Find the algorithm with the highest accuracy\n",
        "best_algorithm = max(accuracy_dict, key=accuracy_dict.get)\n",
        "best_accuracy = accuracy_dict[best_algorithm]\n",
        "\n",
        "# Print the results\n",
        "print(\"Accuracy for each algorithm:\")\n",
        "for algorithm, accuracy in accuracy_dict.items():\n",
        "    print(algorithm, \":\", accuracy)\n",
        "print(\"Best algorithm:\", best_algorithm)\n",
        "print(\"Best accuracy:\", best_accuracy)\n"
      ],
      "metadata": {
        "colab": {
          "base_uri": "https://localhost:8080/"
        },
        "id": "Re5881hrtjc0",
        "outputId": "31d905e8-4222-42d7-a05c-247c7435e3fc"
      },
      "execution_count": null,
      "outputs": [
        {
          "output_type": "stream",
          "name": "stderr",
          "text": [
            "/usr/local/lib/python3.10/dist-packages/sklearn/preprocessing/_label.py:134: DataConversionWarning: A column-vector y was passed when a 1d array was expected. Please change the shape of y to (n_samples, ), for example using ravel().\n",
            "  y = column_or_1d(y, dtype=self.classes_.dtype, warn=True)\n",
            "/usr/local/lib/python3.10/dist-packages/sklearn/linear_model/_logistic.py:458: ConvergenceWarning: lbfgs failed to converge (status=1):\n",
            "STOP: TOTAL NO. of ITERATIONS REACHED LIMIT.\n",
            "\n",
            "Increase the number of iterations (max_iter) or scale the data as shown in:\n",
            "    https://scikit-learn.org/stable/modules/preprocessing.html\n",
            "Please also refer to the documentation for alternative solver options:\n",
            "    https://scikit-learn.org/stable/modules/linear_model.html#logistic-regression\n",
            "  n_iter_i = _check_optimize_result(\n",
            "/usr/local/lib/python3.10/dist-packages/sklearn/linear_model/_logistic.py:458: ConvergenceWarning: lbfgs failed to converge (status=1):\n",
            "STOP: TOTAL NO. of ITERATIONS REACHED LIMIT.\n",
            "\n",
            "Increase the number of iterations (max_iter) or scale the data as shown in:\n",
            "    https://scikit-learn.org/stable/modules/preprocessing.html\n",
            "Please also refer to the documentation for alternative solver options:\n",
            "    https://scikit-learn.org/stable/modules/linear_model.html#logistic-regression\n",
            "  n_iter_i = _check_optimize_result(\n",
            "/usr/local/lib/python3.10/dist-packages/sklearn/linear_model/_logistic.py:458: ConvergenceWarning: lbfgs failed to converge (status=1):\n",
            "STOP: TOTAL NO. of ITERATIONS REACHED LIMIT.\n",
            "\n",
            "Increase the number of iterations (max_iter) or scale the data as shown in:\n",
            "    https://scikit-learn.org/stable/modules/preprocessing.html\n",
            "Please also refer to the documentation for alternative solver options:\n",
            "    https://scikit-learn.org/stable/modules/linear_model.html#logistic-regression\n",
            "  n_iter_i = _check_optimize_result(\n",
            "/usr/local/lib/python3.10/dist-packages/sklearn/linear_model/_logistic.py:458: ConvergenceWarning: lbfgs failed to converge (status=1):\n",
            "STOP: TOTAL NO. of ITERATIONS REACHED LIMIT.\n",
            "\n",
            "Increase the number of iterations (max_iter) or scale the data as shown in:\n",
            "    https://scikit-learn.org/stable/modules/preprocessing.html\n",
            "Please also refer to the documentation for alternative solver options:\n",
            "    https://scikit-learn.org/stable/modules/linear_model.html#logistic-regression\n",
            "  n_iter_i = _check_optimize_result(\n",
            "/usr/local/lib/python3.10/dist-packages/sklearn/linear_model/_logistic.py:458: ConvergenceWarning: lbfgs failed to converge (status=1):\n",
            "STOP: TOTAL NO. of ITERATIONS REACHED LIMIT.\n",
            "\n",
            "Increase the number of iterations (max_iter) or scale the data as shown in:\n",
            "    https://scikit-learn.org/stable/modules/preprocessing.html\n",
            "Please also refer to the documentation for alternative solver options:\n",
            "    https://scikit-learn.org/stable/modules/linear_model.html#logistic-regression\n",
            "  n_iter_i = _check_optimize_result(\n"
          ]
        },
        {
          "output_type": "stream",
          "name": "stdout",
          "text": [
            "Epoch 1/10\n"
          ]
        },
        {
          "output_type": "stream",
          "name": "stderr",
          "text": [
            "/usr/local/lib/python3.10/dist-packages/sklearn/linear_model/_logistic.py:458: ConvergenceWarning: lbfgs failed to converge (status=1):\n",
            "STOP: TOTAL NO. of ITERATIONS REACHED LIMIT.\n",
            "\n",
            "Increase the number of iterations (max_iter) or scale the data as shown in:\n",
            "    https://scikit-learn.org/stable/modules/preprocessing.html\n",
            "Please also refer to the documentation for alternative solver options:\n",
            "    https://scikit-learn.org/stable/modules/linear_model.html#logistic-regression\n",
            "  n_iter_i = _check_optimize_result(\n"
          ]
        },
        {
          "output_type": "stream",
          "name": "stdout",
          "text": [
            "137/137 [==============================] - 20s 126ms/step - loss: 0.7537 - accuracy: 0.6670\n",
            "Epoch 2/10\n",
            "137/137 [==============================] - 16s 118ms/step - loss: 0.2562 - accuracy: 0.9111\n",
            "Epoch 3/10\n",
            "137/137 [==============================] - 17s 124ms/step - loss: 0.0671 - accuracy: 0.9781\n",
            "Epoch 4/10\n",
            "137/137 [==============================] - 17s 122ms/step - loss: 0.0207 - accuracy: 0.9947\n",
            "Epoch 5/10\n",
            "137/137 [==============================] - 17s 122ms/step - loss: 0.0121 - accuracy: 0.9966\n",
            "Epoch 6/10\n",
            "137/137 [==============================] - 16s 118ms/step - loss: 0.0054 - accuracy: 0.9989\n",
            "Epoch 7/10\n",
            "137/137 [==============================] - 16s 118ms/step - loss: 0.0026 - accuracy: 0.9998\n",
            "Epoch 8/10\n",
            "137/137 [==============================] - 17s 128ms/step - loss: 0.0050 - accuracy: 0.9989\n",
            "Epoch 9/10\n",
            "137/137 [==============================] - 16s 118ms/step - loss: 0.0013 - accuracy: 0.9998\n",
            "Epoch 10/10\n",
            "137/137 [==============================] - 16s 120ms/step - loss: 5.8524e-04 - accuracy: 1.0000\n",
            "35/35 [==============================] - 2s 28ms/step - loss: 0.7224 - accuracy: 0.8629\n",
            "Accuracy for each algorithm:\n",
            "Naive Bayes : 0.8153564899451554\n",
            "SVM : 0.8464351005484461\n",
            "Random Forest : 0.8190127970749543\n",
            "Logistic Regression : 0.850091407678245\n",
            "RNN : 0.8628884553909302\n",
            "Best algorithm: RNN\n",
            "Best accuracy: 0.8628884553909302\n"
          ]
        }
      ]
    },
    {
      "cell_type": "markdown",
      "source": [
        "**Four-fold pattern method:**"
      ],
      "metadata": {
        "id": "GohFQJ9Nw2dl"
      }
    },
    {
      "cell_type": "markdown",
      "source": [
        "Four-fold pattern method: Apply the four-fold pattern method, which involves dividing the data into four subsets and training the model on different combinations of these subsets to assess its generalization capabilities."
      ],
      "metadata": {
        "id": "HNI3cv9jveYq"
      }
    },
    {
      "cell_type": "markdown",
      "source": [
        "Note: The RNN algorithm (implemented using a Keras Sequential model) does not have separate subsets like the other algorithms (Naive Bayes, SVM, Random Forest, Logistic Regression). This is because the implementation of RNN does not require the four-fold pattern used for the other algorithms."
      ],
      "metadata": {
        "id": "IcBqZrVwJRTz"
      }
    },
    {
      "cell_type": "markdown",
      "source": [
        "Without using RNN:"
      ],
      "metadata": {
        "id": "uhuy8eAhKXVq"
      }
    },
    {
      "cell_type": "code",
      "source": [
        "import pandas as pd\n",
        "from sklearn.feature_extraction.text import TfidfVectorizer\n",
        "from sklearn.model_selection import train_test_split\n",
        "from sklearn.naive_bayes import MultinomialNB\n",
        "from sklearn.svm import SVC\n",
        "from sklearn.ensemble import RandomForestClassifier\n",
        "from sklearn.linear_model import LogisticRegression\n",
        "from sklearn.metrics import accuracy_score\n",
        "\n",
        "# Load the data into the \"Work_from_data\" dataframe\n",
        "# Assuming you have already loaded the data into the dataframe\n",
        "\n",
        "# Define the features and target variable\n",
        "features = ['clean_text']\n",
        "target = ['sentiment_label']  # Assuming you have a 'sentiment_label' column indicating the sentiment of each tweet\n",
        "\n",
        "# Split the data into training and validation sets\n",
        "train_data, valid_data = train_test_split(Work_from_data, test_size=0.2, random_state=42)\n",
        "\n",
        "# Extract the feature and target data for each set\n",
        "X_train = train_data[features]\n",
        "y_train = train_data[target].values.ravel()\n",
        "X_valid = valid_data[features]\n",
        "y_valid = valid_data[target]\n",
        "\n",
        "# Create a TfidfVectorizer object\n",
        "vectorizer = TfidfVectorizer()\n",
        "\n",
        "# Fit the vectorizer on the training data and transform the text data\n",
        "X_train_tfidf = vectorizer.fit_transform(X_train['clean_text'])\n",
        "\n",
        "# Transform the text data of the validation set\n",
        "X_valid_tfidf = vectorizer.transform(X_valid['clean_text'])\n",
        "\n",
        "# Define the subsets for the four-fold pattern method\n",
        "subset_length = X_train_tfidf.shape[0] // 4\n",
        "\n",
        "subset1_X = X_train_tfidf[:subset_length]\n",
        "subset1_y = y_train[:subset_length]\n",
        "subset2_X = X_train_tfidf[subset_length:2*subset_length]\n",
        "subset2_y = y_train[subset_length:2*subset_length]\n",
        "subset3_X = X_train_tfidf[2*subset_length:3*subset_length]\n",
        "subset3_y = y_train[2*subset_length:3*subset_length]\n",
        "subset4_X = X_train_tfidf[3*subset_length:]\n",
        "subset4_y = y_train[3*subset_length:]\n",
        "\n",
        "# Naive Bayes\n",
        "classifier_nb = MultinomialNB()\n",
        "classifier_nb.fit(subset1_X, subset1_y)\n",
        "y_valid_pred_nb = classifier_nb.predict(X_valid_tfidf)\n",
        "accuracy_nb_subset1 = accuracy_score(y_valid, y_valid_pred_nb)\n",
        "\n",
        "classifier_nb.fit(subset2_X, subset2_y)\n",
        "y_valid_pred_nb = classifier_nb.predict(X_valid_tfidf)\n",
        "accuracy_nb_subset2 = accuracy_score(y_valid, y_valid_pred_nb)\n",
        "\n",
        "classifier_nb.fit(subset3_X, subset3_y)\n",
        "y_valid_pred_nb = classifier_nb.predict(X_valid_tfidf)\n",
        "accuracy_nb_subset3 = accuracy_score(y_valid, y_valid_pred_nb)\n",
        "\n",
        "classifier_nb.fit(subset4_X, subset4_y)\n",
        "y_valid_pred_nb = classifier_nb.predict(X_valid_tfidf)\n",
        "accuracy_nb_subset4 = accuracy_score(y_valid, y_valid_pred_nb)\n",
        "\n",
        "# SVM\n",
        "classifier_svm = SVC()\n",
        "classifier_svm.fit(subset1_X, subset1_y)\n",
        "y_valid_pred_svm = classifier_svm.predict(X_valid_tfidf)\n",
        "accuracy_svm_subset1 = accuracy_score(y_valid, y_valid_pred_svm)\n",
        "\n",
        "classifier_svm.fit(subset2_X, subset2_y)\n",
        "y_valid_pred_svm = classifier_svm.predict(X_valid_tfidf)\n",
        "accuracy_svm_subset2 = accuracy_score(y_valid, y_valid_pred_svm)\n",
        "\n",
        "classifier_svm.fit(subset3_X, subset3_y)\n",
        "y_valid_pred_svm = classifier_svm.predict(X_valid_tfidf)\n",
        "accuracy_svm_subset3 = accuracy_score(y_valid, y_valid_pred_svm)\n",
        "\n",
        "classifier_svm.fit(subset4_X, subset4_y)\n",
        "y_valid_pred_svm = classifier_svm.predict(X_valid_tfidf)\n",
        "accuracy_svm_subset4 = accuracy_score(y_valid, y_valid_pred_svm)\n",
        "\n",
        "# Random Forest\n",
        "classifier_rf = RandomForestClassifier(n_estimators=100, random_state=42)\n",
        "classifier_rf.fit(subset1_X, subset1_y)\n",
        "y_valid_pred_rf = classifier_rf.predict(X_valid_tfidf)\n",
        "accuracy_rf_subset1 = accuracy_score(y_valid, y_valid_pred_rf)\n",
        "\n",
        "classifier_rf.fit(subset2_X, subset2_y)\n",
        "y_valid_pred_rf = classifier_rf.predict(X_valid_tfidf)\n",
        "accuracy_rf_subset2 = accuracy_score(y_valid, y_valid_pred_rf)\n",
        "\n",
        "classifier_rf.fit(subset3_X, subset3_y)\n",
        "y_valid_pred_rf = classifier_rf.predict(X_valid_tfidf)\n",
        "accuracy_rf_subset3 = accuracy_score(y_valid, y_valid_pred_rf)\n",
        "\n",
        "classifier_rf.fit(subset4_X, subset4_y)\n",
        "y_valid_pred_rf = classifier_rf.predict(X_valid_tfidf)\n",
        "accuracy_rf_subset4 = accuracy_score(y_valid, y_valid_pred_rf)\n",
        "\n",
        "# Logistic Regression\n",
        "classifier_lr = LogisticRegression()\n",
        "classifier_lr.fit(subset1_X, subset1_y)\n",
        "y_valid_pred_lr = classifier_lr.predict(X_valid_tfidf)\n",
        "accuracy_lr_subset1 = accuracy_score(y_valid, y_valid_pred_lr)\n",
        "\n",
        "classifier_lr.fit(subset2_X, subset2_y)\n",
        "y_valid_pred_lr = classifier_lr.predict(X_valid_tfidf)\n",
        "accuracy_lr_subset2 = accuracy_score(y_valid, y_valid_pred_lr)\n",
        "\n",
        "classifier_lr.fit(subset3_X, subset3_y)\n",
        "y_valid_pred_lr = classifier_lr.predict(X_valid_tfidf)\n",
        "accuracy_lr_subset3 = accuracy_score(y_valid, y_valid_pred_lr)\n",
        "\n",
        "classifier_lr.fit(subset4_X, subset4_y)\n",
        "y_valid_pred_lr = classifier_lr.predict(X_valid_tfidf)\n",
        "accuracy_lr_subset4 = accuracy_score(y_valid, y_valid_pred_lr)\n",
        "\n",
        "# Store the accuracies in a dictionary\n",
        "accuracy_dict = {'Naive Bayes (Subset 1)': accuracy_nb_subset1,\n",
        "                 'Naive Bayes (Subset 2)': accuracy_nb_subset2,\n",
        "                 'Naive Bayes (Subset 3)': accuracy_nb_subset3,\n",
        "                 'Naive Bayes (Subset 4)': accuracy_nb_subset4,\n",
        "                 'SVM (Subset 1)': accuracy_svm_subset1,\n",
        "                 'SVM (Subset 2)': accuracy_svm_subset2,\n",
        "                 'SVM (Subset 3)': accuracy_svm_subset3,\n",
        "                 'SVM (Subset 4)': accuracy_svm_subset4,\n",
        "                 'Random Forest (Subset 1)': accuracy_rf_subset1,\n",
        "                 'Random Forest (Subset 2)': accuracy_rf_subset2,\n",
        "                 'Random Forest (Subset 3)': accuracy_rf_subset3,\n",
        "                 'Random Forest (Subset 4)': accuracy_rf_subset4,\n",
        "                 'Logistic Regression (Subset 1)': accuracy_lr_subset1,\n",
        "                 'Logistic Regression (Subset 2)': accuracy_lr_subset2,\n",
        "                 'Logistic Regression (Subset 3)': accuracy_lr_subset3,\n",
        "                 'Logistic Regression (Subset 4)': accuracy_lr_subset4}\n",
        "\n",
        "# Find the algorithm with the highest average accuracy across subsets\n",
        "best_algorithm = max(accuracy_dict, key=accuracy_dict.get)\n",
        "best_accuracy = accuracy_dict[best_algorithm]\n",
        "\n",
        "# Calculate the average accuracy across subsets\n",
        "average_accuracy = sum(accuracy_dict.values()) / len(accuracy_dict)\n",
        "\n",
        "# Print the results\n",
        "print(\"Accuracy for each subset and algorithm:\")\n",
        "for subset_algorithm, accuracy in accuracy_dict.items():\n",
        "    print(subset_algorithm, \":\", accuracy)\n",
        "print(\"Average accuracy:\", average_accuracy)\n",
        "print(\"Best algorithm:\", best_algorithm)\n",
        "print(\"Best accuracy:\", best_accuracy)\n"
      ],
      "metadata": {
        "colab": {
          "base_uri": "https://localhost:8080/"
        },
        "id": "9IFSah4OJKAj",
        "outputId": "08daa5b8-700b-4b14-9af4-450dce19d2ac"
      },
      "execution_count": null,
      "outputs": [
        {
          "output_type": "stream",
          "name": "stdout",
          "text": [
            "Accuracy for each subset and algorithm:\n",
            "Naive Bayes (Subset 1) : 0.6444241316270567\n",
            "Naive Bayes (Subset 2) : 0.6627056672760512\n",
            "Naive Bayes (Subset 3) : 0.6407678244972578\n",
            "Naive Bayes (Subset 4) : 0.6709323583180987\n",
            "SVM (Subset 1) : 0.7120658135283364\n",
            "SVM (Subset 2) : 0.7193784277879341\n",
            "SVM (Subset 3) : 0.7093235831809872\n",
            "SVM (Subset 4) : 0.7358318098720292\n",
            "Random Forest (Subset 1) : 0.7138939670932358\n",
            "Random Forest (Subset 2) : 0.7321755027422303\n",
            "Random Forest (Subset 3) : 0.716636197440585\n",
            "Random Forest (Subset 4) : 0.7504570383912249\n",
            "Logistic Regression (Subset 1) : 0.7184643510054844\n",
            "Logistic Regression (Subset 2) : 0.7257769652650823\n",
            "Logistic Regression (Subset 3) : 0.7257769652650823\n",
            "Logistic Regression (Subset 4) : 0.7486288848263254\n",
            "Average accuracy: 0.7079524680073126\n",
            "Best algorithm: Random Forest (Subset 4)\n",
            "Best accuracy: 0.7504570383912249\n"
          ]
        }
      ]
    },
    {
      "cell_type": "markdown",
      "source": [
        "With use RNN Accuracy only:"
      ],
      "metadata": {
        "id": "QVgM-X-NLmNj"
      }
    },
    {
      "cell_type": "code",
      "source": [
        "import pandas as pd\n",
        "from sklearn.feature_extraction.text import TfidfVectorizer\n",
        "from sklearn.model_selection import train_test_split\n",
        "from sklearn.naive_bayes import MultinomialNB\n",
        "from sklearn.svm import SVC\n",
        "from sklearn.ensemble import RandomForestClassifier\n",
        "from sklearn.linear_model import LogisticRegression\n",
        "from tensorflow.keras.models import Sequential\n",
        "from tensorflow.keras.layers import Embedding, LSTM, Dense\n",
        "from tensorflow.keras.preprocessing.text import Tokenizer\n",
        "from tensorflow.keras.preprocessing.sequence import pad_sequences\n",
        "from sklearn.preprocessing import LabelEncoder\n",
        "from sklearn.metrics import accuracy_score\n",
        "\n",
        "# Load the data into the \"Work_from_data\" dataframe\n",
        "# Assuming you have already loaded the data into the dataframe\n",
        "\n",
        "# Define the features and target variable\n",
        "features = ['clean_text']\n",
        "target = ['sentiment_label']  # Assuming you have a 'sentiment_label' column indicating the sentiment of each tweet\n",
        "\n",
        "# Split the data into training and validation sets\n",
        "train_data, valid_data = train_test_split(Work_from_data, test_size=0.2, random_state=42)\n",
        "\n",
        "# Extract the feature and target data for each set\n",
        "X_train = train_data[features]\n",
        "y_train = train_data[target].values.ravel()\n",
        "X_valid = valid_data[features]\n",
        "y_valid = valid_data[target]\n",
        "\n",
        "# Create a TfidfVectorizer object\n",
        "vectorizer = TfidfVectorizer()\n",
        "\n",
        "# Fit the vectorizer on the training data and transform the text data\n",
        "X_train_tfidf = vectorizer.fit_transform(X_train['clean_text'])\n",
        "\n",
        "# Transform the text data of the validation set\n",
        "X_valid_tfidf = vectorizer.transform(X_valid['clean_text'])\n",
        "\n",
        "# Define the subsets for the four-fold pattern method\n",
        "subset_length = X_train_tfidf.shape[0] // 4\n",
        "\n",
        "subset1_X = X_train_tfidf[:subset_length]\n",
        "subset1_y = y_train[:subset_length]\n",
        "subset2_X = X_train_tfidf[subset_length:2*subset_length]\n",
        "subset2_y = y_train[subset_length:2*subset_length]\n",
        "subset3_X = X_train_tfidf[2*subset_length:3*subset_length]\n",
        "subset3_y = y_train[2*subset_length:3*subset_length]\n",
        "subset4_X = X_train_tfidf[3*subset_length:]\n",
        "subset4_y = y_train[3*subset_length:]\n",
        "\n",
        "# Naive Bayes\n",
        "classifier_nb = MultinomialNB()\n",
        "classifier_nb.fit(subset1_X, subset1_y)\n",
        "y_valid_pred_nb = classifier_nb.predict(X_valid_tfidf)\n",
        "accuracy_nb_subset1 = accuracy_score(y_valid, y_valid_pred_nb)\n",
        "\n",
        "classifier_nb.fit(subset2_X, subset2_y)\n",
        "y_valid_pred_nb = classifier_nb.predict(X_valid_tfidf)\n",
        "accuracy_nb_subset2 = accuracy_score(y_valid, y_valid_pred_nb)\n",
        "\n",
        "classifier_nb.fit(subset3_X, subset3_y)\n",
        "y_valid_pred_nb = classifier_nb.predict(X_valid_tfidf)\n",
        "accuracy_nb_subset3 = accuracy_score(y_valid, y_valid_pred_nb)\n",
        "\n",
        "classifier_nb.fit(subset4_X, subset4_y)\n",
        "y_valid_pred_nb = classifier_nb.predict(X_valid_tfidf)\n",
        "accuracy_nb_subset4 = accuracy_score(y_valid, y_valid_pred_nb)\n",
        "\n",
        "# SVM\n",
        "classifier_svm = SVC()\n",
        "classifier_svm.fit(subset1_X, subset1_y)\n",
        "y_valid_pred_svm = classifier_svm.predict(X_valid_tfidf)\n",
        "accuracy_svm_subset1 = accuracy_score(y_valid, y_valid_pred_svm)\n",
        "\n",
        "classifier_svm.fit(subset2_X, subset2_y)\n",
        "y_valid_pred_svm = classifier_svm.predict(X_valid_tfidf)\n",
        "accuracy_svm_subset2 = accuracy_score(y_valid, y_valid_pred_svm)\n",
        "\n",
        "classifier_svm.fit(subset3_X, subset3_y)\n",
        "y_valid_pred_svm = classifier_svm.predict(X_valid_tfidf)\n",
        "accuracy_svm_subset3 = accuracy_score(y_valid, y_valid_pred_svm)\n",
        "\n",
        "classifier_svm.fit(subset4_X, subset4_y)\n",
        "y_valid_pred_svm = classifier_svm.predict(X_valid_tfidf)\n",
        "accuracy_svm_subset4 = accuracy_score(y_valid, y_valid_pred_svm)\n",
        "\n",
        "# Random Forest\n",
        "classifier_rf = RandomForestClassifier(n_estimators=100, random_state=42)\n",
        "classifier_rf.fit(subset1_X, subset1_y)\n",
        "y_valid_pred_rf = classifier_rf.predict(X_valid_tfidf)\n",
        "accuracy_rf_subset1 = accuracy_score(y_valid, y_valid_pred_rf)\n",
        "\n",
        "classifier_rf.fit(subset2_X, subset2_y)\n",
        "y_valid_pred_rf = classifier_rf.predict(X_valid_tfidf)\n",
        "accuracy_rf_subset2 = accuracy_score(y_valid, y_valid_pred_rf)\n",
        "\n",
        "classifier_rf.fit(subset3_X, subset3_y)\n",
        "y_valid_pred_rf = classifier_rf.predict(X_valid_tfidf)\n",
        "accuracy_rf_subset3 = accuracy_score(y_valid, y_valid_pred_rf)\n",
        "\n",
        "classifier_rf.fit(subset4_X, subset4_y)\n",
        "y_valid_pred_rf = classifier_rf.predict(X_valid_tfidf)\n",
        "accuracy_rf_subset4 = accuracy_score(y_valid, y_valid_pred_rf)\n",
        "\n",
        "# Logistic Regression\n",
        "classifier_lr = LogisticRegression()\n",
        "classifier_lr.fit(subset1_X, subset1_y)\n",
        "y_valid_pred_lr = classifier_lr.predict(X_valid_tfidf)\n",
        "accuracy_lr_subset1 = accuracy_score(y_valid, y_valid_pred_lr)\n",
        "\n",
        "classifier_lr.fit(subset2_X, subset2_y)\n",
        "y_valid_pred_lr = classifier_lr.predict(X_valid_tfidf)\n",
        "accuracy_lr_subset2 = accuracy_score(y_valid, y_valid_pred_lr)\n",
        "\n",
        "classifier_lr.fit(subset3_X, subset3_y)\n",
        "y_valid_pred_lr = classifier_lr.predict(X_valid_tfidf)\n",
        "accuracy_lr_subset3 = accuracy_score(y_valid, y_valid_pred_lr)\n",
        "\n",
        "classifier_lr.fit(subset4_X, subset4_y)\n",
        "y_valid_pred_lr = classifier_lr.predict(X_valid_tfidf)\n",
        "accuracy_lr_subset4 = accuracy_score(y_valid, y_valid_pred_lr)\n",
        "\n",
        "# RNN\n",
        "tokenizer = Tokenizer()\n",
        "tokenizer.fit_on_texts(X_train['clean_text'])\n",
        "X_train_seq = tokenizer.texts_to_sequences(X_train['clean_text'])\n",
        "X_valid_seq = tokenizer.texts_to_sequences(X_valid['clean_text'])\n",
        "max_sequence_length = 100\n",
        "X_train_padded = pad_sequences(X_train_seq, maxlen=max_sequence_length)\n",
        "X_valid_padded = pad_sequences(X_valid_seq, maxlen=max_sequence_length)\n",
        "label_encoder = LabelEncoder()\n",
        "y_train_encoded = label_encoder.fit_transform(y_train)\n",
        "y_valid_encoded = label_encoder.transform(y_valid)\n",
        "model_rnn = Sequential()\n",
        "model_rnn.add(Embedding(input_dim=len(tokenizer.word_index) + 1, output_dim=100, input_length=max_sequence_length))\n",
        "model_rnn.add(LSTM(100))\n",
        "model_rnn.add(Dense(len(label_encoder.classes_), activation='softmax'))\n",
        "model_rnn.compile(loss='sparse_categorical_crossentropy', optimizer='adam', metrics=['accuracy'])\n",
        "\n",
        "model_rnn.fit(X_train_padded, y_train_encoded, epochs=10, batch_size=32, validation_data=(X_valid_padded, y_valid_encoded))\n",
        "\n",
        "_, accuracy_rnn = model_rnn.evaluate(X_valid_padded, y_valid_encoded)\n",
        "\n",
        "# Store the accuracies in a dictionary\n",
        "accuracy_dict = {'Naive Bayes (Subset 1)': accuracy_nb_subset1,\n",
        "                 'Naive Bayes (Subset 2)': accuracy_nb_subset2,\n",
        "                 'Naive Bayes (Subset 3)': accuracy_nb_subset3,\n",
        "                 'Naive Bayes (Subset 4)': accuracy_nb_subset4,\n",
        "                 'SVM (Subset 1)': accuracy_svm_subset1,\n",
        "                 'SVM (Subset 2)': accuracy_svm_subset2,\n",
        "                 'SVM (Subset 3)': accuracy_svm_subset3,\n",
        "                 'SVM (Subset 4)': accuracy_svm_subset4,\n",
        "                 'Random Forest (Subset 1)': accuracy_rf_subset1,\n",
        "                 'Random Forest (Subset 2)': accuracy_rf_subset2,\n",
        "                 'Random Forest (Subset 3)': accuracy_rf_subset3,\n",
        "                 'Random Forest (Subset 4)': accuracy_rf_subset4,\n",
        "                 'Logistic Regression (Subset 1)': accuracy_lr_subset1,\n",
        "                 'Logistic Regression (Subset 2)': accuracy_lr_subset2,\n",
        "                 'Logistic Regression (Subset 3)': accuracy_lr_subset3,\n",
        "                 'Logistic Regression (Subset 4)': accuracy_lr_subset4,\n",
        "                 'RNN': accuracy_rnn}\n",
        "\n",
        "# Find the subset and algorithm with the highest accuracy\n",
        "best_subset_algorithm = max(accuracy_dict, key=accuracy_dict.get)\n",
        "best_accuracy = accuracy_dict[best_subset_algorithm]\n",
        "\n",
        "# Print the results\n",
        "print(\"Accuracy for each subset and algorithm:\")\n",
        "for subset_algorithm, accuracy in accuracy_dict.items():\n",
        "    print(subset_algorithm, \":\", accuracy)\n",
        "print(\"Best subset and algorithm:\", best_subset_algorithm)\n",
        "print(\"Best accuracy:\", best_accuracy)\n"
      ],
      "metadata": {
        "colab": {
          "base_uri": "https://localhost:8080/"
        },
        "id": "q4C86MvKLqny",
        "outputId": "3b827439-7de4-4f1b-adea-1a96f252a2b3"
      },
      "execution_count": null,
      "outputs": [
        {
          "output_type": "stream",
          "name": "stderr",
          "text": [
            "/usr/local/lib/python3.10/dist-packages/sklearn/preprocessing/_label.py:134: DataConversionWarning: A column-vector y was passed when a 1d array was expected. Please change the shape of y to (n_samples, ), for example using ravel().\n",
            "  y = column_or_1d(y, dtype=self.classes_.dtype, warn=True)\n"
          ]
        },
        {
          "output_type": "stream",
          "name": "stdout",
          "text": [
            "Epoch 1/10\n",
            "137/137 [==============================] - 20s 130ms/step - loss: 0.7343 - accuracy: 0.6876 - val_loss: 0.4847 - val_accuracy: 0.8135\n",
            "Epoch 2/10\n",
            "137/137 [==============================] - 19s 141ms/step - loss: 0.2399 - accuracy: 0.9191 - val_loss: 0.4386 - val_accuracy: 0.8410\n",
            "Epoch 3/10\n",
            "137/137 [==============================] - 18s 134ms/step - loss: 0.0569 - accuracy: 0.9845 - val_loss: 0.4632 - val_accuracy: 0.8473\n",
            "Epoch 4/10\n",
            "137/137 [==============================] - 18s 128ms/step - loss: 0.0213 - accuracy: 0.9952 - val_loss: 0.5522 - val_accuracy: 0.8464\n",
            "Epoch 5/10\n",
            "137/137 [==============================] - 19s 137ms/step - loss: 0.0180 - accuracy: 0.9961 - val_loss: 0.5144 - val_accuracy: 0.8519\n",
            "Epoch 6/10\n",
            "137/137 [==============================] - 18s 128ms/step - loss: 0.0034 - accuracy: 0.9995 - val_loss: 0.6254 - val_accuracy: 0.8565\n",
            "Epoch 7/10\n",
            "137/137 [==============================] - 19s 138ms/step - loss: 0.0014 - accuracy: 0.9998 - val_loss: 0.6484 - val_accuracy: 0.8592\n",
            "Epoch 8/10\n",
            "137/137 [==============================] - 18s 129ms/step - loss: 0.0017 - accuracy: 0.9998 - val_loss: 0.6677 - val_accuracy: 0.8574\n",
            "Epoch 9/10\n",
            "137/137 [==============================] - 17s 128ms/step - loss: 0.0141 - accuracy: 0.9963 - val_loss: 0.6414 - val_accuracy: 0.8455\n",
            "Epoch 10/10\n",
            "137/137 [==============================] - 18s 132ms/step - loss: 0.0089 - accuracy: 0.9982 - val_loss: 0.6497 - val_accuracy: 0.8528\n",
            "35/35 [==============================] - 1s 29ms/step - loss: 0.6497 - accuracy: 0.8528\n",
            "Accuracy for each subset and algorithm:\n",
            "Naive Bayes (Subset 1) : 0.6444241316270567\n",
            "Naive Bayes (Subset 2) : 0.6627056672760512\n",
            "Naive Bayes (Subset 3) : 0.6407678244972578\n",
            "Naive Bayes (Subset 4) : 0.6709323583180987\n",
            "SVM (Subset 1) : 0.7120658135283364\n",
            "SVM (Subset 2) : 0.7193784277879341\n",
            "SVM (Subset 3) : 0.7093235831809872\n",
            "SVM (Subset 4) : 0.7358318098720292\n",
            "Random Forest (Subset 1) : 0.7138939670932358\n",
            "Random Forest (Subset 2) : 0.7321755027422303\n",
            "Random Forest (Subset 3) : 0.716636197440585\n",
            "Random Forest (Subset 4) : 0.7504570383912249\n",
            "Logistic Regression (Subset 1) : 0.7184643510054844\n",
            "Logistic Regression (Subset 2) : 0.7257769652650823\n",
            "Logistic Regression (Subset 3) : 0.7257769652650823\n",
            "Logistic Regression (Subset 4) : 0.7486288848263254\n",
            "RNN : 0.85283362865448\n",
            "Best subset and algorithm: RNN\n",
            "Best accuracy: 0.85283362865448\n"
          ]
        }
      ]
    },
    {
      "cell_type": "markdown",
      "source": [
        "# **Fine-tune and validate the model (again)✈:**"
      ],
      "metadata": {
        "id": "V9hM-RyQ38Gf"
      }
    },
    {
      "cell_type": "markdown",
      "source": [
        "Divide the training data into four subsets:"
      ],
      "metadata": {
        "id": "GY7T4BOC2gah"
      }
    },
    {
      "cell_type": "markdown",
      "source": [
        "Fine-tune and validate the model (again): Repeat the fine-tuning and validation process to further optimize the model based on the performance results obtained using the four-fold pattern method."
      ],
      "metadata": {
        "id": "3Bv4JN2g4A2Y"
      }
    },
    {
      "cell_type": "code",
      "source": [
        "subset1_X = X_train_tfidf[:X_train_tfidf.shape[0]//4]\n",
        "subset1_y = y_train[:len(y_train)//4]\n",
        "subset2_X = X_train_tfidf[X_train_tfidf.shape[0]//4:X_train_tfidf.shape[0]//2]\n",
        "subset2_y = y_train[len(y_train)//4:len(y_train)//2]\n",
        "subset3_X = X_train_tfidf[X_train_tfidf.shape[0]//2:3*X_train_tfidf.shape[0]//4]\n",
        "subset3_y = y_train[len(y_train)//2:3*len(y_train)//4]\n",
        "subset4_X = X_train_tfidf[3*X_train_tfidf.shape[0]//4:]\n",
        "subset4_y = y_train[3*len(y_train)//4:]\n"
      ],
      "metadata": {
        "id": "szDxWGDQvdaj"
      },
      "execution_count": null,
      "outputs": []
    },
    {
      "cell_type": "markdown",
      "source": [
        "Perform the fine-tuning and validation process for each subset, using the remaining three subsets for training and the selected subset for validation. For example, you can use a for loop to iterate over the subsets:"
      ],
      "metadata": {
        "id": "2_4DSYoA25Y5"
      }
    },
    {
      "cell_type": "code",
      "source": [
        "accuracy_list = []\n",
        "\n",
        "for subset_X, subset_y in [(subset1_X, subset1_y), (subset2_X, subset2_y), (subset3_X, subset3_y), (subset4_X, subset4_y)]:\n",
        "    # Train your model using the three subsets as training data\n",
        "    # Validate your model using the selected subset as validation data\n",
        "    # Calculate the accuracy for each iteration and store it in the accuracy_list\n",
        "    accuracy_list.append(accuracy)\n"
      ],
      "metadata": {
        "id": "866-yzz-24Lp"
      },
      "execution_count": null,
      "outputs": []
    },
    {
      "cell_type": "markdown",
      "source": [
        "Calculate the average accuracy across all iterations:"
      ],
      "metadata": {
        "id": "eq1peJmv236r"
      }
    },
    {
      "cell_type": "code",
      "source": [
        "average_accuracy = sum(accuracy_list) / len(accuracy_list)\n"
      ],
      "metadata": {
        "id": "TMUnrGX_3BWI"
      },
      "execution_count": null,
      "outputs": []
    },
    {
      "cell_type": "code",
      "source": [
        "print(average_accuracy)"
      ],
      "metadata": {
        "colab": {
          "base_uri": "https://localhost:8080/"
        },
        "id": "0X1Bo5823Gyw",
        "outputId": "ad151bd0-2bb0-4b06-e901-ea67a08f3cc9"
      },
      "execution_count": null,
      "outputs": [
        {
          "output_type": "stream",
          "name": "stdout",
          "text": [
            "0.85283362865448\n"
          ]
        }
      ]
    },
    {
      "cell_type": "markdown",
      "source": [
        "**Validate the training with Validate data set for which percentage is best to accuracy best performance**"
      ],
      "metadata": {
        "id": "crHBr9bc2PCA"
      }
    },
    {
      "cell_type": "code",
      "source": [
        "import pandas as pd\n",
        "from sklearn.feature_extraction.text import TfidfVectorizer\n",
        "from sklearn.model_selection import train_test_split\n",
        "from sklearn.naive_bayes import MultinomialNB\n",
        "from sklearn.svm import SVC\n",
        "from sklearn.ensemble import RandomForestClassifier\n",
        "from sklearn.linear_model import LogisticRegression\n",
        "from tensorflow.keras.models import Sequential\n",
        "from tensorflow.keras.layers import Embedding, LSTM, Dense\n",
        "from tensorflow.keras.preprocessing.text import Tokenizer\n",
        "from tensorflow.keras.preprocessing.sequence import pad_sequences\n",
        "from sklearn.preprocessing import LabelEncoder\n",
        "from sklearn.metrics import accuracy_score\n",
        "\n",
        "# Load the data into the \"Work_from_data\" dataframe\n",
        "# Assuming you have already loaded the data into the dataframe\n",
        "\n",
        "# Define the features and target variable\n",
        "features = ['clean_text']\n",
        "target = ['sentiment_label']  # Assuming you have a 'sentiment_label' column indicating the sentiment of each tweet\n",
        "\n",
        "# Split the data into training and validation sets\n",
        "train_data, test_data = train_test_split(Work_from_data, test_size=0.2, random_state=42)\n",
        "\n",
        "# Define different percentages for the training set and validation set\n",
        "train_percentages = [0.2, 0.3, 0.4, 0.5]\n",
        "valid_percentages = [0.2, 0.3, 0.4, 0.5]\n",
        "\n",
        "best_accuracy = 0.0\n",
        "best_train_percentage = 0.0\n",
        "best_valid_percentage = 0.0\n",
        "best_algorithm = \"\""
      ],
      "metadata": {
        "id": "NjHJIskbw_pk"
      },
      "execution_count": null,
      "outputs": []
    },
    {
      "cell_type": "code",
      "source": [
        "for train_percentage in train_percentages:\n",
        "    for valid_percentage in valid_percentages:\n",
        "        # Split the data into training, validation, and test sets\n",
        "        train_data, valid_data = train_test_split(Work_from_data, test_size=valid_percentage, random_state=42)\n",
        "\n",
        "        # Extract the feature and target data for each set\n",
        "        X_train = train_data[features]\n",
        "        y_train = train_data[target].values.ravel()\n",
        "        X_valid = valid_data[features]\n",
        "        y_valid = valid_data[target]\n",
        "\n",
        "        # Create a TfidfVectorizer object\n",
        "        vectorizer = TfidfVectorizer()\n",
        "\n",
        "        # Fit the vectorizer on the training data and transform the text data\n",
        "        X_train_tfidf = vectorizer.fit_transform(X_train['clean_text'])\n",
        "\n",
        "        # Transform the text data of the validation set\n",
        "        X_valid_tfidf = vectorizer.transform(X_valid['clean_text'])\n",
        "\n",
        "        # Train and evaluate different algorithms\n",
        "        classifier_nb = MultinomialNB()\n",
        "        classifier_nb.fit(X_train_tfidf, y_train)\n",
        "        y_valid_pred_nb = classifier_nb.predict(X_valid_tfidf)\n",
        "        accuracy_nb = accuracy_score(y_valid, y_valid_pred_nb)\n",
        "\n",
        "        classifier_svm = SVC()\n",
        "        classifier_svm.fit(X_train_tfidf, y_train)\n",
        "        y_valid_pred_svm = classifier_svm.predict(X_valid_tfidf)\n",
        "        accuracy_svm = accuracy_score(y_valid, y_valid_pred_svm)\n",
        "\n",
        "        classifier_rf = RandomForestClassifier(n_estimators=100, random_state=42)\n",
        "        classifier_rf.fit(X_train_tfidf, y_train)\n",
        "        y_valid_pred_rf = classifier_rf.predict(X_valid_tfidf)\n",
        "        accuracy_rf = accuracy_score(y_valid, y_valid_pred_rf)\n",
        "\n",
        "        classifier_lr = LogisticRegression()\n",
        "        classifier_lr.fit(X_train_tfidf, y_train)\n",
        "        y_valid_pred_lr = classifier_lr.predict(X_valid_tfidf)\n",
        "        accuracy_lr = accuracy_score(y_valid, y_valid_pred_lr)\n",
        "\n",
        "        tokenizer = Tokenizer()\n",
        "        tokenizer.fit_on_texts(X_train['clean_text'])\n",
        "        X_train_seq = tokenizer.texts_to_sequences(X_train['clean_text'])\n",
        "        X_valid_seq = tokenizer.texts_to_sequences(X_valid['clean_text'])\n",
        "        max_sequence_length = 100\n",
        "        X_train_padded = pad_sequences(X_train_seq, maxlen=max_sequence_length)\n",
        "        X_valid_padded = pad_sequences(X_valid_seq, maxlen=max_sequence_length)\n",
        "        label_encoder = LabelEncoder()\n",
        "        y_train_encoded = label_encoder.fit_transform(y_train)\n",
        "        y_valid_encoded = label_encoder.transform(y_valid)\n",
        "\n",
        "        model_rnn = Sequential()\n",
        "        model_rnn.add(Embedding(input_dim=len(tokenizer.word_index) + 1, output_dim=100, input_length=max_sequence_length))\n",
        "        model_rnn.add(LSTM(100))\n",
        "        model_rnn.add(Dense(len(label_encoder.classes_), activation='softmax'))\n",
        "        model_rnn.compile(loss='sparse_categorical_crossentropy', optimizer='adam', metrics=['accuracy'])\n",
        "\n",
        "        model_rnn.fit(X_train_padded, y_train_encoded, epochs=10, batch_size=32)\n",
        "        _, accuracy_rnn = model_rnn.evaluate(X_valid_padded, y_valid_encoded)\n",
        "\n",
        "        # Update the best accuracy and corresponding parameters if necessary\n",
        "        if accuracy_nb > best_accuracy:\n",
        "            best_accuracy = accuracy_nb\n",
        "            best_train_percentage = train_percentage\n",
        "            best_valid_percentage = valid_percentage\n",
        "            best_algorithm = 'Naive Bayes'\n",
        "\n",
        "        if accuracy_svm > best_accuracy:\n",
        "            best_accuracy = accuracy_svm\n",
        "            best_train_percentage = train_percentage\n",
        "            best_valid_percentage = valid_percentage\n",
        "            best_algorithm = 'SVM'\n",
        "\n",
        "        if accuracy_rf > best_accuracy:\n",
        "            best_accuracy = accuracy_rf\n",
        "            best_train_percentage = train_percentage\n",
        "            best_valid_percentage = valid_percentage\n",
        "            best_algorithm = 'Random Forest'\n",
        "\n",
        "        if accuracy_lr > best_accuracy:\n",
        "            best_accuracy = accuracy_lr\n",
        "            best_train_percentage = train_percentage\n",
        "            best_valid_percentage = valid_percentage\n",
        "            best_algorithm = 'Logistic Regression'\n",
        "\n",
        "        if accuracy_rnn > best_accuracy:\n",
        "            best_accuracy = accuracy_rnn\n",
        "            best_train_percentage = train_percentage\n",
        "            best_valid_percentage = valid_percentage\n",
        "            best_algorithm = 'RNN'"
      ],
      "metadata": {
        "colab": {
          "base_uri": "https://localhost:8080/"
        },
        "id": "OBqBDl9WAhM2",
        "outputId": "436e4056-c771-4579-dda9-8a748596f03d"
      },
      "execution_count": null,
      "outputs": [
        {
          "metadata": {
            "tags": null
          },
          "name": "stderr",
          "output_type": "stream",
          "text": [
            "/usr/local/lib/python3.10/dist-packages/sklearn/preprocessing/_label.py:134: DataConversionWarning: A column-vector y was passed when a 1d array was expected. Please change the shape of y to (n_samples, ), for example using ravel().\n",
            "  y = column_or_1d(y, dtype=self.classes_.dtype, warn=True)\n"
          ]
        },
        {
          "metadata": {
            "tags": null
          },
          "name": "stdout",
          "output_type": "stream",
          "text": [
            "Epoch 1/10\n",
            "137/137 [==============================] - 20s 127ms/step - loss: 0.7459 - accuracy: 0.6757\n",
            "Epoch 2/10\n",
            "137/137 [==============================] - 17s 120ms/step - loss: 0.2577 - accuracy: 0.9145\n",
            "Epoch 3/10\n",
            "137/137 [==============================] - 16s 118ms/step - loss: 0.0665 - accuracy: 0.9810\n",
            "Epoch 4/10\n",
            "137/137 [==============================] - 19s 140ms/step - loss: 0.0284 - accuracy: 0.9929\n",
            "Epoch 5/10\n",
            "137/137 [==============================] - 17s 120ms/step - loss: 0.0140 - accuracy: 0.9968\n",
            "Epoch 6/10\n",
            "137/137 [==============================] - 16s 119ms/step - loss: 0.0094 - accuracy: 0.9986\n",
            "Epoch 7/10\n",
            "137/137 [==============================] - 16s 119ms/step - loss: 0.0066 - accuracy: 0.9979\n",
            "Epoch 8/10\n",
            "137/137 [==============================] - 18s 128ms/step - loss: 0.0117 - accuracy: 0.9977\n",
            "Epoch 9/10\n",
            "137/137 [==============================] - 16s 119ms/step - loss: 0.0041 - accuracy: 0.9991\n",
            "Epoch 10/10\n",
            "137/137 [==============================] - 16s 120ms/step - loss: 6.9201e-04 - accuracy: 1.0000\n",
            "35/35 [==============================] - 2s 29ms/step - loss: 0.7700 - accuracy: 0.8537\n"
          ]
        },
        {
          "metadata": {
            "tags": null
          },
          "name": "stderr",
          "output_type": "stream",
          "text": [
            "/usr/local/lib/python3.10/dist-packages/sklearn/preprocessing/_label.py:134: DataConversionWarning: A column-vector y was passed when a 1d array was expected. Please change the shape of y to (n_samples, ), for example using ravel().\n",
            "  y = column_or_1d(y, dtype=self.classes_.dtype, warn=True)\n"
          ]
        },
        {
          "metadata": {
            "tags": null
          },
          "name": "stdout",
          "output_type": "stream",
          "text": [
            "Epoch 1/10\n",
            "120/120 [==============================] - 16s 116ms/step - loss: 0.7773 - accuracy: 0.6600\n",
            "Epoch 2/10\n",
            "120/120 [==============================] - 14s 119ms/step - loss: 0.2718 - accuracy: 0.9023\n",
            "Epoch 3/10\n",
            "120/120 [==============================] - 15s 122ms/step - loss: 0.0764 - accuracy: 0.9783\n",
            "Epoch 4/10\n",
            "120/120 [==============================] - 14s 118ms/step - loss: 0.0241 - accuracy: 0.9943\n",
            "Epoch 5/10\n",
            "120/120 [==============================] - 14s 117ms/step - loss: 0.0100 - accuracy: 0.9974\n",
            "Epoch 6/10\n",
            "120/120 [==============================] - 14s 117ms/step - loss: 0.0040 - accuracy: 0.9995\n",
            "Epoch 7/10\n",
            "120/120 [==============================] - 14s 118ms/step - loss: 0.0046 - accuracy: 0.9987\n",
            "Epoch 8/10\n",
            "120/120 [==============================] - 14s 118ms/step - loss: 0.0090 - accuracy: 0.9987\n",
            "Epoch 9/10\n",
            "120/120 [==============================] - 14s 118ms/step - loss: 8.1058e-04 - accuracy: 1.0000\n",
            "Epoch 10/10\n",
            "120/120 [==============================] - 14s 118ms/step - loss: 4.8334e-04 - accuracy: 1.0000\n",
            "52/52 [==============================] - 3s 42ms/step - loss: 0.6830 - accuracy: 0.8678\n"
          ]
        },
        {
          "metadata": {
            "tags": null
          },
          "name": "stderr",
          "output_type": "stream",
          "text": [
            "/usr/local/lib/python3.10/dist-packages/sklearn/preprocessing/_label.py:134: DataConversionWarning: A column-vector y was passed when a 1d array was expected. Please change the shape of y to (n_samples, ), for example using ravel().\n",
            "  y = column_or_1d(y, dtype=self.classes_.dtype, warn=True)\n"
          ]
        },
        {
          "metadata": {
            "tags": null
          },
          "name": "stdout",
          "output_type": "stream",
          "text": [
            "Epoch 1/10\n",
            "103/103 [==============================] - 15s 122ms/step - loss: 0.7993 - accuracy: 0.6590\n",
            "Epoch 2/10\n",
            "103/103 [==============================] - 12s 118ms/step - loss: 0.3068 - accuracy: 0.8900\n",
            "Epoch 3/10\n",
            "103/103 [==============================] - 12s 120ms/step - loss: 0.0827 - accuracy: 0.9744\n",
            "Epoch 4/10\n",
            "103/103 [==============================] - 12s 117ms/step - loss: 0.0295 - accuracy: 0.9930\n",
            "Epoch 5/10\n",
            "103/103 [==============================] - 12s 119ms/step - loss: 0.0127 - accuracy: 0.9970\n",
            "Epoch 6/10\n",
            "103/103 [==============================] - 12s 118ms/step - loss: 0.0070 - accuracy: 0.9985\n",
            "Epoch 7/10\n",
            "103/103 [==============================] - 13s 126ms/step - loss: 0.0063 - accuracy: 0.9985\n",
            "Epoch 8/10\n",
            "103/103 [==============================] - 12s 119ms/step - loss: 0.0063 - accuracy: 0.9988\n",
            "Epoch 9/10\n",
            "103/103 [==============================] - 12s 118ms/step - loss: 0.0190 - accuracy: 0.9954\n",
            "Epoch 10/10\n",
            "103/103 [==============================] - 12s 119ms/step - loss: 0.0241 - accuracy: 0.9921\n",
            "69/69 [==============================] - 3s 39ms/step - loss: 0.6606 - accuracy: 0.8387\n"
          ]
        },
        {
          "metadata": {
            "tags": null
          },
          "name": "stderr",
          "output_type": "stream",
          "text": [
            "/usr/local/lib/python3.10/dist-packages/sklearn/preprocessing/_label.py:134: DataConversionWarning: A column-vector y was passed when a 1d array was expected. Please change the shape of y to (n_samples, ), for example using ravel().\n",
            "  y = column_or_1d(y, dtype=self.classes_.dtype, warn=True)\n"
          ]
        },
        {
          "metadata": {
            "tags": null
          },
          "name": "stdout",
          "output_type": "stream",
          "text": [
            "Epoch 1/10\n",
            "86/86 [==============================] - 12s 104ms/step - loss: 0.8422 - accuracy: 0.6139\n",
            "Epoch 2/10\n",
            "86/86 [==============================] - 10s 120ms/step - loss: 0.3350 - accuracy: 0.8830\n",
            "Epoch 3/10\n",
            "86/86 [==============================] - 10s 120ms/step - loss: 0.0804 - accuracy: 0.9792\n",
            "Epoch 4/10\n",
            "86/86 [==============================] - 10s 120ms/step - loss: 0.0734 - accuracy: 0.9795\n",
            "Epoch 5/10\n",
            "86/86 [==============================] - 10s 110ms/step - loss: 0.0175 - accuracy: 0.9971\n",
            "Epoch 6/10\n",
            "86/86 [==============================] - 10s 113ms/step - loss: 0.0070 - accuracy: 0.9985\n",
            "Epoch 7/10\n",
            "86/86 [==============================] - 10s 119ms/step - loss: 0.0047 - accuracy: 0.9993\n",
            "Epoch 8/10\n",
            "86/86 [==============================] - 10s 119ms/step - loss: 0.0032 - accuracy: 0.9989\n",
            "Epoch 9/10\n",
            "86/86 [==============================] - 10s 116ms/step - loss: 0.0033 - accuracy: 0.9993\n",
            "Epoch 10/10\n",
            "86/86 [==============================] - 9s 104ms/step - loss: 8.5652e-04 - accuracy: 1.0000\n",
            "86/86 [==============================] - 3s 30ms/step - loss: 0.8141 - accuracy: 0.8325\n"
          ]
        },
        {
          "metadata": {
            "tags": null
          },
          "name": "stderr",
          "output_type": "stream",
          "text": [
            "/usr/local/lib/python3.10/dist-packages/sklearn/preprocessing/_label.py:134: DataConversionWarning: A column-vector y was passed when a 1d array was expected. Please change the shape of y to (n_samples, ), for example using ravel().\n",
            "  y = column_or_1d(y, dtype=self.classes_.dtype, warn=True)\n"
          ]
        },
        {
          "output_type": "stream",
          "name": "stdout",
          "text": [
            "Epoch 1/10\n",
            "137/137 [==============================] - 18s 116ms/step - loss: 0.7513 - accuracy: 0.6789\n",
            "Epoch 2/10\n",
            "137/137 [==============================] - 16s 113ms/step - loss: 0.3091 - accuracy: 0.8917\n",
            "Epoch 3/10\n",
            "137/137 [==============================] - 16s 116ms/step - loss: 0.0917 - accuracy: 0.9712\n",
            "Epoch 4/10\n",
            "137/137 [==============================] - 16s 119ms/step - loss: 0.0266 - accuracy: 0.9947\n",
            "Epoch 5/10\n",
            "137/137 [==============================] - 16s 114ms/step - loss: 0.0090 - accuracy: 0.9977\n",
            "Epoch 6/10\n",
            "137/137 [==============================] - 16s 117ms/step - loss: 0.0093 - accuracy: 0.9982\n",
            "Epoch 7/10\n",
            "137/137 [==============================] - 16s 119ms/step - loss: 0.0072 - accuracy: 0.9989\n",
            "Epoch 8/10\n",
            "137/137 [==============================] - 16s 114ms/step - loss: 0.0015 - accuracy: 1.0000\n",
            "Epoch 9/10\n",
            "137/137 [==============================] - 16s 118ms/step - loss: 8.4606e-04 - accuracy: 1.0000\n",
            "Epoch 10/10\n",
            "137/137 [==============================] - 16s 116ms/step - loss: 5.7918e-04 - accuracy: 1.0000\n",
            "35/35 [==============================] - 2s 29ms/step - loss: 0.7757 - accuracy: 0.8574\n"
          ]
        },
        {
          "output_type": "stream",
          "name": "stderr",
          "text": [
            "/usr/local/lib/python3.10/dist-packages/sklearn/preprocessing/_label.py:134: DataConversionWarning: A column-vector y was passed when a 1d array was expected. Please change the shape of y to (n_samples, ), for example using ravel().\n",
            "  y = column_or_1d(y, dtype=self.classes_.dtype, warn=True)\n"
          ]
        },
        {
          "output_type": "stream",
          "name": "stdout",
          "text": [
            "Epoch 1/10\n",
            "120/120 [==============================] - 16s 114ms/step - loss: 0.7495 - accuracy: 0.6683\n",
            "Epoch 2/10\n",
            "120/120 [==============================] - 14s 114ms/step - loss: 0.2553 - accuracy: 0.9091\n",
            "Epoch 3/10\n",
            "120/120 [==============================] - 14s 114ms/step - loss: 0.0611 - accuracy: 0.9807\n",
            "Epoch 4/10\n",
            "120/120 [==============================] - 14s 116ms/step - loss: 0.0476 - accuracy: 0.9890\n",
            "Epoch 5/10\n",
            "120/120 [==============================] - 14s 118ms/step - loss: 0.0091 - accuracy: 0.9984\n",
            "Epoch 6/10\n",
            "120/120 [==============================] - 14s 115ms/step - loss: 0.0055 - accuracy: 0.9990\n",
            "Epoch 7/10\n",
            "120/120 [==============================] - 14s 116ms/step - loss: 0.0028 - accuracy: 0.9997\n",
            "Epoch 8/10\n",
            "120/120 [==============================] - 14s 114ms/step - loss: 0.0021 - accuracy: 0.9997\n",
            "Epoch 9/10\n",
            "120/120 [==============================] - 14s 115ms/step - loss: 4.9356e-04 - accuracy: 1.0000\n",
            "Epoch 10/10\n",
            "120/120 [==============================] - 14s 114ms/step - loss: 2.5603e-04 - accuracy: 1.0000\n",
            "52/52 [==============================] - 2s 30ms/step - loss: 0.7206 - accuracy: 0.8714\n"
          ]
        },
        {
          "output_type": "stream",
          "name": "stderr",
          "text": [
            "/usr/local/lib/python3.10/dist-packages/sklearn/preprocessing/_label.py:134: DataConversionWarning: A column-vector y was passed when a 1d array was expected. Please change the shape of y to (n_samples, ), for example using ravel().\n",
            "  y = column_or_1d(y, dtype=self.classes_.dtype, warn=True)\n"
          ]
        },
        {
          "output_type": "stream",
          "name": "stdout",
          "text": [
            "Epoch 1/10\n",
            "103/103 [==============================] - 14s 113ms/step - loss: 0.7979 - accuracy: 0.6484\n",
            "Epoch 2/10\n",
            "103/103 [==============================] - 12s 114ms/step - loss: 0.2907 - accuracy: 0.9010\n",
            "Epoch 3/10\n",
            "103/103 [==============================] - 12s 114ms/step - loss: 0.0812 - accuracy: 0.9771\n",
            "Epoch 4/10\n",
            "103/103 [==============================] - 12s 114ms/step - loss: 0.0286 - accuracy: 0.9936\n",
            "Epoch 5/10\n",
            "103/103 [==============================] - 12s 113ms/step - loss: 0.0148 - accuracy: 0.9966\n",
            "Epoch 6/10\n",
            "103/103 [==============================] - 12s 114ms/step - loss: 0.0067 - accuracy: 0.9988\n",
            "Epoch 7/10\n",
            "103/103 [==============================] - 12s 113ms/step - loss: 0.0084 - accuracy: 0.9979\n",
            "Epoch 8/10\n",
            "103/103 [==============================] - 12s 113ms/step - loss: 0.0017 - accuracy: 0.9997\n",
            "Epoch 9/10\n",
            "103/103 [==============================] - 12s 116ms/step - loss: 7.8960e-04 - accuracy: 1.0000\n",
            "Epoch 10/10\n",
            "103/103 [==============================] - 12s 113ms/step - loss: 4.5577e-04 - accuracy: 1.0000\n",
            "69/69 [==============================] - 3s 30ms/step - loss: 0.8120 - accuracy: 0.8478\n"
          ]
        },
        {
          "output_type": "stream",
          "name": "stderr",
          "text": [
            "/usr/local/lib/python3.10/dist-packages/sklearn/preprocessing/_label.py:134: DataConversionWarning: A column-vector y was passed when a 1d array was expected. Please change the shape of y to (n_samples, ), for example using ravel().\n",
            "  y = column_or_1d(y, dtype=self.classes_.dtype, warn=True)\n"
          ]
        },
        {
          "output_type": "stream",
          "name": "stdout",
          "text": [
            "Epoch 1/10\n",
            "86/86 [==============================] - 12s 116ms/step - loss: 0.8260 - accuracy: 0.6252\n",
            "Epoch 2/10\n",
            "86/86 [==============================] - 10s 115ms/step - loss: 0.3371 - accuracy: 0.8870\n",
            "Epoch 3/10\n",
            "86/86 [==============================] - 10s 115ms/step - loss: 0.0846 - accuracy: 0.9737\n",
            "Epoch 4/10\n",
            "86/86 [==============================] - 9s 109ms/step - loss: 0.0281 - accuracy: 0.9949\n",
            "Epoch 5/10\n",
            "86/86 [==============================] - 10s 115ms/step - loss: 0.0123 - accuracy: 0.9985\n",
            "Epoch 6/10\n",
            "86/86 [==============================] - 10s 120ms/step - loss: 0.0057 - accuracy: 0.9993\n",
            "Epoch 7/10\n",
            "86/86 [==============================] - 12s 144ms/step - loss: 0.0026 - accuracy: 0.9993\n",
            "Epoch 8/10\n",
            "86/86 [==============================] - 10s 114ms/step - loss: 0.0037 - accuracy: 0.9996\n",
            "Epoch 9/10\n",
            "86/86 [==============================] - 10s 116ms/step - loss: 0.0029 - accuracy: 0.9996\n",
            "Epoch 10/10\n",
            "86/86 [==============================] - 9s 106ms/step - loss: 0.0019 - accuracy: 0.9996\n",
            "86/86 [==============================] - 3s 29ms/step - loss: 0.8996 - accuracy: 0.8274\n"
          ]
        },
        {
          "output_type": "stream",
          "name": "stderr",
          "text": [
            "/usr/local/lib/python3.10/dist-packages/sklearn/preprocessing/_label.py:134: DataConversionWarning: A column-vector y was passed when a 1d array was expected. Please change the shape of y to (n_samples, ), for example using ravel().\n",
            "  y = column_or_1d(y, dtype=self.classes_.dtype, warn=True)\n"
          ]
        },
        {
          "output_type": "stream",
          "name": "stdout",
          "text": [
            "Epoch 1/10\n",
            "137/137 [==============================] - 19s 115ms/step - loss: 0.7402 - accuracy: 0.6723\n",
            "Epoch 2/10\n",
            "137/137 [==============================] - 16s 114ms/step - loss: 0.2440 - accuracy: 0.9134\n",
            "Epoch 3/10\n",
            "137/137 [==============================] - 17s 121ms/step - loss: 0.0609 - accuracy: 0.9826\n",
            "Epoch 4/10\n",
            "137/137 [==============================] - 16s 115ms/step - loss: 0.0225 - accuracy: 0.9945\n",
            "Epoch 5/10\n",
            "137/137 [==============================] - 16s 114ms/step - loss: 0.0119 - accuracy: 0.9975\n",
            "Epoch 6/10\n",
            "137/137 [==============================] - 17s 121ms/step - loss: 0.0100 - accuracy: 0.9982\n",
            "Epoch 7/10\n",
            "137/137 [==============================] - 16s 115ms/step - loss: 0.0037 - accuracy: 0.9991\n",
            "Epoch 8/10\n",
            "137/137 [==============================] - 16s 115ms/step - loss: 7.9095e-04 - accuracy: 1.0000\n",
            "Epoch 9/10\n",
            "137/137 [==============================] - 17s 122ms/step - loss: 0.0025 - accuracy: 0.9998\n",
            "Epoch 10/10\n",
            "137/137 [==============================] - 16s 116ms/step - loss: 3.2363e-04 - accuracy: 1.0000\n",
            "35/35 [==============================] - 2s 32ms/step - loss: 0.7666 - accuracy: 0.8556\n"
          ]
        },
        {
          "output_type": "stream",
          "name": "stderr",
          "text": [
            "/usr/local/lib/python3.10/dist-packages/sklearn/preprocessing/_label.py:134: DataConversionWarning: A column-vector y was passed when a 1d array was expected. Please change the shape of y to (n_samples, ), for example using ravel().\n",
            "  y = column_or_1d(y, dtype=self.classes_.dtype, warn=True)\n"
          ]
        },
        {
          "output_type": "stream",
          "name": "stdout",
          "text": [
            "Epoch 1/10\n",
            "120/120 [==============================] - 16s 115ms/step - loss: 0.7665 - accuracy: 0.6675\n",
            "Epoch 2/10\n",
            "120/120 [==============================] - 14s 114ms/step - loss: 0.2697 - accuracy: 0.9078\n",
            "Epoch 3/10\n",
            "120/120 [==============================] - 14s 116ms/step - loss: 0.0643 - accuracy: 0.9807\n",
            "Epoch 4/10\n",
            "120/120 [==============================] - 14s 119ms/step - loss: 0.0320 - accuracy: 0.9909\n",
            "Epoch 5/10\n",
            "120/120 [==============================] - 14s 113ms/step - loss: 0.0145 - accuracy: 0.9976\n",
            "Epoch 6/10\n",
            "120/120 [==============================] - 14s 113ms/step - loss: 0.0059 - accuracy: 0.9984\n",
            "Epoch 7/10\n",
            "120/120 [==============================] - 14s 114ms/step - loss: 0.0041 - accuracy: 0.9990\n",
            "Epoch 8/10\n",
            "120/120 [==============================] - 14s 114ms/step - loss: 0.0010 - accuracy: 1.0000\n",
            "Epoch 9/10\n",
            "120/120 [==============================] - 14s 113ms/step - loss: 0.0012 - accuracy: 0.9995\n",
            "Epoch 10/10\n",
            "120/120 [==============================] - 14s 119ms/step - loss: 6.2179e-04 - accuracy: 0.9997\n",
            "52/52 [==============================] - 2s 30ms/step - loss: 0.7185 - accuracy: 0.8562\n"
          ]
        },
        {
          "output_type": "stream",
          "name": "stderr",
          "text": [
            "/usr/local/lib/python3.10/dist-packages/sklearn/preprocessing/_label.py:134: DataConversionWarning: A column-vector y was passed when a 1d array was expected. Please change the shape of y to (n_samples, ), for example using ravel().\n",
            "  y = column_or_1d(y, dtype=self.classes_.dtype, warn=True)\n"
          ]
        },
        {
          "output_type": "stream",
          "name": "stdout",
          "text": [
            "Epoch 1/10\n",
            "103/103 [==============================] - 15s 113ms/step - loss: 0.8155 - accuracy: 0.6432\n",
            "Epoch 2/10\n",
            "103/103 [==============================] - 12s 115ms/step - loss: 0.3082 - accuracy: 0.8900\n",
            "Epoch 3/10\n",
            "103/103 [==============================] - 12s 114ms/step - loss: 0.0755 - accuracy: 0.9784\n",
            "Epoch 4/10\n",
            "103/103 [==============================] - 12s 113ms/step - loss: 0.0254 - accuracy: 0.9939\n",
            "Epoch 5/10\n",
            "103/103 [==============================] - 12s 114ms/step - loss: 0.0099 - accuracy: 0.9985\n",
            "Epoch 6/10\n",
            "103/103 [==============================] - 12s 114ms/step - loss: 0.0068 - accuracy: 0.9988\n",
            "Epoch 7/10\n",
            "103/103 [==============================] - 12s 114ms/step - loss: 0.0078 - accuracy: 0.9991\n",
            "Epoch 8/10\n",
            "103/103 [==============================] - 12s 113ms/step - loss: 0.0047 - accuracy: 0.9997\n",
            "Epoch 9/10\n",
            "103/103 [==============================] - 12s 114ms/step - loss: 0.0055 - accuracy: 0.9985\n",
            "Epoch 10/10\n",
            "103/103 [==============================] - 12s 114ms/step - loss: 0.0023 - accuracy: 0.9997\n",
            "69/69 [==============================] - 3s 30ms/step - loss: 0.7691 - accuracy: 0.8423\n"
          ]
        },
        {
          "output_type": "stream",
          "name": "stderr",
          "text": [
            "/usr/local/lib/python3.10/dist-packages/sklearn/preprocessing/_label.py:134: DataConversionWarning: A column-vector y was passed when a 1d array was expected. Please change the shape of y to (n_samples, ), for example using ravel().\n",
            "  y = column_or_1d(y, dtype=self.classes_.dtype, warn=True)\n"
          ]
        },
        {
          "output_type": "stream",
          "name": "stdout",
          "text": [
            "Epoch 1/10\n",
            "86/86 [==============================] - 12s 116ms/step - loss: 0.8238 - accuracy: 0.6256\n",
            "Epoch 2/10\n",
            "86/86 [==============================] - 10s 115ms/step - loss: 0.3391 - accuracy: 0.8856\n",
            "Epoch 3/10\n",
            "86/86 [==============================] - 9s 110ms/step - loss: 0.0981 - accuracy: 0.9729\n",
            "Epoch 4/10\n",
            "86/86 [==============================] - 10s 110ms/step - loss: 0.0337 - accuracy: 0.9945\n",
            "Epoch 5/10\n",
            "86/86 [==============================] - 10s 115ms/step - loss: 0.0496 - accuracy: 0.9861\n",
            "Epoch 6/10\n",
            "86/86 [==============================] - 10s 116ms/step - loss: 0.0152 - accuracy: 0.9963\n",
            "Epoch 7/10\n",
            "86/86 [==============================] - 10s 116ms/step - loss: 0.0075 - accuracy: 0.9982\n",
            "Epoch 8/10\n",
            "86/86 [==============================] - 10s 117ms/step - loss: 0.0072 - accuracy: 0.9985\n",
            "Epoch 9/10\n",
            "86/86 [==============================] - 9s 106ms/step - loss: 0.0012 - accuracy: 1.0000\n",
            "Epoch 10/10\n",
            "86/86 [==============================] - 10s 115ms/step - loss: 8.3900e-04 - accuracy: 1.0000\n",
            "86/86 [==============================] - 3s 33ms/step - loss: 0.8274 - accuracy: 0.8303\n"
          ]
        },
        {
          "output_type": "stream",
          "name": "stderr",
          "text": [
            "/usr/local/lib/python3.10/dist-packages/sklearn/preprocessing/_label.py:134: DataConversionWarning: A column-vector y was passed when a 1d array was expected. Please change the shape of y to (n_samples, ), for example using ravel().\n",
            "  y = column_or_1d(y, dtype=self.classes_.dtype, warn=True)\n"
          ]
        },
        {
          "output_type": "stream",
          "name": "stdout",
          "text": [
            "Epoch 1/10\n",
            "137/137 [==============================] - 18s 115ms/step - loss: 0.7421 - accuracy: 0.6750\n",
            "Epoch 2/10\n",
            "137/137 [==============================] - 17s 123ms/step - loss: 0.2316 - accuracy: 0.9193\n",
            "Epoch 3/10\n",
            "137/137 [==============================] - 16s 116ms/step - loss: 0.0564 - accuracy: 0.9835\n",
            "Epoch 4/10\n",
            "137/137 [==============================] - 16s 117ms/step - loss: 0.0142 - accuracy: 0.9968\n",
            "Epoch 5/10\n",
            "137/137 [==============================] - 17s 121ms/step - loss: 0.0136 - accuracy: 0.9966\n",
            "Epoch 6/10\n",
            "137/137 [==============================] - 16s 115ms/step - loss: 0.0043 - accuracy: 0.9991\n",
            "Epoch 7/10\n",
            "137/137 [==============================] - 16s 116ms/step - loss: 0.0206 - accuracy: 0.9957\n",
            "Epoch 8/10\n",
            "137/137 [==============================] - 17s 122ms/step - loss: 0.0059 - accuracy: 0.9991\n",
            "Epoch 9/10\n",
            "137/137 [==============================] - 16s 117ms/step - loss: 0.0018 - accuracy: 0.9998\n",
            "Epoch 10/10\n",
            "137/137 [==============================] - 16s 116ms/step - loss: 4.7150e-04 - accuracy: 1.0000\n",
            "35/35 [==============================] - 2s 29ms/step - loss: 0.7135 - accuracy: 0.8620\n"
          ]
        },
        {
          "output_type": "stream",
          "name": "stderr",
          "text": [
            "/usr/local/lib/python3.10/dist-packages/sklearn/preprocessing/_label.py:134: DataConversionWarning: A column-vector y was passed when a 1d array was expected. Please change the shape of y to (n_samples, ), for example using ravel().\n",
            "  y = column_or_1d(y, dtype=self.classes_.dtype, warn=True)\n"
          ]
        },
        {
          "output_type": "stream",
          "name": "stdout",
          "text": [
            "Epoch 1/10\n",
            "120/120 [==============================] - 16s 115ms/step - loss: 0.7995 - accuracy: 0.6498\n",
            "Epoch 2/10\n",
            "120/120 [==============================] - 14s 119ms/step - loss: 0.2921 - accuracy: 0.8958\n",
            "Epoch 3/10\n",
            "120/120 [==============================] - 14s 115ms/step - loss: 0.0809 - accuracy: 0.9765\n",
            "Epoch 4/10\n",
            "120/120 [==============================] - 14s 114ms/step - loss: 0.0303 - accuracy: 0.9937\n",
            "Epoch 5/10\n",
            "120/120 [==============================] - 14s 114ms/step - loss: 0.0153 - accuracy: 0.9966\n",
            "Epoch 6/10\n",
            "120/120 [==============================] - 14s 114ms/step - loss: 0.0152 - accuracy: 0.9976\n",
            "Epoch 7/10\n",
            "120/120 [==============================] - 14s 114ms/step - loss: 0.0069 - accuracy: 0.9984\n",
            "Epoch 8/10\n",
            "120/120 [==============================] - 14s 121ms/step - loss: 0.0032 - accuracy: 0.9995\n",
            "Epoch 9/10\n",
            "120/120 [==============================] - 14s 114ms/step - loss: 0.0016 - accuracy: 0.9997\n",
            "Epoch 10/10\n",
            "120/120 [==============================] - 14s 115ms/step - loss: 4.3972e-04 - accuracy: 1.0000\n",
            "52/52 [==============================] - 2s 29ms/step - loss: 0.6756 - accuracy: 0.8714\n"
          ]
        },
        {
          "output_type": "stream",
          "name": "stderr",
          "text": [
            "/usr/local/lib/python3.10/dist-packages/sklearn/preprocessing/_label.py:134: DataConversionWarning: A column-vector y was passed when a 1d array was expected. Please change the shape of y to (n_samples, ), for example using ravel().\n",
            "  y = column_or_1d(y, dtype=self.classes_.dtype, warn=True)\n"
          ]
        },
        {
          "output_type": "stream",
          "name": "stdout",
          "text": [
            "Epoch 1/10\n",
            "103/103 [==============================] - 14s 114ms/step - loss: 0.7989 - accuracy: 0.6444\n",
            "Epoch 2/10\n",
            "103/103 [==============================] - 12s 113ms/step - loss: 0.3099 - accuracy: 0.8927\n",
            "Epoch 3/10\n",
            "103/103 [==============================] - 12s 114ms/step - loss: 0.0917 - accuracy: 0.9756\n",
            "Epoch 4/10\n",
            "103/103 [==============================] - 12s 115ms/step - loss: 0.0295 - accuracy: 0.9930\n",
            "Epoch 5/10\n",
            "103/103 [==============================] - 12s 115ms/step - loss: 0.0265 - accuracy: 0.9936\n",
            "Epoch 6/10\n",
            "103/103 [==============================] - 12s 114ms/step - loss: 0.0107 - accuracy: 0.9979\n",
            "Epoch 7/10\n",
            "103/103 [==============================] - 12s 114ms/step - loss: 0.0060 - accuracy: 0.9988\n",
            "Epoch 8/10\n",
            "103/103 [==============================] - 12s 114ms/step - loss: 0.0244 - accuracy: 0.9939\n",
            "Epoch 9/10\n",
            "103/103 [==============================] - 12s 114ms/step - loss: 0.0033 - accuracy: 0.9997\n",
            "Epoch 10/10\n",
            "103/103 [==============================] - 12s 114ms/step - loss: 0.0012 - accuracy: 0.9997\n",
            "69/69 [==============================] - 3s 36ms/step - loss: 0.7442 - accuracy: 0.8464\n"
          ]
        },
        {
          "output_type": "stream",
          "name": "stderr",
          "text": [
            "/usr/local/lib/python3.10/dist-packages/sklearn/preprocessing/_label.py:134: DataConversionWarning: A column-vector y was passed when a 1d array was expected. Please change the shape of y to (n_samples, ), for example using ravel().\n",
            "  y = column_or_1d(y, dtype=self.classes_.dtype, warn=True)\n"
          ]
        },
        {
          "output_type": "stream",
          "name": "stdout",
          "text": [
            "Epoch 1/10\n",
            "86/86 [==============================] - 12s 114ms/step - loss: 0.8458 - accuracy: 0.6347\n",
            "Epoch 2/10\n",
            "86/86 [==============================] - 10s 112ms/step - loss: 0.3317 - accuracy: 0.8804\n",
            "Epoch 3/10\n",
            "86/86 [==============================] - 10s 113ms/step - loss: 0.0924 - accuracy: 0.9707\n",
            "Epoch 4/10\n",
            "86/86 [==============================] - 10s 113ms/step - loss: 0.0366 - accuracy: 0.9927\n",
            "Epoch 5/10\n",
            "86/86 [==============================] - 9s 105ms/step - loss: 0.0162 - accuracy: 0.9960\n",
            "Epoch 6/10\n",
            "86/86 [==============================] - 10s 114ms/step - loss: 0.0075 - accuracy: 0.9989\n",
            "Epoch 7/10\n",
            "86/86 [==============================] - 10s 114ms/step - loss: 0.0037 - accuracy: 0.9993\n",
            "Epoch 8/10\n",
            "86/86 [==============================] - 10s 115ms/step - loss: 0.0016 - accuracy: 0.9996\n",
            "Epoch 9/10\n",
            "86/86 [==============================] - 10s 114ms/step - loss: 8.0624e-04 - accuracy: 1.0000\n",
            "Epoch 10/10\n",
            "86/86 [==============================] - 9s 104ms/step - loss: 3.6789e-04 - accuracy: 1.0000\n",
            "86/86 [==============================] - 4s 35ms/step - loss: 0.8755 - accuracy: 0.8333\n"
          ]
        }
      ]
    },
    {
      "cell_type": "code",
      "source": [
        "# Print the best parameters and accuracy\n",
        "print('Best Algorithm:', best_algorithm)\n",
        "print('Best Training Percentage:', best_train_percentage)\n",
        "print('Best Validation Percentage:', best_valid_percentage)\n",
        "print('Best Accuracy:', best_accuracy)"
      ],
      "metadata": {
        "colab": {
          "base_uri": "https://localhost:8080/"
        },
        "id": "l3YEKB-ZAh-Q",
        "outputId": "df3123c1-a0c9-43de-8b3b-a43df5622195"
      },
      "execution_count": null,
      "outputs": [
        {
          "output_type": "stream",
          "name": "stdout",
          "text": [
            "Best Algorithm: RNN\n",
            "Best Training Percentage: 0.6\n",
            "Best Validation Percentage: 0.1\n",
            "Best Accuracy: 0.864716649055481\n"
          ]
        }
      ]
    },
    {
      "cell_type": "markdown",
      "source": [
        "Remove warning code:"
      ],
      "metadata": {
        "id": "ZBiknEQFPtsS"
      }
    },
    {
      "cell_type": "code",
      "source": [
        "import pandas as pd\n",
        "from sklearn.feature_extraction.text import TfidfVectorizer\n",
        "from sklearn.model_selection import train_test_split\n",
        "from sklearn.naive_bayes import MultinomialNB\n",
        "from sklearn.svm import SVC\n",
        "from sklearn.ensemble import RandomForestClassifier\n",
        "from sklearn.linear_model import LogisticRegression\n",
        "from sklearn.metrics import accuracy_score\n",
        "\n",
        "# Load the data into the \"Work_from_data\" dataframe\n",
        "# Assuming you have already loaded the data into the dataframe\n",
        "\n",
        "# Define the features and target variable\n",
        "features = ['clean_text']\n",
        "target = ['sentiment_label']  # Assuming you have a 'sentiment_label' column indicating the sentiment of each tweet\n",
        "\n",
        "# Specify the train and validation percentages\n",
        "train_percentages = [0.6, 0.7, 0.8]\n",
        "valid_percentages = [0.1, 0.2, 0.3]\n",
        "\n",
        "# Initialize the best accuracy and corresponding parameters\n",
        "best_accuracy = 0\n",
        "best_train_percentage = 0\n",
        "best_valid_percentage = 0\n",
        "best_algorithm = \"\"\n",
        "\n",
        "for train_percentage in train_percentages:\n",
        "    for valid_percentage in valid_percentages:\n",
        "        # Split the data into training, validation, and test sets\n",
        "        train_data, valid_data = train_test_split(Work_from_data, test_size=valid_percentage, random_state=42)\n",
        "\n",
        "        # Extract the feature and target data for each set\n",
        "        X_train = train_data[features]\n",
        "        y_train = train_data[target].values.ravel()\n",
        "        X_valid = valid_data[features]\n",
        "        y_valid = valid_data[target].values.ravel()\n",
        "\n",
        "        # Create a TfidfVectorizer object\n",
        "        vectorizer = TfidfVectorizer()\n",
        "\n",
        "        # Fit the vectorizer on the training data and transform the text data\n",
        "        X_train_tfidf = vectorizer.fit_transform(X_train['clean_text'])\n",
        "\n",
        "        # Transform the text data of the validation set\n",
        "        X_valid_tfidf = vectorizer.transform(X_valid['clean_text'])\n",
        "\n",
        "        # Train and evaluate different algorithms\n",
        "        classifier_nb = MultinomialNB()\n",
        "        classifier_nb.fit(X_train_tfidf, y_train)\n",
        "        y_valid_pred_nb = classifier_nb.predict(X_valid_tfidf)\n",
        "        accuracy_nb = accuracy_score(y_valid, y_valid_pred_nb)\n",
        "\n",
        "        classifier_svm = SVC()\n",
        "        classifier_svm.fit(X_train_tfidf, y_train)\n",
        "        y_valid_pred_svm = classifier_svm.predict(X_valid_tfidf)\n",
        "        accuracy_svm = accuracy_score(y_valid, y_valid_pred_svm)\n",
        "\n",
        "        classifier_rf = RandomForestClassifier(n_estimators=100, random_state=42)\n",
        "        classifier_rf.fit(X_train_tfidf, y_train)\n",
        "        y_valid_pred_rf = classifier_rf.predict(X_valid_tfidf)\n",
        "        accuracy_rf = accuracy_score(y_valid, y_valid_pred_rf)\n",
        "\n",
        "        classifier_lr = LogisticRegression()\n",
        "        classifier_lr.fit(X_train_tfidf, y_train)\n",
        "        y_valid_pred_lr = classifier_lr.predict(X_valid_tfidf)\n",
        "        accuracy_lr = accuracy_score(y_valid, y_valid_pred_lr)\n",
        "\n",
        "        tokenizer = Tokenizer()\n",
        "        tokenizer.fit_on_texts(X_train['clean_text'])\n",
        "        X_train_seq = tokenizer.texts_to_sequences(X_train['clean_text'])\n",
        "        X_valid_seq = tokenizer.texts_to_sequences(X_valid['clean_text'])\n",
        "        max_sequence_length = 100\n",
        "        X_train_padded = pad_sequences(X_train_seq, maxlen=max_sequence_length)\n",
        "        X_valid_padded = pad_sequences(X_valid_seq, maxlen=max_sequence_length)\n",
        "        label_encoder = LabelEncoder()\n",
        "        y_train_encoded = label_encoder.fit_transform(y_train)\n",
        "        y_valid_encoded = label_encoder.transform(y_valid)\n",
        "\n",
        "        model_rnn = Sequential()\n",
        "        model_rnn.add(Embedding(input_dim=len(tokenizer.word_index) + 1, output_dim=100, input_length=max_sequence_length))\n",
        "        model_rnn.add(LSTM(100))\n",
        "        model_rnn.add(Dense(len(label_encoder.classes_), activation='softmax'))\n",
        "        model_rnn.compile(loss='sparse_categorical_crossentropy', optimizer='adam', metrics=['accuracy'])\n",
        "\n",
        "        model_rnn.fit(X_train_padded, y_train_encoded, epochs=10, batch_size=32)\n",
        "        _, accuracy_rnn = model_rnn.evaluate(X_valid_padded, y_valid_encoded)\n",
        "\n",
        "        # Update the best accuracy and corresponding parameters if necessary\n",
        "        if accuracy_nb > best_accuracy:\n",
        "            best_accuracy = accuracy_nb\n",
        "            best_train_percentage = train_percentage\n",
        "            best_valid_percentage = valid_percentage\n",
        "            best_algorithm = 'Naive Bayes'\n",
        "\n",
        "        if accuracy_svm > best_accuracy:\n",
        "            best_accuracy = accuracy_svm\n",
        "            best_train_percentage = train_percentage\n",
        "            best_valid_percentage = valid_percentage\n",
        "            best_algorithm = 'SVM'\n",
        "\n",
        "        if accuracy_rf > best_accuracy:\n",
        "            best_accuracy = accuracy_rf\n",
        "            best_train_percentage = train_percentage\n",
        "            best_valid_percentage = valid_percentage\n",
        "            best_algorithm = 'Random Forest'\n",
        "\n",
        "        if accuracy_lr > best_accuracy:\n",
        "            best_accuracy = accuracy_lr\n",
        "            best_train_percentage = train_percentage\n",
        "            best_valid_percentage = valid_percentage\n",
        "            best_algorithm = 'Logistic Regression'\n",
        "\n",
        "        if accuracy_rnn > best_accuracy:\n",
        "            best_accuracy = accuracy_rnn\n",
        "            best_train_percentage = train_percentage\n",
        "            best_valid_percentage = valid_percentage\n",
        "            best_algorithm = 'RNN'\n",
        "\n",
        "\n"
      ],
      "metadata": {
        "colab": {
          "base_uri": "https://localhost:8080/"
        },
        "id": "LN-7AuLjAh4v",
        "outputId": "12dc1c16-3abf-4b56-a8a7-cdd5d7252d4e"
      },
      "execution_count": null,
      "outputs": [
        {
          "output_type": "stream",
          "name": "stderr",
          "text": [
            "/usr/local/lib/python3.10/dist-packages/sklearn/linear_model/_logistic.py:458: ConvergenceWarning: lbfgs failed to converge (status=1):\n",
            "STOP: TOTAL NO. of ITERATIONS REACHED LIMIT.\n",
            "\n",
            "Increase the number of iterations (max_iter) or scale the data as shown in:\n",
            "    https://scikit-learn.org/stable/modules/preprocessing.html\n",
            "Please also refer to the documentation for alternative solver options:\n",
            "    https://scikit-learn.org/stable/modules/linear_model.html#logistic-regression\n",
            "  n_iter_i = _check_optimize_result(\n"
          ]
        },
        {
          "output_type": "stream",
          "name": "stdout",
          "text": [
            "Epoch 1/10\n",
            "154/154 [==============================] - 21s 124ms/step - loss: 0.7104 - accuracy: 0.6943\n",
            "Epoch 2/10\n",
            "154/154 [==============================] - 18s 116ms/step - loss: 0.2338 - accuracy: 0.9194\n",
            "Epoch 3/10\n",
            "154/154 [==============================] - 19s 125ms/step - loss: 0.0543 - accuracy: 0.9831\n",
            "Epoch 4/10\n",
            "154/154 [==============================] - 18s 119ms/step - loss: 0.0173 - accuracy: 0.9957\n",
            "Epoch 5/10\n",
            "154/154 [==============================] - 19s 121ms/step - loss: 0.0048 - accuracy: 0.9990\n",
            "Epoch 6/10\n",
            "154/154 [==============================] - 19s 120ms/step - loss: 0.0120 - accuracy: 0.9980\n",
            "Epoch 7/10\n",
            "154/154 [==============================] - 18s 117ms/step - loss: 0.0106 - accuracy: 0.9978\n",
            "Epoch 8/10\n",
            "154/154 [==============================] - 19s 124ms/step - loss: 0.0057 - accuracy: 0.9992\n",
            "Epoch 9/10\n",
            "154/154 [==============================] - 18s 117ms/step - loss: 0.0072 - accuracy: 0.9986\n",
            "Epoch 10/10\n",
            "154/154 [==============================] - 19s 127ms/step - loss: 0.0037 - accuracy: 0.9992\n",
            "18/18 [==============================] - 1s 30ms/step - loss: 0.7005 - accuracy: 0.8519\n",
            "Epoch 1/10\n",
            "137/137 [==============================] - 21s 139ms/step - loss: 0.7173 - accuracy: 0.6910\n",
            "Epoch 2/10\n",
            "137/137 [==============================] - 28s 203ms/step - loss: 0.2367 - accuracy: 0.9173\n",
            "Epoch 3/10\n",
            "137/137 [==============================] - 16s 117ms/step - loss: 0.0671 - accuracy: 0.9801\n",
            "Epoch 4/10\n",
            "137/137 [==============================] - 16s 117ms/step - loss: 0.0276 - accuracy: 0.9941\n",
            "Epoch 5/10\n",
            "137/137 [==============================] - 16s 118ms/step - loss: 0.0135 - accuracy: 0.9959\n",
            "Epoch 6/10\n",
            "137/137 [==============================] - 17s 123ms/step - loss: 0.0078 - accuracy: 0.9986\n",
            "Epoch 7/10\n",
            "137/137 [==============================] - 16s 116ms/step - loss: 0.0080 - accuracy: 0.9979\n",
            "Epoch 8/10\n",
            "137/137 [==============================] - 17s 121ms/step - loss: 0.0030 - accuracy: 0.9998\n",
            "Epoch 9/10\n",
            "137/137 [==============================] - 17s 126ms/step - loss: 0.0028 - accuracy: 0.9995\n",
            "Epoch 10/10\n",
            "137/137 [==============================] - 16s 118ms/step - loss: 0.0011 - accuracy: 0.9998\n",
            "35/35 [==============================] - 2s 29ms/step - loss: 0.7313 - accuracy: 0.8592\n",
            "Epoch 1/10\n",
            "120/120 [==============================] - 17s 117ms/step - loss: 0.8015 - accuracy: 0.6519\n",
            "Epoch 2/10\n",
            "120/120 [==============================] - 14s 116ms/step - loss: 0.3063 - accuracy: 0.8906\n",
            "Epoch 3/10\n",
            "120/120 [==============================] - 14s 116ms/step - loss: 0.0822 - accuracy: 0.9741\n",
            "Epoch 4/10\n",
            "120/120 [==============================] - 22s 181ms/step - loss: 0.0249 - accuracy: 0.9932\n",
            "Epoch 5/10\n",
            "120/120 [==============================] - 14s 118ms/step - loss: 0.0128 - accuracy: 0.9974\n",
            "Epoch 6/10\n",
            "120/120 [==============================] - 14s 117ms/step - loss: 0.0113 - accuracy: 0.9976\n",
            "Epoch 7/10\n",
            "120/120 [==============================] - 14s 116ms/step - loss: 0.0036 - accuracy: 0.9995\n",
            "Epoch 8/10\n",
            "120/120 [==============================] - 14s 117ms/step - loss: 0.0012 - accuracy: 0.9997\n",
            "Epoch 9/10\n",
            "120/120 [==============================] - 14s 118ms/step - loss: 5.8674e-04 - accuracy: 1.0000\n",
            "Epoch 10/10\n",
            "120/120 [==============================] - 14s 120ms/step - loss: 0.0011 - accuracy: 0.9995\n",
            "52/52 [==============================] - 3s 36ms/step - loss: 0.6972 - accuracy: 0.8562\n"
          ]
        },
        {
          "output_type": "stream",
          "name": "stderr",
          "text": [
            "/usr/local/lib/python3.10/dist-packages/sklearn/linear_model/_logistic.py:458: ConvergenceWarning: lbfgs failed to converge (status=1):\n",
            "STOP: TOTAL NO. of ITERATIONS REACHED LIMIT.\n",
            "\n",
            "Increase the number of iterations (max_iter) or scale the data as shown in:\n",
            "    https://scikit-learn.org/stable/modules/preprocessing.html\n",
            "Please also refer to the documentation for alternative solver options:\n",
            "    https://scikit-learn.org/stable/modules/linear_model.html#logistic-regression\n",
            "  n_iter_i = _check_optimize_result(\n"
          ]
        },
        {
          "output_type": "stream",
          "name": "stdout",
          "text": [
            "Epoch 1/10\n",
            "154/154 [==============================] - 21s 120ms/step - loss: 0.6991 - accuracy: 0.7032\n",
            "Epoch 2/10\n",
            "154/154 [==============================] - 19s 124ms/step - loss: 0.2062 - accuracy: 0.9291\n",
            "Epoch 3/10\n",
            "154/154 [==============================] - 18s 117ms/step - loss: 0.0558 - accuracy: 0.9848\n",
            "Epoch 4/10\n",
            "154/154 [==============================] - 19s 124ms/step - loss: 0.0170 - accuracy: 0.9961\n",
            "Epoch 5/10\n",
            "154/154 [==============================] - 18s 116ms/step - loss: 0.0079 - accuracy: 0.9986\n",
            "Epoch 6/10\n",
            "154/154 [==============================] - 18s 118ms/step - loss: 0.0097 - accuracy: 0.9974\n",
            "Epoch 7/10\n",
            "154/154 [==============================] - 19s 120ms/step - loss: 0.0058 - accuracy: 0.9990\n",
            "Epoch 8/10\n",
            "154/154 [==============================] - 18s 116ms/step - loss: 0.0014 - accuracy: 0.9998\n",
            "Epoch 9/10\n",
            "154/154 [==============================] - 19s 124ms/step - loss: 6.2074e-04 - accuracy: 0.9998\n",
            "Epoch 10/10\n",
            "154/154 [==============================] - 18s 116ms/step - loss: 1.9067e-04 - accuracy: 1.0000\n",
            "18/18 [==============================] - 1s 28ms/step - loss: 0.8516 - accuracy: 0.8501\n",
            "Epoch 1/10\n",
            "137/137 [==============================] - 19s 126ms/step - loss: 0.7603 - accuracy: 0.6654\n",
            "Epoch 2/10\n",
            "137/137 [==============================] - 16s 117ms/step - loss: 0.2515 - accuracy: 0.9113\n",
            "Epoch 3/10\n",
            "137/137 [==============================] - 16s 118ms/step - loss: 0.0615 - accuracy: 0.9833\n",
            "Epoch 4/10\n",
            "137/137 [==============================] - 16s 116ms/step - loss: 0.0176 - accuracy: 0.9966\n",
            "Epoch 5/10\n",
            "137/137 [==============================] - 17s 127ms/step - loss: 0.0077 - accuracy: 0.9984\n",
            "Epoch 6/10\n",
            "137/137 [==============================] - 16s 118ms/step - loss: 0.0062 - accuracy: 0.9995\n",
            "Epoch 7/10\n",
            "137/137 [==============================] - 16s 119ms/step - loss: 0.0118 - accuracy: 0.9977\n",
            "Epoch 8/10\n",
            "137/137 [==============================] - 17s 121ms/step - loss: 0.0134 - accuracy: 0.9973\n",
            "Epoch 9/10\n",
            "137/137 [==============================] - 17s 124ms/step - loss: 0.0036 - accuracy: 0.9995\n",
            "Epoch 10/10\n",
            "137/137 [==============================] - 16s 118ms/step - loss: 0.0034 - accuracy: 0.9991\n",
            "35/35 [==============================] - 2s 29ms/step - loss: 0.6416 - accuracy: 0.8537\n",
            "Epoch 1/10\n",
            "120/120 [==============================] - 17s 123ms/step - loss: 0.7526 - accuracy: 0.6730\n",
            "Epoch 2/10\n",
            "120/120 [==============================] - 14s 119ms/step - loss: 0.2552 - accuracy: 0.9115\n",
            "Epoch 3/10\n",
            "120/120 [==============================] - 16s 135ms/step - loss: 0.0646 - accuracy: 0.9807\n",
            "Epoch 4/10\n",
            "120/120 [==============================] - 14s 117ms/step - loss: 0.0219 - accuracy: 0.9932\n",
            "Epoch 5/10\n",
            "120/120 [==============================] - 14s 117ms/step - loss: 0.0082 - accuracy: 0.9992\n",
            "Epoch 6/10\n",
            "120/120 [==============================] - 14s 117ms/step - loss: 0.0132 - accuracy: 0.9974\n",
            "Epoch 7/10\n",
            "120/120 [==============================] - 14s 118ms/step - loss: 0.0084 - accuracy: 0.9982\n",
            "Epoch 8/10\n",
            "120/120 [==============================] - 14s 118ms/step - loss: 0.0090 - accuracy: 0.9979\n",
            "Epoch 9/10\n",
            "120/120 [==============================] - 14s 119ms/step - loss: 0.0066 - accuracy: 0.9987\n",
            "Epoch 10/10\n",
            "120/120 [==============================] - 15s 122ms/step - loss: 0.0048 - accuracy: 0.9992\n",
            "52/52 [==============================] - 3s 40ms/step - loss: 0.5716 - accuracy: 0.8586\n"
          ]
        },
        {
          "output_type": "stream",
          "name": "stderr",
          "text": [
            "/usr/local/lib/python3.10/dist-packages/sklearn/linear_model/_logistic.py:458: ConvergenceWarning: lbfgs failed to converge (status=1):\n",
            "STOP: TOTAL NO. of ITERATIONS REACHED LIMIT.\n",
            "\n",
            "Increase the number of iterations (max_iter) or scale the data as shown in:\n",
            "    https://scikit-learn.org/stable/modules/preprocessing.html\n",
            "Please also refer to the documentation for alternative solver options:\n",
            "    https://scikit-learn.org/stable/modules/linear_model.html#logistic-regression\n",
            "  n_iter_i = _check_optimize_result(\n"
          ]
        },
        {
          "output_type": "stream",
          "name": "stdout",
          "text": [
            "Epoch 1/10\n",
            "154/154 [==============================] - 20s 116ms/step - loss: 0.7037 - accuracy: 0.6979\n",
            "Epoch 2/10\n",
            "154/154 [==============================] - 19s 127ms/step - loss: 0.2182 - accuracy: 0.9250\n",
            "Epoch 3/10\n",
            "154/154 [==============================] - 20s 128ms/step - loss: 0.0651 - accuracy: 0.9807\n",
            "Epoch 4/10\n",
            "154/154 [==============================] - 21s 134ms/step - loss: 0.0194 - accuracy: 0.9959\n",
            "Epoch 5/10\n",
            "154/154 [==============================] - 20s 127ms/step - loss: 0.0075 - accuracy: 0.9976\n",
            "Epoch 6/10\n",
            "154/154 [==============================] - 20s 132ms/step - loss: 0.0045 - accuracy: 0.9992\n",
            "Epoch 7/10\n",
            "154/154 [==============================] - 19s 121ms/step - loss: 0.0039 - accuracy: 0.9992\n",
            "Epoch 8/10\n",
            "154/154 [==============================] - 19s 122ms/step - loss: 0.0028 - accuracy: 0.9996\n",
            "Epoch 9/10\n",
            "154/154 [==============================] - 20s 129ms/step - loss: 7.5889e-04 - accuracy: 1.0000\n",
            "Epoch 10/10\n",
            "154/154 [==============================] - 19s 124ms/step - loss: 3.2348e-04 - accuracy: 1.0000\n",
            "18/18 [==============================] - 1s 31ms/step - loss: 0.7159 - accuracy: 0.8537\n",
            "Epoch 1/10\n",
            "137/137 [==============================] - 20s 130ms/step - loss: 0.7216 - accuracy: 0.6842\n",
            "Epoch 2/10\n",
            "137/137 [==============================] - 17s 125ms/step - loss: 0.2413 - accuracy: 0.9152\n",
            "Epoch 3/10\n",
            "137/137 [==============================] - 17s 122ms/step - loss: 0.0680 - accuracy: 0.9817\n",
            "Epoch 4/10\n",
            "137/137 [==============================] - 19s 136ms/step - loss: 0.0234 - accuracy: 0.9927\n",
            "Epoch 5/10\n",
            "137/137 [==============================] - 18s 131ms/step - loss: 0.0091 - accuracy: 0.9984\n",
            "Epoch 6/10\n",
            "137/137 [==============================] - 18s 131ms/step - loss: 0.0054 - accuracy: 0.9986\n",
            "Epoch 7/10\n",
            "137/137 [==============================] - 19s 137ms/step - loss: 0.0029 - accuracy: 0.9993\n",
            "Epoch 8/10\n",
            "137/137 [==============================] - 18s 132ms/step - loss: 0.0539 - accuracy: 0.9835\n",
            "Epoch 9/10\n",
            "137/137 [==============================] - 18s 131ms/step - loss: 0.0109 - accuracy: 0.9970\n",
            "Epoch 10/10\n",
            "137/137 [==============================] - 17s 124ms/step - loss: 0.0054 - accuracy: 0.9991\n",
            "35/35 [==============================] - 2s 43ms/step - loss: 0.6268 - accuracy: 0.8611\n",
            "Epoch 1/10\n",
            "120/120 [==============================] - 18s 124ms/step - loss: 0.7724 - accuracy: 0.6524\n",
            "Epoch 2/10\n",
            "120/120 [==============================] - 14s 117ms/step - loss: 0.2682 - accuracy: 0.9089\n",
            "Epoch 3/10\n",
            "120/120 [==============================] - 14s 116ms/step - loss: 0.0775 - accuracy: 0.9802\n",
            "Epoch 4/10\n",
            "120/120 [==============================] - 14s 116ms/step - loss: 0.0311 - accuracy: 0.9922\n",
            "Epoch 5/10\n",
            "120/120 [==============================] - 14s 117ms/step - loss: 0.0124 - accuracy: 0.9974\n",
            "Epoch 6/10\n",
            "120/120 [==============================] - 14s 116ms/step - loss: 0.0027 - accuracy: 0.9995\n",
            "Epoch 7/10\n",
            "120/120 [==============================] - 14s 117ms/step - loss: 0.0021 - accuracy: 0.9997\n",
            "Epoch 8/10\n",
            "120/120 [==============================] - 14s 118ms/step - loss: 0.0030 - accuracy: 0.9995\n",
            "Epoch 9/10\n",
            "120/120 [==============================] - 15s 124ms/step - loss: 0.0020 - accuracy: 0.9997\n",
            "Epoch 10/10\n",
            "120/120 [==============================] - 14s 118ms/step - loss: 0.0043 - accuracy: 0.9990\n",
            "52/52 [==============================] - 2s 29ms/step - loss: 0.6523 - accuracy: 0.8623\n"
          ]
        }
      ]
    },
    {
      "cell_type": "code",
      "source": [
        "# Print the best parameters and accuracy\n",
        "print('Best Algorithm:', best_algorithm)\n",
        "print('Best Training Percentage:', best_train_percentage)\n",
        "print('Best Validation Percentage:', best_valid_percentage)\n",
        "print('Best Accuracy:', best_accuracy)"
      ],
      "metadata": {
        "colab": {
          "base_uri": "https://localhost:8080/"
        },
        "id": "c2eiw4gfAhv-",
        "outputId": "6a119e93-62fb-4dd7-ee44-e3ffc5f3c9c9"
      },
      "execution_count": null,
      "outputs": [
        {
          "output_type": "stream",
          "name": "stdout",
          "text": [
            "Best Algorithm: RNN\n",
            "Best Training Percentage: 0.8\n",
            "Best Validation Percentage: 0.3\n",
            "Best Accuracy: 0.8622791171073914\n"
          ]
        }
      ]
    },
    {
      "cell_type": "markdown",
      "source": [
        "# **Modal Creation And Deployment✈ :**"
      ],
      "metadata": {
        "id": "hcU5EuRMQrYk"
      }
    },
    {
      "cell_type": "code",
      "source": [
        "import pandas as pd\n",
        "from tensorflow.keras.models import Sequential\n",
        "from tensorflow.keras.layers import Embedding, LSTM, Dense\n",
        "from tensorflow.keras.preprocessing.text import Tokenizer\n",
        "from tensorflow.keras.preprocessing.sequence import pad_sequences\n",
        "from sklearn.preprocessing import LabelEncoder\n",
        "\n",
        "# Load the data into the \"Work_from_data\" dataframe\n",
        "# Assuming you have already loaded the data into the dataframe\n",
        "\n",
        "# Define the features and target variable\n",
        "features = ['clean_text']\n",
        "target = ['sentiment_label']  # Assuming you have a 'sentiment_label' column indicating the sentiment of each tweet\n",
        "\n",
        "# Split the data into features and target\n",
        "X = Work_from_data[features]\n",
        "y = Work_from_data[target]\n",
        "\n",
        "# Split the data into training, validation, and test sets\n",
        "X_train, X_test, y_train, y_test = train_test_split(X, y, test_size=0.4, random_state=42)\n",
        "X_valid, X_test, y_valid, y_test = train_test_split(X_test, y_test, test_size=0.5, random_state=42)\n",
        "\n",
        "# Tokenize the text data for RNN\n",
        "tokenizer = Tokenizer()\n",
        "tokenizer.fit_on_texts(X_train['clean_text'])\n",
        "X_train_seq = tokenizer.texts_to_sequences(X_train['clean_text'])\n",
        "X_valid_seq = tokenizer.texts_to_sequences(X_valid['clean_text'])\n",
        "max_sequence_length = 100\n",
        "X_train_padded = pad_sequences(X_train_seq, maxlen=max_sequence_length)\n",
        "X_valid_padded = pad_sequences(X_valid_seq, maxlen=max_sequence_length)\n",
        "label_encoder = LabelEncoder()\n",
        "y_train_encoded = label_encoder.fit_transform(y_train)\n",
        "y_valid_encoded = label_encoder.transform(y_valid)\n",
        "\n",
        "# Create the RNN model\n",
        "model_rnn = Sequential()\n",
        "model_rnn.add(Embedding(input_dim=len(tokenizer.word_index) + 1, output_dim=100, input_length=max_sequence_length))\n",
        "model_rnn.add(LSTM(100))\n",
        "model_rnn.add(Dense(len(label_encoder.classes_), activation='softmax'))\n",
        "\n",
        "# Compile the RNN model\n",
        "model_rnn.compile(loss='sparse_categorical_crossentropy', optimizer='adam', metrics=['accuracy'])\n",
        "\n",
        "# Train the RNN model on the combined training and validation data\n",
        "model_rnn.fit(X_train_padded, y_train_encoded, epochs=10, batch_size=32)\n",
        "\n",
        "# Save the trained model\n",
        "model_rnn.save('sentiment_analysis_model.h5')\n"
      ],
      "metadata": {
        "colab": {
          "base_uri": "https://localhost:8080/"
        },
        "id": "-HUWyc8lr_mS",
        "outputId": "158a2eb6-7d61-4e4b-e1c8-f0af1bc87204"
      },
      "execution_count": null,
      "outputs": [
        {
          "output_type": "stream",
          "name": "stdout",
          "text": [
            "Epoch 1/10\n",
            "103/103 [==============================] - 19s 142ms/step - loss: 0.7926 - accuracy: 0.6557\n",
            "Epoch 2/10\n",
            "103/103 [==============================] - 12s 118ms/step - loss: 0.2923 - accuracy: 0.8964\n",
            "Epoch 3/10\n",
            "103/103 [==============================] - 15s 147ms/step - loss: 0.0699 - accuracy: 0.9793\n",
            "Epoch 4/10\n",
            "103/103 [==============================] - 12s 117ms/step - loss: 0.0368 - accuracy: 0.9902\n",
            "Epoch 5/10\n",
            "103/103 [==============================] - 12s 116ms/step - loss: 0.0190 - accuracy: 0.9957\n",
            "Epoch 6/10\n",
            "103/103 [==============================] - 14s 131ms/step - loss: 0.0083 - accuracy: 0.9985\n",
            "Epoch 7/10\n",
            "103/103 [==============================] - 25s 244ms/step - loss: 0.0055 - accuracy: 0.9991\n",
            "Epoch 8/10\n",
            "103/103 [==============================] - 14s 139ms/step - loss: 0.0033 - accuracy: 0.9991\n",
            "Epoch 9/10\n",
            "103/103 [==============================] - 13s 124ms/step - loss: 0.0017 - accuracy: 0.9994\n",
            "Epoch 10/10\n",
            "103/103 [==============================] - 14s 135ms/step - loss: 9.5658e-04 - accuracy: 0.9997\n"
          ]
        }
      ]
    },
    {
      "cell_type": "markdown",
      "source": [
        "the code I provided assumes that you have split your data into the training, validation, and test sets using the train_test_split function, and that you have a Work_from_data dataframe containing your original data.\n",
        "\n",
        "To ensure that the code is related to your Work_from_data dataframe, you need to replace the variable names X_train, X_valid, y_train, and y_valid with the corresponding variables from your data."
      ],
      "metadata": {
        "id": "RRagt4a0wB5x"
      }
    },
    {
      "cell_type": "markdown",
      "source": [
        "Split the data into features and target variables for the testing set:"
      ],
      "metadata": {
        "id": "tdGNIn4Wxc3v"
      }
    },
    {
      "cell_type": "code",
      "source": [
        "from sklearn.metrics import accuracy_score, confusion_matrix\n",
        "import matplotlib.pyplot as plt\n",
        "import seaborn as sns\n",
        "from tensorflow.keras.models import load_model\n",
        "\n",
        "# Load the saved model\n",
        "model = load_model('sentiment_analysis_model.h5')\n",
        "\n",
        "# Tokenize the text data of the test set\n",
        "X_test_seq = tokenizer.texts_to_sequences(X_test['clean_text'])\n",
        "X_test_padded = pad_sequences(X_test_seq, maxlen=max_sequence_length)\n",
        "y_test_encoded = label_encoder.transform(y_test)\n",
        "\n",
        "# Predict sentiments on the test set\n",
        "y_test_pred = model.predict(X_test_padded)\n",
        "y_test_pred = label_encoder.inverse_transform(y_test_pred.argmax(axis=1))\n",
        "\n",
        "# Calculate accuracy\n",
        "accuracy = accuracy_score(y_test, y_test_pred)\n",
        "print(\"Accuracy on test set:\", accuracy)\n",
        "\n",
        "# Create a confusion matrix\n",
        "confusion_mat = confusion_matrix(y_test, y_test_pred)\n",
        "\n",
        "# Plot the confusion matrix\n",
        "plt.figure(figsize=(8, 6))\n",
        "sns.heatmap(confusion_mat, annot=True, fmt='d', cmap='Blues')\n",
        "plt.xlabel('Predicted Labels')\n",
        "plt.ylabel('True Labels')\n",
        "plt.title('Confusion Matrix')\n",
        "plt.show()\n"
      ],
      "metadata": {
        "colab": {
          "base_uri": "https://localhost:8080/",
          "height": 599
        },
        "id": "jFqL5_RNwCx6",
        "outputId": "2b4ca7f3-1144-4702-922f-84daf01ab0ab"
      },
      "execution_count": null,
      "outputs": [
        {
          "output_type": "stream",
          "name": "stdout",
          "text": [
            "35/35 [==============================] - 3s 71ms/step\n",
            "Accuracy on test set: 0.8290676416819013\n"
          ]
        },
        {
          "output_type": "display_data",
          "data": {
            "text/plain": [
              "<Figure size 800x600 with 2 Axes>"
            ],
            "image/png": "[encoded data removed]"
          },
          "metadata": {}
        }
      ]
    },
    {
      "cell_type": "code",
      "source": [
        "from sklearn.metrics import accuracy_score, precision_score, recall_score, f1_score, confusion_matrix\n",
        "import matplotlib.pyplot as plt\n",
        "import seaborn as sns\n",
        "from tensorflow.keras.models import load_model\n",
        "\n",
        "# Load the saved model\n",
        "model = load_model('sentiment_analysis_model.h5')\n",
        "\n",
        "# Tokenize the text data of the test set\n",
        "X_test_seq = tokenizer.texts_to_sequences(X_test['clean_text'])\n",
        "X_test_padded = pad_sequences(X_test_seq, maxlen=max_sequence_length)\n",
        "y_test_encoded = label_encoder.transform(y_test)\n",
        "\n",
        "# Predict sentiments on the test set\n",
        "y_test_pred = model.predict(X_test_padded)\n",
        "y_test_pred = label_encoder.inverse_transform(y_test_pred.argmax(axis=1))\n",
        "\n",
        "# Calculate accuracy\n",
        "accuracy = accuracy_score(y_test, y_test_pred)\n",
        "print(\"Accuracy on test set:\", accuracy)\n",
        "\n",
        "# Calculate precision, recall, and F1-score\n",
        "precision = precision_score(y_test, y_test_pred, average='weighted')\n",
        "recall = recall_score(y_test, y_test_pred, average='weighted')\n",
        "f1 = f1_score(y_test, y_test_pred, average='weighted')\n",
        "\n",
        "print(\"Precision:\", precision)\n",
        "print(\"Recall:\", recall)\n",
        "print(\"F1-Score:\", f1)\n",
        "\n",
        "# Create a confusion matrix\n",
        "confusion_mat = confusion_matrix(y_test, y_test_pred)\n",
        "\n",
        "# Plot the confusion matrix\n",
        "plt.figure(figsize=(8, 6))\n",
        "sns.heatmap(confusion_mat, annot=True, fmt='d', cmap='Blues')\n",
        "plt.xlabel('Predicted Labels')\n",
        "plt.ylabel('True Labels')\n",
        "plt.title('Confusion Matrix')\n",
        "plt.show()\n"
      ],
      "metadata": {
        "colab": {
          "base_uri": "https://localhost:8080/",
          "height": 651
        },
        "id": "EJzt6nFSyGsg",
        "outputId": "54174687-5ee9-43d5-d1cc-c47139e053b8"
      },
      "execution_count": null,
      "outputs": [
        {
          "output_type": "stream",
          "name": "stdout",
          "text": [
            "35/35 [==============================] - 3s 41ms/step\n",
            "Accuracy on test set: 0.8290676416819013\n",
            "Precision: 0.8287301899598332\n",
            "Recall: 0.8290676416819013\n",
            "F1-Score: 0.8279369708809234\n"
          ]
        },
        {
          "output_type": "display_data",
          "data": {
            "text/plain": [
              "<Figure size 800x600 with 2 Axes>"
            ],
            "image/png": "[encoded data removed]"
          },
          "metadata": {}
        }
      ]
    },
    {
      "cell_type": "markdown",
      "source": [
        "# **Evaluate Modal Peformance ✈ :**"
      ],
      "metadata": {
        "id": "F86nWFjz3fxv"
      }
    },
    {
      "cell_type": "markdown",
      "source": [
        "Test set: This set is used to evaluate the final performance of your sentiment analysis model. It consists of unseen data that the model has not been exposed to during training or validation. The test set allows you to measure how well your model generalizes to new and unseen data. It provides an unbiased estimate of the model's performance and helps assess its real-world applicability."
      ],
      "metadata": {
        "id": "oxtlxtSYysNq"
      }
    },
    {
      "cell_type": "markdown",
      "source": [
        "Make predictions on the testing set using the best algorithm (RNN) and the trained model:"
      ],
      "metadata": {
        "id": "AU26oICmxlHI"
      }
    },
    {
      "cell_type": "code",
      "source": [
        "# Load the saved model\n",
        "model = load_model('sentiment_analysis_model.h5')\n",
        "\n",
        "# Tokenize the text data of the test set\n",
        "X_test_seq = tokenizer.texts_to_sequences(X_test['clean_text'])\n",
        "X_test_padded = pad_sequences(X_test_seq, maxlen=max_sequence_length)\n",
        "\n",
        "# Predict sentiments on the test set\n",
        "y_test_pred = model.predict(X_test_padded)\n",
        "y_test_pred_labels = label_encoder.inverse_transform(y_test_pred.argmax(axis=1))\n",
        "\n",
        "# Create a new DataFrame with the text and predicted sentiment labels\n",
        "test_results = pd.DataFrame({'Text': X_test['clean_text'], 'Sentiment_label': y_test_pred_labels})\n",
        "\n",
        "# Display the test results\n",
        "print(test_results)\n"
      ],
      "metadata": {
        "colab": {
          "base_uri": "https://localhost:8080/"
        },
        "id": "89UjRfgKzqkf",
        "outputId": "97a8be92-9e10-4bef-dec8-faadcc31e574"
      },
      "execution_count": null,
      "outputs": [
        {
          "output_type": "stream",
          "name": "stdout",
          "text": [
            "35/35 [==============================] - 3s 56ms/step\n",
            "                                                   Text Sentiment_label\n",
            "4229  New Remote Job Teal Backend Engineer\\nApply he...         Neutral\n",
            "3929  For remote workers vacations arent a choice bu...         Neutral\n",
            "5012  on a mission to bring 10B wealth into LATAM by...        Positive\n",
            "1630  Everstream Analytics is hiring Remote Strategi...         Neutral\n",
            "566   RT  According to reports Jamie Foxx is now par...        Negative\n",
            "...                                                 ...             ...\n",
            "856   I will welcome obstacles for they are my chall...        Positive\n",
            "4962  Todays encouraging thoughts WorkFromHome WorkR...        Positive\n",
            "1520  RT  Weve all been given a finite amount of tim...         Neutral\n",
            "679   WFH driving high real estate vacancies and com...        Positive\n",
            "1297   Wow My jeweler pretended not to hear me when ...        Positive\n",
            "\n",
            "[1094 rows x 2 columns]\n"
          ]
        }
      ]
    },
    {
      "cell_type": "markdown",
      "source": [
        "# **Analyze and Interpret the Results ✈ :**"
      ],
      "metadata": {
        "id": "uGLvR_11RLcc"
      }
    },
    {
      "cell_type": "markdown",
      "source": [
        "Which sentiment is Majorty in tweets"
      ],
      "metadata": {
        "id": "A546oGeOyaq_"
      }
    },
    {
      "cell_type": "code",
      "source": [
        "sentiment_counts = test_results['Sentiment_label'].value_counts()\n",
        "print(sentiment_counts)\n"
      ],
      "metadata": {
        "colab": {
          "base_uri": "https://localhost:8080/"
        },
        "id": "lm-K2wLnygMx",
        "outputId": "a1b59041-0c02-49b8-ec78-77e575270b00"
      },
      "execution_count": null,
      "outputs": [
        {
          "output_type": "stream",
          "name": "stdout",
          "text": [
            "Positive    593\n",
            "Neutral     306\n",
            "Negative    195\n",
            "Name: Sentiment_label, dtype: int64\n"
          ]
        }
      ]
    },
    {
      "cell_type": "code",
      "source": [
        "sentiment_counts = test_results['Sentiment_label'].value_counts()\n",
        "highest_sentiment = sentiment_counts.idxmax()\n",
        "print(\"Sentiment label with the highest count:\", highest_sentiment)\n"
      ],
      "metadata": {
        "colab": {
          "base_uri": "https://localhost:8080/"
        },
        "id": "ctmz7gezz7EJ",
        "outputId": "f23e7d0e-42a2-4bee-9dbe-a0e3b5b3d4fa"
      },
      "execution_count": null,
      "outputs": [
        {
          "output_type": "stream",
          "name": "stdout",
          "text": [
            "Sentiment label with the highest count: Positive\n"
          ]
        }
      ]
    },
    {
      "cell_type": "markdown",
      "source": [
        "Analyze and interpret the results: Analyze the outcomes of the sentiment analysis model and interpret the implications of the findings in terms of the effectiveness of work from home after the Covid-19 pandemic."
      ],
      "metadata": {
        "id": "6i4AI-JFVL3J"
      }
    },
    {
      "cell_type": "markdown",
      "source": [
        "Based on the evaluation metrics of the sentiment analysis model, here are the results:\n",
        "\n",
        "Accuracy: 0.8290\n",
        "Precision: 0.8288\n",
        "Recall: 0.8290\n",
        "F1 Score: 0.8280\n",
        "These metrics indicate that the sentiment analysis model performs well in predicting the sentiment of work-from-home-related data. The high accuracy suggests that the model can correctly classify the sentiment of the text data in most cases."
      ],
      "metadata": {
        "id": "I9ontHwMVaT_"
      }
    },
    {
      "cell_type": "markdown",
      "source": [
        "Interpreting the implications of these findings in terms of the effectiveness of work from home after the Covid-19 pandemic, we can draw the following insights:\n",
        "\n",
        "Positive Sentiment: The model's high precision, recall, and F1 score indicate that it accurately identifies positive sentiments related to work from home. This suggests that there is a significant amount of positive sentiment associated with the experience of working from home after the Covid-19 pandemic. Positive sentiments may include increased flexibility, improved work-life balance, reduced commuting time, and the ability to create a personalized work environment.\n",
        "\n",
        "Negative Sentiment: The model's performance also indicates a good ability to identify negative sentiments related to work from home. While the accuracy is high, it's important to note that the precision, recall, and F1 score are slightly lower than for positive sentiments. This suggests that there may be some challenges or drawbacks associated with working from home that are expressed in the text data. Negative sentiments could include feelings of isolation, difficulties in maintaining work-life boundaries, reduced social interactions, and potential productivity challenges."
      ],
      "metadata": {
        "id": "IyCVLMc5VaJA"
      }
    },
    {
      "cell_type": "markdown",
      "source": [
        "Overall, the sentiment analysis model's effectiveness in classifying sentiments related to work from home indicates that there are both positive and negative aspects associated with this work arrangement. This aligns with the broader understanding that work from home can offer benefits and challenges depending on individual circumstances and preferences. Organizations and individuals can leverage these findings to gain insights into the sentiment surrounding work from home and make informed decisions to optimize productivity, well-being, and work arrangements in a post-pandemic world."
      ],
      "metadata": {
        "id": "pPRXeKRHVZ2Y"
      }
    },
    {
      "cell_type": "markdown",
      "source": [
        "# **Visualization ✈ :**"
      ],
      "metadata": {
        "id": "ITe4BIlDRLtX"
      }
    },
    {
      "cell_type": "code",
      "source": [
        "import matplotlib.pyplot as plt\n",
        "import numpy as np\n",
        "\n",
        "# Define the evaluation metric scores for each algorithm\n",
        "accuracy_scores = [accuracy_nb, accuracy_svm, accuracy_rf, accuracy_lr, accuracy_rnn]\n",
        "precision_scores = [precision_nb, precision_svm, precision_rf, precision_lr, precision]\n",
        "recall_scores = [recall_nb, recall_svm, recall_rf, recall_lr, recall]\n",
        "f1_scores = [f1_nb, f1_svm, f1_rf, f1_lr,f1]\n",
        "\n",
        "# Define the algorithms' names\n",
        "algorithms = ['Naïve Bayes', 'SVM', 'Random Forest', 'Logistic Regression', 'RNN']\n",
        "\n",
        "# Create a bar plot for accuracy scores\n",
        "plt.figure(figsize=(10, 6))\n",
        "plt.bar(algorithms, accuracy_scores)\n",
        "plt.xlabel('Algorithms')\n",
        "plt.ylabel('Accuracy')\n",
        "plt.title('Accuracy Scores')\n",
        "plt.show()\n",
        "\n",
        "# Create a bar plot for precision scores\n",
        "plt.figure(figsize=(10, 6))\n",
        "plt.bar(algorithms, precision_scores)\n",
        "plt.xlabel('Algorithms')\n",
        "plt.ylabel('Precision')\n",
        "plt.title('Precision Scores')\n",
        "plt.show()\n",
        "\n",
        "# Create a bar plot for recall scores\n",
        "plt.figure(figsize=(10, 6))\n",
        "plt.bar(algorithms, recall_scores)\n",
        "plt.xlabel('Algorithms')\n",
        "plt.ylabel('Recall')\n",
        "plt.title('Recall Scores')\n",
        "plt.show()\n",
        "\n",
        "# Create a bar plot for F1-scores\n",
        "plt.figure(figsize=(10, 6))\n",
        "plt.bar(algorithms, f1_scores)\n",
        "plt.xlabel('Algorithms')\n",
        "plt.ylabel('F1-Score')\n",
        "plt.title('F1-Scores')\n",
        "plt.show()\n"
      ],
      "metadata": {
        "colab": {
          "base_uri": "https://localhost:8080/",
          "height": 1000
        },
        "id": "yBF2wKmfWcQ0",
        "outputId": "bd0c6197-1379-4819-bbfc-9bc196cc974d"
      },
      "execution_count": null,
      "outputs": [
        {
          "output_type": "display_data",
          "data": {
            "text/plain": [
              "<Figure size 1000x600 with 1 Axes>"
            ],
            "image/png": "[encoded data removed]"
          },
          "metadata": {}
        },
        {
          "output_type": "display_data",
          "data": {
            "text/plain": [
              "<Figure size 1000x600 with 1 Axes>"
            ],
            "image/png": "[encoded data removed]"
          },
          "metadata": {}
        },
        {
          "output_type": "display_data",
          "data": {
            "text/plain": [
              "<Figure size 1000x600 with 1 Axes>"
            ],
            "image/png": "[encoded data removed]"
          },
          "metadata": {}
        },
        {
          "output_type": "display_data",
          "data": {
            "text/plain": [
              "<Figure size 1000x600 with 1 Axes>"
            ],
            "image/png": "[encoded data removed]"
          },
          "metadata": {}
        }
      ]
    },
    {
      "cell_type": "code",
      "source": [
        "import matplotlib.pyplot as plt\n",
        "\n",
        "# Define the accuracy scores for each algorithm\n",
        "accuracy_scores = [accuracy_nb, accuracy_svm, accuracy_rf, accuracy_lr, accuracy_rnn]\n",
        "\n",
        "# Define the algorithms' names\n",
        "algorithms = ['Naïve Bayes', 'SVM', 'Random Forest', 'Logistic Regression', 'RNN']\n",
        "\n",
        "# Create a bar plot for accuracy scores\n",
        "plt.figure(figsize=(10, 6))\n",
        "plt.bar(algorithms, accuracy_scores)\n",
        "plt.xlabel('Algorithms')\n",
        "plt.ylabel('Accuracy')\n",
        "plt.title('Accuracy Scores')\n",
        "plt.show()\n"
      ],
      "metadata": {
        "colab": {
          "base_uri": "https://localhost:8080/",
          "height": 564
        },
        "id": "FKlBOxRte8QW",
        "outputId": "0a30e32f-5d03-44da-efee-28dd34806837"
      },
      "execution_count": null,
      "outputs": [
        {
          "output_type": "display_data",
          "data": {
            "text/plain": [
              "<Figure size 1000x600 with 1 Axes>"
            ],
            "image/png": "[encoded data removed]"
          },
          "metadata": {}
        }
      ]
    },
    {
      "cell_type": "code",
      "source": [
        "import matplotlib.pyplot as plt\n",
        "\n",
        "# Define the accuracy scores for each algorithm\n",
        "accuracy_scores = [accuracy, accuracy_svm, accuracy_rf, accuracy_lr, accuracy_rnn]\n",
        "\n",
        "# Define the algorithms' names\n",
        "algorithms = ['Naïve Bayes', 'SVM', 'Random Forest', 'Logistic Regression', 'RNN']\n",
        "\n",
        "# Create a line plot for accuracy scores\n",
        "plt.figure(figsize=(10, 6))\n",
        "plt.plot(algorithms, accuracy_scores, marker='o')\n",
        "plt.xlabel('Algorithms')\n",
        "plt.ylabel('Accuracy')\n",
        "plt.title('Accuracy Scores Comparison')\n",
        "plt.grid(True)\n",
        "plt.show()\n"
      ],
      "metadata": {
        "colab": {
          "base_uri": "https://localhost:8080/",
          "height": 564
        },
        "id": "K-8OZLQ_e8NH",
        "outputId": "915cac23-3b34-4be8-9fe9-511a26940295"
      },
      "execution_count": null,
      "outputs": [
        {
          "output_type": "display_data",
          "data": {
            "text/plain": [
              "<Figure size 1000x600 with 1 Axes>"
            ],
            "image/png": "[encoded data removed]"
          },
          "metadata": {}
        }
      ]
    },
    {
      "cell_type": "code",
      "source": [
        "import matplotlib.pyplot as plt\n",
        "\n",
        "# Count the number of positive, negative, and neutral tweets\n",
        "positive_count = Work_from_data['sentiment_label'].value_counts()['Positive']\n",
        "negative_count = Work_from_data['sentiment_label'].value_counts()['Negative']\n",
        "neutral_count = Work_from_data['sentiment_label'].value_counts()['Neutral']\n",
        "\n",
        "# Create a list of counts and labels\n",
        "counts = [positive_count, negative_count, neutral_count]\n",
        "labels = ['Positive', 'Negative', 'Neutral']\n",
        "\n",
        "# Create a pie chart\n",
        "plt.figure(figsize=(6, 6))\n",
        "plt.pie(counts, labels=labels, autopct='%1.1f%%', startangle=90)\n",
        "plt.title('Overall Sentiment Distribution')\n",
        "plt.axis('equal')\n",
        "plt.show()\n"
      ],
      "metadata": {
        "colab": {
          "base_uri": "https://localhost:8080/",
          "height": 521
        },
        "id": "MCBBUt2Me8BX",
        "outputId": "61fd5d70-8848-4a20-b24f-606ce8443a70"
      },
      "execution_count": null,
      "outputs": [
        {
          "output_type": "display_data",
          "data": {
            "text/plain": [
              "<Figure size 600x600 with 1 Axes>"
            ],
            "image/png": "[encoded data removed]"
          },
          "metadata": {}
        }
      ]
    },
    {
      "cell_type": "code",
      "source": [
        "import matplotlib.pyplot as plt\n",
        "\n",
        "# Count the number of positive, negative, and neutral tweets\n",
        "positive_count = Work_from_data['sentiment_label'].value_counts()['Positive']\n",
        "negative_count = Work_from_data['sentiment_label'].value_counts()['Negative']\n",
        "neutral_count = Work_from_data['sentiment_label'].value_counts()['Neutral']\n",
        "\n",
        "# Create a list of counts and labels\n",
        "counts = [positive_count, negative_count, neutral_count]\n",
        "labels = ['Positive', 'Negative', 'Neutral']\n",
        "\n",
        "# Create a bar chart\n",
        "plt.bar(labels, counts)\n",
        "plt.title('Overall Sentiment Distribution')\n",
        "plt.xlabel('Sentiment')\n",
        "plt.ylabel('Count')\n",
        "plt.show()\n"
      ],
      "metadata": {
        "colab": {
          "base_uri": "https://localhost:8080/",
          "height": 472
        },
        "id": "LfYR5RQkgemN",
        "outputId": "67bd71bd-2570-4dee-ea19-a2fa25e18926"
      },
      "execution_count": null,
      "outputs": [
        {
          "output_type": "display_data",
          "data": {
            "text/plain": [
              "<Figure size 640x480 with 1 Axes>"
            ],
            "image/png": "[encoded data removed]"
          },
          "metadata": {}
        }
      ]
    },
    {
      "cell_type": "code",
      "source": [
        "import matplotlib.pyplot as plt\n",
        "\n",
        "# Explore the location column\n",
        "location_counts = Work_from_data['location'].value_counts()\n",
        "\n",
        "# Select the top 10 locations with the highest counts\n",
        "top_locations = location_counts.head(10)\n",
        "\n",
        "# Create a horizontal bar chart\n",
        "plt.barh(top_locations.index, top_locations.values)\n",
        "plt.title('Top 10 Locations')\n",
        "plt.xlabel('Count')\n",
        "plt.ylabel('Location')\n",
        "plt.show()\n"
      ],
      "metadata": {
        "colab": {
          "base_uri": "https://localhost:8080/",
          "height": 472
        },
        "id": "go9zbR7Tg6y2",
        "outputId": "6f2d3edd-118a-4fb9-d5b5-3a2be527a0f8"
      },
      "execution_count": null,
      "outputs": [
        {
          "output_type": "display_data",
          "data": {
            "text/plain": [
              "<Figure size 640x480 with 1 Axes>"
            ],
            "image/png": "[encoded data removed]"
          },
          "metadata": {}
        }
      ]
    },
    {
      "cell_type": "markdown",
      "source": [
        "# **Summary of Modal**"
      ],
      "metadata": {
        "id": "F5YHum0K5G2u"
      }
    },
    {
      "cell_type": "markdown",
      "source": [
        "Modal output like this:\n",
        "The trained sentiment analysis model can be used in your GUI to predict the sentiment (positive, negative, or neutral) of any text related to work from related tweets. It can provide accuracy, precision, recall, and F1-score metrics to evaluate the performance of the model on the predicted sentiments. Additionally, you can generate visualizations such as confusion matrices to gain insights into the model's predictions and the distribution of sentiment labels.\n",
        "\n",
        "By utilizing the model, you can input a text and obtain the predicted sentiment label along with the evaluation metrics and visualizations to analyze the sentiment of work from related tweets."
      ],
      "metadata": {
        "id": "YladZrAb4nam"
      }
    },
    {
      "cell_type": "code",
      "source": [
        "import pandas as pd\n",
        "\n",
        "# Load the saved model\n",
        "model = load_model('sentiment_analysis_model.h5')\n",
        "\n",
        "# Tokenize the example text\n",
        "example_text = \"I like to do work from home method\"\n",
        "example_text_seq = tokenizer.texts_to_sequences([example_text])\n",
        "example_text_padded = pad_sequences(example_text_seq, maxlen=max_sequence_length)\n",
        "\n",
        "# Predict the sentiment for the example text\n",
        "example_text_pred = model.predict(example_text_padded)\n",
        "example_text_pred_label = label_encoder.inverse_transform(example_text_pred.argmax(axis=1))\n",
        "\n",
        "# Create a DataFrame with the example text and predicted sentiment label\n",
        "example_result = pd.DataFrame({'Text': [example_text], 'Sentiment_label': example_text_pred_label})\n",
        "\n",
        "\n",
        "# Display the result\n",
        "print(example_result)\n"
      ],
      "metadata": {
        "colab": {
          "base_uri": "https://localhost:8080/"
        },
        "id": "SeaxyU2h5NGu",
        "outputId": "f1185bf1-4a74-4c88-cf66-42012c6659fa"
      },
      "execution_count": null,
      "outputs": [
        {
          "output_type": "stream",
          "name": "stderr",
          "text": [
            "WARNING:tensorflow:6 out of the last 43 calls to <function Model.make_predict_function.<locals>.predict_function at 0x78b8f8768f70> triggered tf.function retracing. Tracing is expensive and the excessive number of tracings could be due to (1) creating @tf.function repeatedly in a loop, (2) passing tensors with different shapes, (3) passing Python objects instead of tensors. For (1), please define your @tf.function outside of the loop. For (2), @tf.function has reduce_retracing=True option that can avoid unnecessary retracing. For (3), please refer to https://www.tensorflow.org/guide/function#controlling_retracing and https://www.tensorflow.org/api_docs/python/tf/function for  more details.\n"
          ]
        },
        {
          "output_type": "stream",
          "name": "stdout",
          "text": [
            "1/1 [==============================] - 1s 677ms/step\n",
            "                                 Text Sentiment_label\n",
            "0  I like to do work from home method        Positive\n"
          ]
        }
      ]
    },
    {
      "cell_type": "code",
      "source": [
        "!pip install emoji"
      ],
      "metadata": {
        "colab": {
          "base_uri": "https://localhost:8080/"
        },
        "id": "5EvezaX67Oxu",
        "outputId": "7d4e4207-49ce-445a-8497-64b04314c4e5"
      },
      "execution_count": null,
      "outputs": [
        {
          "output_type": "stream",
          "name": "stdout",
          "text": [
            "Collecting emoji\n",
            "  Downloading emoji-2.6.0.tar.gz (356 kB)\n",
            "\u001b[?25l     \u001b[90m━━━━━━━━━━━━━━━━━━━━━━━━━━━━━━━━━━━━━━━━\u001b[0m \u001b[32m0.0/356.6 kB\u001b[0m \u001b[31m?\u001b[0m eta \u001b[36m-:--:--\u001b[0m\r\u001b[2K     \u001b[91m━━━━━━━━━━━━━━━━━━━━━━━━━━━━\u001b[0m\u001b[90m╺\u001b[0m\u001b[90m━━━━━━━━━━\u001b[0m \u001b[32m256.0/356.6 kB\u001b[0m \u001b[31m7.5 MB/s\u001b[0m eta \u001b[36m0:00:01\u001b[0m\r\u001b[2K     \u001b[90m━━━━━━━━━━━━━━━━━━━━━━━━━━━━━━━━━━━━━━━\u001b[0m \u001b[32m356.6/356.6 kB\u001b[0m \u001b[31m6.6 MB/s\u001b[0m eta \u001b[36m0:00:00\u001b[0m\n",
            "\u001b[?25h  Preparing metadata (setup.py) ... \u001b[?25l\u001b[?25hdone\n",
            "Building wheels for collected packages: emoji\n",
            "  Building wheel for emoji (setup.py) ... \u001b[?25l\u001b[?25hdone\n",
            "  Created wheel for emoji: filename=emoji-2.6.0-py2.py3-none-any.whl size=351311 sha256=3e79788d67678e0808435787832ee46b51e52159f845b6f6a1a10b919bcd437b\n",
            "  Stored in directory: /root/.cache/pip/wheels/ea/0b/64/114bc939d0083621aa41521e21be246c888260b8aa21e6c1ad\n",
            "Successfully built emoji\n",
            "Installing collected packages: emoji\n",
            "Successfully installed emoji-2.6.0\n"
          ]
        }
      ]
    },
    {
      "cell_type": "markdown",
      "source": [
        "**I input sample datas and check output under my modal**"
      ],
      "metadata": {
        "id": "z1KmOJxz-WI1"
      }
    },
    {
      "cell_type": "code",
      "source": [
        "import pandas as pd\n",
        "import tensorflow as tf\n",
        "\n",
        "# Load the saved model\n",
        "model = tf.keras.models.load_model('sentiment_analysis_model.h5')\n",
        "\n",
        "# Tokenize the example texts\n",
        "example_texts = [\n",
        "    \"RT  Crisp chrome metal signatures add the perfect final touch This laptop sleeve is not only modern amp stylish it is also padded\",\n",
        "    \"Today  How WFH is impacting the suburbs and the Wall Street Report coming to you from Henderson NV \",\n",
        "    \"I just entered to win portable external monitors from RemoteSource and you can too giveaway homeoffice remotework wfh \",\n",
        "    \"OMG YOU You left the COVID19 hoax the plandemic you planned with the ones above you the fake vaccine that you used to poison the nations and now you talk about some fake refugees Really\"\n",
        "]\n",
        "\n",
        "example_texts_seq = tokenizer.texts_to_sequences(example_texts)\n",
        "example_texts_padded = pad_sequences(example_texts_seq, maxlen=max_sequence_length)\n",
        "\n",
        "\n",
        "\n",
        "# Define a prediction function to avoid retracing warnings\n",
        "@tf.function\n",
        "def predict_sentiment(text):\n",
        "    return model(text, training=False)\n",
        "\n",
        "# Predict the sentiment for the example texts\n",
        "example_texts_pred = predict_sentiment(example_texts_padded)\n",
        "example_texts_pred_labels = label_encoder.inverse_transform(tf.keras.backend.eval(example_texts_pred).argmax(axis=1))\n",
        "\n",
        "# Map sentiment labels to emojis\n",
        "emojis = {\n",
        "    'Positive': \"😊\",\n",
        "    'Negative': \"😞\",\n",
        "    'Neutral': \"😐\"\n",
        "}\n",
        "\n",
        "# Create a DataFrame with the example texts, predicted sentiment labels, and emojis\n",
        "example_results = pd.DataFrame({'Text': example_texts, 'Sentiment_label': example_texts_pred_labels})\n",
        "example_results['Emoji'] = example_results['Sentiment_label'].map(emojis)\n",
        "\n",
        "# Display the results\n",
        "print(example_results)\n"
      ],
      "metadata": {
        "colab": {
          "base_uri": "https://localhost:8080/"
        },
        "id": "423VdDsd7Hq9",
        "outputId": "aa2feaec-d58b-42fb-d1f4-2903c9f263ed"
      },
      "execution_count": null,
      "outputs": [
        {
          "output_type": "stream",
          "name": "stdout",
          "text": [
            "                                                Text Sentiment_label Emoji\n",
            "0  RT  Crisp chrome metal signatures add the perf...        Positive     😊\n",
            "1  Today  How WFH is impacting the suburbs and th...         Neutral     😐\n",
            "2  I just entered to win portable external monito...        Positive     😊\n",
            "3  OMG YOU You left the COVID19 hoax the plandemi...        Negative     😞\n"
          ]
        }
      ]
    },
    {
      "cell_type": "markdown",
      "source": [
        "**Small visualization**"
      ],
      "metadata": {
        "id": "IP2AyJTCDh9R"
      }
    },
    {
      "cell_type": "code",
      "source": [
        "import matplotlib.pyplot as plt\n",
        "\n",
        "# Count the number of texts in each sentiment category\n",
        "sentiment_counts = example_results['Sentiment_label'].value_counts()\n",
        "\n",
        "# Create a bar plot\n",
        "plt.bar(sentiment_counts.index, sentiment_counts.values)\n",
        "plt.xlabel('Sentiment')\n",
        "plt.ylabel('Count')\n",
        "plt.title('Distribution of Sentiment Labels')\n",
        "plt.show()\n"
      ],
      "metadata": {
        "colab": {
          "base_uri": "https://localhost:8080/",
          "height": 472
        },
        "id": "mvzolTVtDX7o",
        "outputId": "887b5b82-7ee9-4434-afd4-6a6d5e39aafe"
      },
      "execution_count": null,
      "outputs": [
        {
          "output_type": "display_data",
          "data": {
            "text/plain": [
              "<Figure size 640x480 with 1 Axes>"
            ],
            "image/png": "[encoded data removed]"
          },
          "metadata": {}
        }
      ]
    },
    {
      "cell_type": "markdown",
      "source": [
        "Pie Chart:"
      ],
      "metadata": {
        "id": "WUnCTmKuEOR8"
      }
    },
    {
      "cell_type": "code",
      "source": [
        "# Create a pie chart\n",
        "plt.pie(sentiment_counts.values, labels=sentiment_counts.index, autopct='%1.1f%%')\n",
        "plt.title('Proportions of Sentiment Labels')\n",
        "plt.axis('equal')\n",
        "plt.show()\n"
      ],
      "metadata": {
        "colab": {
          "base_uri": "https://localhost:8080/",
          "height": 428
        },
        "id": "ko9DegbvDX4I",
        "outputId": "85984056-ca56-4cb2-e7e8-65b8dd1fec52"
      },
      "execution_count": null,
      "outputs": [
        {
          "output_type": "display_data",
          "data": {
            "text/plain": [
              "<Figure size 640x480 with 1 Axes>"
            ],
            "image/png": "[encoded data removed]"
          },
          "metadata": {}
        }
      ]
    },
    {
      "cell_type": "markdown",
      "source": [
        "Confusion Matrix:"
      ],
      "metadata": {
        "id": "WsPMr9XzEii0"
      }
    },
    {
      "cell_type": "code",
      "source": [
        "from sklearn.metrics import confusion_matrix\n",
        "import matplotlib.pyplot as plt\n",
        "import seaborn as sns\n",
        "\n",
        "# Extract the true sentiment labels and predicted sentiment labels\n",
        "true_labels = example_results['Sentiment_label']\n",
        "predicted_labels = example_results['Sentiment_label']\n",
        "\n",
        "# Create the confusion matrix\n",
        "confusion_mat = confusion_matrix(true_labels, predicted_labels)\n",
        "\n",
        "# Plot the confusion matrix\n",
        "plt.figure(figsize=(8, 6))\n",
        "sns.heatmap(confusion_mat, annot=True, fmt='d', cmap='Blues')\n",
        "plt.xlabel('Predicted Labels')\n",
        "plt.ylabel('True Labels')\n",
        "plt.title('Confusion Matrix')\n",
        "plt.show()\n"
      ],
      "metadata": {
        "colab": {
          "base_uri": "https://localhost:8080/",
          "height": 564
        },
        "id": "sPv2w4ATG87L",
        "outputId": "b0e66c2a-05d0-4105-d8d4-0423b33a9218"
      },
      "execution_count": 106,
      "outputs": [
        {
          "output_type": "display_data",
          "data": {
            "text/plain": [
              "<Figure size 800x600 with 2 Axes>"
            ],
            "image/png": "[encoded data removed]"
          },
          "metadata": {}
        }
      ]
    },
    {
      "cell_type": "markdown",
      "source": [
        "In this research, data was obtained from tweets using the Twitter API. The necessary steps, including exploratory data analysis, preprocessing, and utilizing NLP techniques, were performed. The data was split into three sets, and feature extraction was applied. A modal was developed, and the algorithm selection process resulted in the RNN being identified as the best algorithm. The modal was fine-tuned and validated, and subsequently created and deployed. The performance of the modal was evaluated, and various visualizations were generated.\n",
        "\n",
        "**Overall, the research successfully achieved the sentiment goal, with the RNN identified as the best algorithm.**\n",
        "\n",
        "RNN stands for Recurrent Neural Network. It is a type of neural network architecture that is well-suited for processing sequential data, such as text or time series data. RNNs have recurrent connections that allow them to retain information from previous steps in the sequence, making them effective for tasks that involve analyzing sequential patterns and dependencies. In the context of sentiment analysis, RNNs can effectively capture the contextual information and dependencies between words in a sentence, enabling them to make accurate predictions about the sentiment expressed in the text.\n",
        "Therefore, concluding that **RNN** is the best algorithm for your sentiment analysis of Twitter tweets is a valid outcome based on your research and evaluation."
      ],
      "metadata": {
        "id": "OZbN6uqQIhpo"
      }
    },
    {
      "cell_type": "markdown",
      "source": [
        "***Research By\n",
        "Thisakaran Rasalingam*** | ***Department of software engineering in FCT ,University of Kelaniya***"
      ],
      "metadata": {
        "id": "P_KInCodBdXd"
      }
    }
  ]
}